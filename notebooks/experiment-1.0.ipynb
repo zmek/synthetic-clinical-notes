{
 "cells": [
  {
   "cell_type": "markdown",
   "metadata": {},
   "source": [
    "# Experiment 1.0\n",
    "\n",
    "In this first experiment I simply want to try generating some synthetic patients notes. The goal is: \n",
    "\n",
    "* Demonstrate an example of calling the ChatGPT API \n",
    "* Solve some of the problems in formatting output\n",
    "* Use ChatGPT to (a) pick a medical condition and (b) generate an admission note given some simple patient details\n",
    "* Evaluate the output for (a) successful generation of text (b) plausibility of admission note\n",
    "\n",
    "In order to seed the LLM with some patient information, I start with some patient parameters provided by synthetic data. NHS England prepared a synthetic dataset of A&E presentations. A blog post about it is [here](https://open-innovations.org/blog/2019-01-24-exploring-methods-for-creating-synthetic-a-e-data). The dataset can be accessed from [this website](https://data.england.nhs.uk/dataset/a-e-synthetic-data/resource/81b068e5-6501-4840-a880-a8e7aa56890e#). \n",
    "\n",
    "Unfortunately, there is no data dictionary. Therefore, here I only use data which can be intuively understood ie:  \n",
    "\n",
    "* Age_Band\n",
    "* AE_Arrive_HourOfDay\n",
    "* AE_Time_Mins\n",
    "* Admitted_Flag - assuming 1 means yes\n",
    "* ICD10_Chapter_Code - for more see [Wikipedia](https://en.wikipedia.org/wiki/ICD-10)\n",
    "* Length_Of_Stay_Days\n",
    "\n",
    "A notebook exploring these columns is [here](explore-nhse-ae-data.ipynb)\n",
    "\n",
    "This dataset provides, among other things, the hospital length of stay and whether the patient was admitted. As my interest is in clinical notes that are generated during hospital visits, I'm more interested in inpatients. I will use the length of stay information to ask ChatGPT to pick a medical condition that would merit inpatient admission. I also investigate whether, by giving the lengh of stay information, the admission note would indicate a severity that could plausibly (at least barring any unexpected developments in the patient's trajectory) result in a such a stay. \n",
    "\n",
    "Therefore, I propose to evaluate the admission notes: \n",
    "* on their readability as admission notes (although as I am not medical, I cannot do a full evaluation)\n",
    "* on the plausbility of the medical condition chosen by ChatGPT leading to a hospital visit of this length\n"
   ]
  },
  {
   "cell_type": "markdown",
   "metadata": {},
   "source": [
    "## Set up"
   ]
  },
  {
   "cell_type": "code",
   "execution_count": 46,
   "metadata": {},
   "outputs": [],
   "source": [
    "# Reload functions every time\n",
    "%load_ext autoreload \n",
    "%autoreload 2"
   ]
  },
  {
   "cell_type": "code",
   "execution_count": 47,
   "metadata": {},
   "outputs": [],
   "source": [
    "# Load libraries\n",
    "import sys\n",
    "import os\n",
    "import pandas as pd\n",
    "from pathlib import Path\n",
    "\n",
    "import seaborn as sns\n",
    "import matplotlib.pyplot as plt\n",
    "import warnings\n",
    "warnings.filterwarnings(\"ignore\", category=FutureWarning)\n",
    "\n",
    "\n",
    "# Import the variables that have been set in the init.py folder in the root directory\n",
    "# These include a constant called PROJECT_ROOT which stores the absolute path to this folder\n",
    "sys.path.append(os.path.abspath(os.path.join(os.getcwd(), os.pardir)))\n",
    "import init\n",
    "PROJECT_ROOT = os.getenv(\"PROJECT_ROOT\")\n",
    "\n",
    "# Add the src folder to sys path, so that the application knows to look there for libraries\n",
    "sys.path.append(str(Path(PROJECT_ROOT) / 'src'))\n",
    "\n",
    "# Import function to load data\n",
    "from data_ingestion.load_data import load_nhse_data\n",
    "\n",
    "from utils.write_to_json import write_to_json\n",
    "from utils.load_from_json import load_from_json\n",
    "\n"
   ]
  },
  {
   "cell_type": "markdown",
   "metadata": {},
   "source": [
    "## Load data\n",
    "\n",
    "Here the function called load_file()  \n",
    "\n",
    "* check if the NHS England datset has already been saved in a local folder called data_store in a parquet format; if so the function returns it\n",
    "* if not, it checks for the zip file from the NHSE website and if not downloads it, unzips it and saves it \n",
    "* the file is unzipped to csv and read as as pandas dataframe and saved to parquet format"
   ]
  },
  {
   "cell_type": "code",
   "execution_count": 48,
   "metadata": {},
   "outputs": [],
   "source": [
    "ed = load_nhse_data()\n",
    "# ed.head()"
   ]
  },
  {
   "cell_type": "code",
   "execution_count": 49,
   "metadata": {},
   "outputs": [
    {
     "name": "stdout",
     "output_type": "stream",
     "text": [
      "2014-03-23 00:00:00\n",
      "2018-03-22 00:00:00\n"
     ]
    }
   ],
   "source": [
    "print(min(ed.AE_Arrive_Date))\n",
    "print(max(ed.AE_Arrive_Date))"
   ]
  },
  {
   "cell_type": "markdown",
   "metadata": {},
   "source": [
    "As noted above, we will only use the following columns initially:"
   ]
  },
  {
   "cell_type": "code",
   "execution_count": 4,
   "metadata": {},
   "outputs": [],
   "source": [
    "# ed[['Age_Band', 'AE_Arrive_HourOfDay', 'AE_Time_Mins', 'Admitted_Flag', 'Length_Of_Stay_Days', 'ICD10_Chapter_Code', 'Title']].head()"
   ]
  },
  {
   "cell_type": "markdown",
   "metadata": {},
   "source": [
    "## Generate an instance of a patient using the dataset\n",
    "\n",
    "Here we call a script that contains a class definition called Patient.To see the script, go to [../src/functions/patient_class.py](../src/functions/patient_class.py) An instance of this class, here referred to as a persona, is a single Patient. The instance is populated with all the variables retrieved from a single row of the ED dataset loaded above.\n",
    "\n",
    "The steps are the following:\n",
    "* select a row from the A&E data\n",
    "* pass the row information to the class definition\n",
    "\n",
    "In addition, as part of creating the persona, a call to ChatGPT is made using the OpenAI API. Certain details about the patient (listed below) are embedded into the prompt to be passed in. ChatGPT is asked to generate a medical condition, and an admission note. \n",
    "\n",
    "A sub-function [pick_medical_condition()](../src/functions/pick_medical_condition.py) is called to populate three additional attributes of the persona: the medical condition, their admission note, and their most recent note (which is this case is the admission note, but later this attribute could be something else like a progress note). \n",
    "\n",
    "The script [pick_medical_condition()](../src/functions/pick_medical_condition.py)\n",
    "\n",
    "* calls a function [generate_prompt_presenting_condition()](../src/functions/pick_medical_condition.py) (scroll down the file) which populates a ChatGPT prompt with details about the patient. The prompt contains ChatGPT's instructions and requests the ouput in a json format. To see the text of the prompt, go to [pick_medical_condition.txt](../templates/prompt_templates/pick_medical_condition.txt)\n",
    "* calls ChatGPT with the prompt. Functions used to call ChatGPT are in [prompt_functions.py](../src/functions/prompt_functions.py)\n",
    "* attempts to parse the json output\n",
    "\n",
    "\n"
   ]
  },
  {
   "cell_type": "code",
   "execution_count": 50,
   "metadata": {},
   "outputs": [
    {
     "data": {
      "text/plain": [
       "id                                                  10000\n",
       "Age_Band                                            65-84\n",
       "AE_Arrive_HourOfDay                                 09-12\n",
       "AE_Time_Mins                                          370\n",
       "Length_Of_Stay_Days                                  12.0\n",
       "ICD10_Chapter_Code                                     IX\n",
       "Title                  Diseases of the circulatory system\n",
       "Name: 10000, dtype: object"
      ]
     },
     "execution_count": 50,
     "metadata": {},
     "output_type": "execute_result"
    }
   ],
   "source": [
    "ed[['id','Age_Band', 'AE_Arrive_HourOfDay', 'AE_Time_Mins',  'Length_Of_Stay_Days', 'ICD10_Chapter_Code', 'Title']].iloc[10000]"
   ]
  },
  {
   "cell_type": "code",
   "execution_count": 202,
   "metadata": {},
   "outputs": [],
   "source": [
    "from functions.patient_class import Patient\n",
    "\n",
    "def row_to_patient(row):\n",
    "    return Patient(*row)"
   ]
  },
  {
   "cell_type": "code",
   "execution_count": 203,
   "metadata": {},
   "outputs": [
    {
     "name": "stdout",
     "output_type": "stream",
     "text": [
      "id                                                              10000\n",
      "IMD_Decile_From_LSOA                                              4.0\n",
      "Age_Band                                                        65-84\n",
      "Sex                                                               1.0\n",
      "AE_Arrive_Date                                    2016-11-24 00:00:00\n",
      "AE_Arrive_HourOfDay                                             09-12\n",
      "AE_Time_Mins                                                      370\n",
      "AE_HRG                                                           High\n",
      "AE_Num_Diagnoses                                                    1\n",
      "AE_Num_Investigations                                               6\n",
      "AE_Num_Treatments                                                   6\n",
      "AE_Arrival_Mode                                                     1\n",
      "Provider_Patient_Distance_Miles                                   6.0\n",
      "ProvID                                                          15179\n",
      "Admitted_Flag                                                     1.0\n",
      "Admission_Method                                                   21\n",
      "ICD10_Chapter_Code                                                 IX\n",
      "Treatment_Function_Code                                         OTHER\n",
      "Length_Of_Stay_Days                                              12.0\n",
      "Chapter                                                            IX\n",
      "Block                                                         I00–I99\n",
      "Title                              Diseases of the circulatory system\n",
      "Name: 10000, dtype: object\n"
     ]
    }
   ],
   "source": [
    "persona = ed[ed.Title == \"Diseases of the circulatory system\"].iloc[10000]\n",
    "print(persona)\n",
    "Pat = row_to_patient(persona)\n"
   ]
  },
  {
   "cell_type": "markdown",
   "metadata": {},
   "source": [
    "The medical condition has been generated by ChatGPT based on the prompt inputted"
   ]
  },
  {
   "cell_type": "code",
   "execution_count": 205,
   "metadata": {},
   "outputs": [
    {
     "data": {
      "text/plain": [
       "'Coronary artery disease'"
      ]
     },
     "execution_count": 205,
     "metadata": {},
     "output_type": "execute_result"
    }
   ],
   "source": [
    "Pat.Medical_Condition\n"
   ]
  },
  {
   "cell_type": "code",
   "execution_count": 206,
   "metadata": {},
   "outputs": [
    {
     "data": {
      "text/plain": [
       "\"Chief Complaint:\\nThe patient presented to the Accident & Emergency Department with complaints of chest pain and shortness of breath.\\n\\nHistory of Present Illness:\\nThe patient, a 65-84-year-old male, reported experiencing intermittent episodes of chest pain for the past week. The pain typically occurs during physical exertion and is relieved by rest. Additionally, the patient has been experiencing episodes of shortness of breath, especially during exertion or lying flat. There is no associated cough or wheezing.\\n\\nPast Medical History:\\nThe patient has a known history of hypertension and dyslipidemia. He is a current smoker with a 30 pack-year smoking history. There is no past history of coronary artery disease, congestive heart failure, or stroke.\\n\\nPhysical Examination:\\nUpon examination, the patient appears in mild distress due to chest pain. Vital signs are stable with a blood pressure of 130/80 mmHg, heart rate of 80 bpm, respiratory rate of 18 breaths/min, and oxygen saturation of 98% on room air. Cardiovascular examination reveals regular rate and rhythm with no murmurs, rubs, or gallops. Breath sounds are clear bilaterally.\\n\\nAssessment:\\nBased on the patient's symptoms, history, and physical examination findings, the most likely diagnosis is coronary artery disease.\\n\\nPlan:\\n1. Admission to the hospital for further evaluation and management.\\n2. Continuous monitoring of vital signs.\\n3. EKG to assess for any evidence of ischemia or arrhythmia.\\n4. Cardiac enzymes to evaluate for myocardial injury.\\n5. Chest X-ray to evaluate for any evidence of heart failure or pulmonary edema.\\n6. Transthoracic echocardiogram to assess cardiac function and anatomy.\\n7. Initiation of antiplatelet therapy, beta-blocker, and statin therapy.\\n8. Cardiology consultation for further management.\\n9. Lifestyle modifications including smoking cessation, regular exercise, and dietary changes.\\n\\nAdditional considerations:\\nThe patient's prolonged stay in the Emergency Department and the expected length of hospital stay of 12.0 days indicate the severity of his condition and the need for comprehensive evaluation and management.\""
      ]
     },
     "execution_count": 206,
     "metadata": {},
     "output_type": "execute_result"
    }
   ],
   "source": [
    "Pat.Admission_Note"
   ]
  },
  {
   "cell_type": "markdown",
   "metadata": {},
   "source": [
    "If the admission note is not generated, the following code may help for debugging. Note that you need to \n",
    "* uncomment the lines in patient_class.py to return the whole content string\n",
    "* uncomment the line return(content) in pick_medical_condition.py"
   ]
  },
  {
   "cell_type": "code",
   "execution_count": 179,
   "metadata": {},
   "outputs": [],
   "source": [
    "# import ast\n",
    "\n",
    "# def process_response(content):\n",
    "#     print(\"trying string replace\")\n",
    "#     try: \n",
    "#         content = content.replace(\"\\n\", \"\")\n",
    "#         print(type(content))\n",
    "#     except:\n",
    "#         print(\"failed on string replace\")\n",
    "#     print(\"trying json load\")\n",
    "#     try: \n",
    "#         content_json = json.loads(content)\n",
    "#         print(type(content_json))\n",
    "#     except:\n",
    "#         print(\"failed on json.loads\")\n",
    "\n",
    "#     print(\"trying json load with ast\")\n",
    "#     try: \n",
    "#         content_json = ast.literal_eval(content)\n",
    "#         print(type(content_json))\n",
    "#     except:\n",
    "#         print(\"failed on json.loads with ast\")\n",
    "\n",
    "#     # print(\"trying json dump and load\")\n",
    "#     # try: \n",
    "#     #     content_json = json.loads(json.dumps(content))\n",
    "#     #     print(\"succeeded on json dump and load\")\n",
    "#     #     print(type(content_json))\n",
    "#     #     print(content_json)\n",
    "#     # except:\n",
    "#     #     print(\"failed on json. dump and loads\")\n",
    "        \n",
    "#     print(\"trying most likely conditions\")\n",
    "#     try: \n",
    "#         # med_cond = content_json['most_likely_condition']\n",
    "#         return( (content_json['possible_conditions'],\n",
    "#                  content_json['most_likely_condition'],\n",
    "#                  content_json['admission_note']), )\n",
    "#     except:\n",
    "#         print(\"failed on most_likely_condition argument\")\n",
    "\n",
    "#     # try: \n",
    "#     #     med_cond = content_json['most_likely_condition']\n",
    "#     #     return(med_cond)\n",
    "#     # except:\n",
    "#     #     print(\"failed on most_likely_condition argument\")\n",
    "\n",
    "#     print(\"trying possible_conditions\")\n",
    "\n",
    "#     try: \n",
    "#         poss_cond = content_json['possible_conditions']\n",
    "#         return(poss_cond)\n",
    "#     except:\n",
    "#         print(\"failed on possible_conditions argument\")\n",
    "\n",
    "#     try: \n",
    "#         content = content.replace(\"\\n\", \"\")\n",
    "#         content_json = json.loads(content)\n",
    "#         print(content_json)\n",
    "#         poss_cond = content_json[\"possible_conditions\"]\n",
    "#         return(poss_cond)\n",
    "#     except:\n",
    "#         print(\"failed on possible_conditions argument after string replace\")\n",
    "        \n",
    "# process_response(Pat.Medical_Condition)"
   ]
  },
  {
   "cell_type": "markdown",
   "metadata": {},
   "source": [
    "\n",
    "\n",
    "## Generate 10 instance of a patient using the dataset and save to json\n",
    "\n",
    "Here I pick 10 patients at random, and generate admission notes for them. I chose to save these to a json file, rather than to individual text files or to SQL, as this is human readable. You can view the full output [here](../src/data_exports/note_dict_20231002_2120.json)"
   ]
  },
  {
   "cell_type": "code",
   "execution_count": 262,
   "metadata": {},
   "outputs": [],
   "source": [
    "attributes = ['Age_Band', 'AE_Arrive_HourOfDay', 'AE_Time_Mins',  'Length_Of_Stay_Days', 'ICD10_Chapter_Code', 'Title', 'Medical_Condition', 'Admission_Note']\n",
    "note_dict = {}\n"
   ]
  },
  {
   "cell_type": "code",
   "execution_count": 263,
   "metadata": {},
   "outputs": [
    {
     "name": "stdout",
     "output_type": "stream",
     "text": [
      "Getting admission note for patient with index 2827279\n",
      "Getting admission note for patient with index 2931824\n",
      "Getting admission note for patient with index 2242585\n",
      "Getting admission note for patient with index 3206525\n",
      "Getting admission note for patient with index 2217701\n",
      "Getting admission note for patient with index 5162913\n",
      "Getting admission note for patient with index 1194824\n",
      "Getting admission note for patient with index 2987383\n",
      "Getting admission note for patient with index 3325602\n",
      "Getting admission note for patient with index 4864380\n"
     ]
    }
   ],
   "source": [
    "for index, persona in ed.sample(10).iterrows():\n",
    "\n",
    "    print(\"Getting admission note for patient with id \" + str(index))\n",
    "    Pat = row_to_patient(persona)\n",
    "\n",
    "    note_dict[Pat.id] = {}\n",
    "    note_dict[Pat.id] = {attr: getattr(Pat, attr) for attr in attributes if hasattr(Pat, attr)}\n",
    "    # note_dict[Pat.id]['day_' + str(0)] = {}\n",
    "    # note_dict[Pat.id]['day_' + str(0)]['admission'] = Pat.Admission_Note\n",
    "\n",
    "\n",
    "write_to_json(note_dict, 'experiment_1.0')"
   ]
  },
  {
   "cell_type": "markdown",
   "metadata": {},
   "source": [
    "## Evaluate output"
   ]
  },
  {
   "cell_type": "code",
   "execution_count": 59,
   "metadata": {},
   "outputs": [],
   "source": [
    "note_dict = load_from_json('note_dict')"
   ]
  },
  {
   "cell_type": "markdown",
   "metadata": {},
   "source": [
    "### Quantitative evaluation\n",
    "\n",
    "First, check how many records are complete. Ideally, both medical condition and admission note would be populated for all patients. Here 4 out of 10 meet that criterion. You can view the full output [here](../src/data_exports/note_dict_20231002_2120.json)"
   ]
  },
  {
   "cell_type": "code",
   "execution_count": 60,
   "metadata": {},
   "outputs": [
    {
     "name": "stdout",
     "output_type": "stream",
     "text": [
      "Number of records that failed completely: 1\n",
      "Number of records with medical condition: 6\n",
      "Number of records with admission note: 4\n"
     ]
    }
   ],
   "source": [
    "admission_note_count = 0\n",
    "medical_condition_count = 0\n",
    "failed_count_total = 0\n",
    "complete = 0\n",
    "\n",
    "for id, persona in note_dict.items():\n",
    "\n",
    "    # check for json issues\n",
    "    failed_count = 0\n",
    "    for key_, value_ in persona.items():\n",
    "        if 'failed on json' in str(value_):\n",
    "            failed_count = 1\n",
    "    if failed_count == 0:\n",
    "\n",
    "        if persona['Admission_Note'] != '' :\n",
    "            admission_note_count +=1\n",
    "        if persona['Medical_Condition'] != '' :\n",
    "            medical_condition_count +=1\n",
    "            if persona['Admission_Note'] != '':\n",
    "                persona['complete'] = True\n",
    "    else:\n",
    "        failed_count_total+=1\n",
    "    \n",
    "print(\"Number of records that failed completely: \" + str(failed_count_total))\n",
    "print(\"Number of records with medical condition: \" + str(medical_condition_count))\n",
    "print(\"Number of records with admission note: \" + str(admission_note_count))\n"
   ]
  },
  {
   "cell_type": "markdown",
   "metadata": {},
   "source": [
    "### Qualitative evaluation\n",
    "\n",
    "Look at the kind of medical conditions noted, for those with complete records, and consider whether this is reasonable given their length of stay. You can view the full output [here](../src/data_exports/note_dict_20231002_2120.json)"
   ]
  },
  {
   "cell_type": "code",
   "execution_count": 61,
   "metadata": {},
   "outputs": [
    {
     "name": "stdout",
     "output_type": "stream",
     "text": [
      "\n",
      "2242585\n",
      "Urinary tract infection\n",
      "Length of stay: 4 days\n",
      "\n",
      "2987383\n",
      "Intracranial injury with loss of consciousness of less than 30 minutes duration\n",
      "Length of stay: 2 days\n",
      "\n",
      "3206525\n",
      "Fracture\n",
      "Length of stay: 8 days\n",
      "\n",
      "4864380\n",
      "Dehydration\n",
      "Length of stay: 16 days\n"
     ]
    }
   ],
   "source": [
    "for id, persona in note_dict.items():\n",
    "    if 'complete' in persona.keys():\n",
    "        print(f\"\\n{id}\")\n",
    "        print(persona['Medical_Condition'])\n",
    "        print(f\"Length of stay: {persona['Length_Of_Stay_Days']} days\")\n",
    "        # print(persona['Admission_Note'])"
   ]
  },
  {
   "cell_type": "markdown",
   "metadata": {},
   "source": [
    "Viewing the output, I note: \n",
    "* length of stay is included in the admission note; this needs to be corrected (and probably could be with a change of prompt)\n",
    "\n",
    "About the specific patients\n",
    "* 4 days with a UTI might be plausible if (a) it led to delirium in a frail or confused patient or masked other conditions\n",
    "* 2 days for a concussion might be plausible\n",
    "* a fracture has been deemed a likely admission, which is itself unlikely and especially unlikely to lead to 8 days as an inpatient. The [prompt](../templates/prompt_templates/pick_medical_condition.txt) explicitly asked the agent to \"Consider whether their condition is serious enough to warrant the expected duration\"\n",
    "* a 16 day length of stay for dehydration seems highly unlikely"
   ]
  },
  {
   "cell_type": "markdown",
   "metadata": {},
   "source": []
  }
 ],
 "metadata": {
  "kernelspec": {
   "display_name": "env",
   "language": "python",
   "name": "python3"
  },
  "language_info": {
   "codemirror_mode": {
    "name": "ipython",
    "version": 3
   },
   "file_extension": ".py",
   "mimetype": "text/x-python",
   "name": "python",
   "nbconvert_exporter": "python",
   "pygments_lexer": "ipython3",
   "version": "3.11.4"
  },
  "orig_nbformat": 4
 },
 "nbformat": 4,
 "nbformat_minor": 2
}
