{
 "cells": [
  {
   "cell_type": "markdown",
   "metadata": {},
   "source": [
    "## Explore whether LLMs can identify waiting\n",
    "\n",
    "I'm curious to know how well an LLM can identify things that a patient might be waiting for from the notes. Below are a couple of examples of prompts that I used to extract this information. I found that a more detailed prompt asking for actions pending worked better"
   ]
  },
  {
   "cell_type": "code",
   "execution_count": 2,
   "metadata": {},
   "outputs": [],
   "source": [
    "notebook_name = 'explore_waiting'"
   ]
  },
  {
   "cell_type": "code",
   "execution_count": 60,
   "metadata": {},
   "outputs": [],
   "source": [
    "import os\n",
    "import pandas as pd\n",
    "import sys\n",
    "import json\n",
    "\n",
    "from pathlib import Path\n",
    "\n",
    "from langchain.llms import Ollama\n",
    "from langchain.callbacks.manager import CallbackManager\n",
    "from langchain.callbacks.streaming_stdout import StreamingStdOutCallbackHandler\n",
    "from langchain.prompts import PromptTemplate\n",
    "\n",
    "# Import the variables that have been set in the init.py folder in the root directory\n",
    "# These include a constant called PROJECT_ROOT which stores the absolute path to this folder\n",
    "sys.path.append(os.path.abspath(os.path.join(os.getcwd(), os.pardir)))\n",
    "import init\n",
    "PROJECT_ROOT = os.getenv(\"PROJECT_ROOT\")\n",
    "\n",
    "# Add the src folder to sys path, so that the application knows to look there for libraries\n",
    "sys.path.append(str(Path(PROJECT_ROOT) / 'src'))"
   ]
  },
  {
   "cell_type": "code",
   "execution_count": 8,
   "metadata": {},
   "outputs": [],
   "source": [
    "callback_manager = CallbackManager([StreamingStdOutCallbackHandler()])\n",
    "llm = Ollama(model=\"llama2\", callback_manager=callback_manager)"
   ]
  },
  {
   "cell_type": "markdown",
   "metadata": {},
   "source": [
    "### Load data from other experiments"
   ]
  },
  {
   "cell_type": "code",
   "execution_count": 6,
   "metadata": {},
   "outputs": [],
   "source": [
    "# unstuctured data\n",
    "with open('../src/data_exports/explore_llama_20240225_1202.json') as f:\n",
    "    notes_data = json.load(f)"
   ]
  },
  {
   "cell_type": "markdown",
   "metadata": {},
   "source": []
  },
  {
   "cell_type": "markdown",
   "metadata": {},
   "source": [
    "### Using llama to identify what patient is waiting for"
   ]
  },
  {
   "cell_type": "code",
   "execution_count": 67,
   "metadata": {},
   "outputs": [
    {
     "name": "stdout",
     "output_type": "stream",
     "text": [
      "Based on the information provided in the notes, the patient is currently waiting for the results of a CT scan of the head to rule out any intracranial causes of their symptoms."
     ]
    }
   ],
   "source": [
    "template = \"\"\"[INST]\n",
    "<<SYS>>\n",
    "You will be given a note or notes about a patient in hospital. \n",
    "From the notes, identify what the patient is currently waiting for.\n",
    "\n",
    "Here is the information about the patient: \n",
    "\n",
    "{data}\n",
    "[/INST]\n",
    "\"\"\"\n",
    "\n",
    "prompt = PromptTemplate.from_template(template)\n",
    "# chain = prompt | llm\n",
    "\n",
    "{'data' : notes_data[0]}\n",
    "\n",
    "formatted_prompt = prompt.format_prompt(data = {'data' : notes_data[0]})\n",
    "response = llm(formatted_prompt.to_string())"
   ]
  },
  {
   "cell_type": "code",
   "execution_count": 68,
   "metadata": {},
   "outputs": [
    {
     "name": "stdout",
     "output_type": "stream",
     "text": [
      "Based on the information provided in the notes, the patient is currently waiting for:\n",
      "\n",
      "1. Admission to the hospital for further evaluation and management: The doctor has recommended admitting the patient to the hospital for a more detailed evaluation and treatment plan.\n",
      "2. A CT scan of the head to rule out any intracranial causes of the patient's symptoms: The doctor has ordered a CT scan to help identify any underlying causes of the patient's headache, nausea, and vomiting.\n",
      "3. A triage of pain medications to help manage the patient's headache: The doctor has provided the patient with a triage of pain medications, including ibuprofen and sumatriptan, to help manage his headache symptoms in the short term.\n",
      "4. Closely monitoring the patient's vital signs and fluid status: The doctor is closely monitoring the patient's vital signs and fluid status to ensure that he stays hydrated and stable during his hospitalization.\n",
      "5. Consideration of prescribing a preventive medication for the patient in the future: The doctor has suggested considering prescribing a preventive medication, such as a triptan or an ergotamine, to help reduce the frequency and severity of the patient's migraine attacks in the future.\n",
      "6. Arrangement for the patient's workplace to provide accommodations for him: The doctor has recommended that the patient's workplace provide accommodations for him, such as a quiet room or flexible work schedule, to help manage his symptoms and prevent further exacerbation of his condition."
     ]
    }
   ],
   "source": [
    "template = \"\"\"[INST]\n",
    "<<SYS>>\n",
    "You will be given a note or notes about a patient in hospital. \n",
    "From the notes, identify what the patient is currently waiting for. There may be more than one thing they are waiting for.\n",
    "\n",
    "Here is the information about the patient: \n",
    "\n",
    "{data}\n",
    "[/INST]\n",
    "\"\"\"\n",
    "\n",
    "prompt = PromptTemplate.from_template(template)\n",
    "# chain = prompt | llm\n",
    "\n",
    "{'data' : notes_data[0]}\n",
    "\n",
    "formatted_prompt = prompt.format_prompt(data = {'data' : notes_data[0]})\n",
    "response = llm(formatted_prompt.to_string())"
   ]
  },
  {
   "cell_type": "code",
   "execution_count": 66,
   "metadata": {},
   "outputs": [
    {
     "name": "stdout",
     "output_type": "stream",
     "text": [
      "Here is the list of actions that need to be taken immediate based on the information provided in the note:\n",
      "\n",
      "1. Admit the patient to the hospital for further evaluation and management.\n",
      "2. Order a CT scan of the head to rule out any intracranial causes of the patient's symptoms.\n",
      "3. Provide the patient with a triage of pain medications, including ibuprofen and sumatriptan, to help manage his headache.\n",
      "4. Monitor the patient's vital signs and fluid status closely, and provide appropriate fluids and electrolyte replacement as needed."
     ]
    }
   ],
   "source": [
    "template = \"\"\"[INST]\n",
    "<<SYS>>\n",
    "You are a highly experienced emergency room nurse whose job is to minimise delays to patient care. \n",
    "A note has just been written after a doctor examined of the patient. \n",
    "From the note, identify what procedures, medications or other actions need to be taken immediate. \n",
    "List these actions succinctly in a to-do list for your colleagues. Do not justify why the actions are needed.\n",
    "Limit your list only to things that would be done in hospital, and only items that the doctor is sure about.\n",
    "Only use the information provided in the note. Do not give additional diagnoses. \n",
    "\n",
    "Here is the information about the patient: \n",
    "\n",
    "{data}\n",
    "[/INST]\n",
    "\"\"\"\n",
    "\n",
    "prompt = PromptTemplate.from_template(template)\n",
    "# chain = prompt | llm\n",
    "\n",
    "{'data' : notes_data[0]}\n",
    "\n",
    "formatted_prompt = prompt.format_prompt(data = {'data' : notes_data[0]})\n",
    "response = llm(formatted_prompt.to_string())\n"
   ]
  },
  {
   "cell_type": "code",
   "execution_count": 28,
   "metadata": {},
   "outputs": [],
   "source": [
    "batch = []\n",
    "\n",
    "for note_ in notes_data:\n",
    "    batch.append({\"data\": note_})"
   ]
  },
  {
   "cell_type": "code",
   "execution_count": 29,
   "metadata": {},
   "outputs": [
    {
     "name": "stdout",
     "output_type": "stream",
     "text": [
      "Immediate actions needed:\n",
      "\n",
      "1. Admit the patient to the hospital for further evaluation and management.\n",
      "2. Order a CT scan of the head to rule out any intracranial causes of the patient's symptoms.\n",
      "3. Provide the patient with a triage of pain medications, including ibuprofen and sumatriptan, to help manage his headache.\n",
      "4. Monitor the patient's vital signs and fluid status closely, and provide appropriate fluids and electrolyte replacement as needed.Immediate actions required:\n",
      "\n",
      "1. Admit the patient to the hospital for further observation and treatment.\n",
      "2. Provide intravenous fluids to prevent dehydration.\n",
      "3. Administer non-steroidal anti-inflammatory drugs (NSAIDs) for pain management.\n",
      "4. Initiate a sumatriptan pain management plan.\n",
      "5. Check the patient's blood work for any signs of electrolyte imbalances or other underlying conditions.Immediate actions required based on the information provided in the note:\n",
      "\n",
      "1. Order urgent imaging studies (chest X-ray or CT scan) to confirm the presence of a pulmonary embolism.\n",
      "2. Admit the patient to the hospital for further management and treatment, including anticoagulation therapy and close monitoring for any signs of worsening symptoms.\n",
      "3. Refer the patient to a cardiologist for further evaluation and management of hypertension and hyperlipidemia.* Order an ECG immediately to confirm the diagnosis of MI and identify any other abnormalities in the patient's heart rhythm.\n",
      "* Administer aspirin and clopidogrel as soon as possible to help prevent further heart damage and reduce the risk of future cardiac events.\n",
      "* Obtain a blood test to check the patient's troponin levels as soon as possible to confirm the diagnosis of MI and rule out other possible causes of chest pain.\n",
      "* Schedule an echocardiogram as soon as possible to evaluate the patient's left ventricular function and identify any areas of scar tissue or abnormalities in the heart muscle.\n",
      "* Discuss smoking cessation with the patient and provide resources for nicotine replacement therapy or other smoking cessation methods.\n",
      "* Review the patient's hypertension medications and adjust as needed to reduce the risk of future cardiac events."
     ]
    }
   ],
   "source": [
    "outputs = chain.batch(batch)"
   ]
  },
  {
   "cell_type": "code",
   "execution_count": 65,
   "metadata": {},
   "outputs": [],
   "source": [
    "note_dict = {}\n",
    "\n",
    "for i in range(0,len(batch)):\n",
    "    key = list(notes_data[i].keys())[0]\n",
    "    values = {'admission_note' : list(notes_data[i].values())[0], \n",
    "              'immediate actions' : outputs[i]}\n",
    "    note_dict[key] = values\n",
    "\n",
    "\n",
    "from utils.write_to_json import write_to_json\n",
    "write_to_json(note_dict, notebook_name)\n",
    "\n",
    "\n",
    "\n",
    "\n"
   ]
  },
  {
   "cell_type": "code",
   "execution_count": 64,
   "metadata": {},
   "outputs": [
    {
     "ename": "TypeError",
     "evalue": "dump() missing 1 required positional argument: 'fp'",
     "output_type": "error",
     "traceback": [
      "\u001b[0;31m---------------------------------------------------------------------------\u001b[0m",
      "\u001b[0;31mTypeError\u001b[0m                                 Traceback (most recent call last)",
      "Cell \u001b[0;32mIn[64], line 1\u001b[0m\n\u001b[0;32m----> 1\u001b[0m \u001b[43mjson\u001b[49m\u001b[38;5;241;43m.\u001b[39;49m\u001b[43mdump\u001b[49m\u001b[43m(\u001b[49m\u001b[43mnote_dict\u001b[49m\u001b[43m)\u001b[49m\n",
      "\u001b[0;31mTypeError\u001b[0m: dump() missing 1 required positional argument: 'fp'"
     ]
    }
   ],
   "source": [
    "json.dump(note_dict)"
   ]
  }
 ],
 "metadata": {
  "kernelspec": {
   "display_name": "env",
   "language": "python",
   "name": "python3"
  },
  "language_info": {
   "codemirror_mode": {
    "name": "ipython",
    "version": 3
   },
   "file_extension": ".py",
   "mimetype": "text/x-python",
   "name": "python",
   "nbconvert_exporter": "python",
   "pygments_lexer": "ipython3",
   "version": "3.11.4"
  }
 },
 "nbformat": 4,
 "nbformat_minor": 2
}
