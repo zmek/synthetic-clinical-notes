{
 "cells": [
  {
   "cell_type": "markdown",
   "metadata": {},
   "source": [
    "# Generative example\n",
    "\n",
    "This example uses the LangChain framework with Ollama to generate synthetic clinical notes from synthetic structured data.\n",
    "\n",
    "Running this notebook requires an additional install of [Ollama](https://ollama.ai/) and the particular model used is `llama2:latest` (also named `llama2:7b-chat`) from the [Ollama model library](https://ollama.ai/library/llama2/tags).\n",
    "\n",
    "Open a terminal and run `ollama pull llama2` to download the model."
   ]
  },
  {
   "cell_type": "markdown",
   "metadata": {},
   "source": [
    "## Import libraries"
   ]
  },
  {
   "cell_type": "code",
   "execution_count": 2,
   "metadata": {},
   "outputs": [],
   "source": [
    "notebook_name = 'explore_llama'"
   ]
  },
  {
   "cell_type": "code",
   "execution_count": 3,
   "metadata": {},
   "outputs": [],
   "source": [
    "# Load libraries\n",
    "import sys\n",
    "import os\n",
    "import pandas as pd\n",
    "import numpy as np\n",
    "from pathlib import Path\n",
    "\n",
    "import seaborn as sns\n",
    "import matplotlib.pyplot as plt\n",
    "import warnings\n",
    "warnings.filterwarnings(\"ignore\", category=FutureWarning)\n",
    "# Import the variables that have been set in the init.py folder in the root directory\n",
    "# These include a constant called PROJECT_ROOT which stores the absolute path to this folder\n",
    "sys.path.append(os.path.abspath(os.path.join(os.getcwd(), os.pardir)))\n",
    "import init\n",
    "PROJECT_ROOT = os.getenv(\"PROJECT_ROOT\")\n",
    "\n",
    "# Add the src folder to sys path, so that the application knows to look there for libraries\n",
    "sys.path.append(str(Path(PROJECT_ROOT) / 'src'))"
   ]
  },
  {
   "cell_type": "code",
   "execution_count": 23,
   "metadata": {},
   "outputs": [],
   "source": [
    "import json\n",
    "\n",
    "from langchain.llms import Ollama\n",
    "from langchain.callbacks.manager import CallbackManager\n",
    "from langchain.callbacks.streaming_stdout import StreamingStdOutCallbackHandler\n",
    "from langchain.prompts import PromptTemplate"
   ]
  },
  {
   "cell_type": "markdown",
   "metadata": {},
   "source": [
    "## Load input from json"
   ]
  },
  {
   "cell_type": "code",
   "execution_count": 5,
   "metadata": {},
   "outputs": [],
   "source": [
    "input_path = \"../../privfp-poc-zk/experiments/02_generate_dataset/synthea_dataset_inpatient.json\"\n",
    "\n",
    "with open(input_path) as file:\n",
    "    data = json.load(file)\n",
    "\n",
    "batch = []\n",
    "\n",
    "for i in range(5):\n",
    "    batch.append({\"data\": json.dumps(data[i])})"
   ]
  },
  {
   "cell_type": "code",
   "execution_count": 6,
   "metadata": {},
   "outputs": [
    {
     "name": "stdout",
     "output_type": "stream",
     "text": [
      "<class 'dict'>\n"
     ]
    },
    {
     "data": {
      "text/plain": [
       "{'data': '{\"name\": \"Mrs. Katina Trantow\", \"NHS number\": \"118 767 7799\", \"address\": \"348 Huels Hollow, Emsworth, PO10 7BR\", \"date of birth\": \"1962-11-03\", \"marital status\": \"married\", \"ethnicity\": \"White - Irish\", \"gender\": \"female\", \"visit type\": \"Encounter Inpatient\", \"visit date\": \"2000-12-15T07:37:49Z\", \"provider\": {\"doctor\": \"Jaquelyn Bernier\", \"facility\": \"Havant Community Health\"}, \"visit reason\": \"Appendicitis\", \"conditions\": [\"History of appendectomy\"]}'}"
      ]
     },
     "execution_count": 6,
     "metadata": {},
     "output_type": "execute_result"
    }
   ],
   "source": [
    "# Note - each batch is its own dict, with the keys the same as in the {} holders in the prompt template \n",
    "print(type(batch[0]))\n",
    "batch[1]"
   ]
  },
  {
   "cell_type": "markdown",
   "metadata": {},
   "source": [
    "## Load input from dict"
   ]
  },
  {
   "cell_type": "code",
   "execution_count": 7,
   "metadata": {},
   "outputs": [
    {
     "name": "stdout",
     "output_type": "stream",
     "text": [
      "18\n"
     ]
    }
   ],
   "source": [
    "FIHR_DIR = '../../privfp-poc-zk/experiments/02_generate_dataset'\n",
    "\n",
    "# with open(FIHR_DIR + '/' + 'all_inpatient_visit_dict.json') as f:\n",
    "#    all_inpatient_visit_dict = json.load(f)\n",
    "   \n",
    "#    # ed.head()\n",
    "\n",
    "\n",
    "with open(FIHR_DIR + '/' + 'long_visit_dict.json') as f:\n",
    "   long_visit_dict = json.load(f)\n",
    "\n",
    "print(len(long_visit_dict.keys()))\n",
    "   \n",
    "ex = list(long_visit_dict.keys())[0]\n",
    "ex =  \"urn:uuid:6ac2bf6b-6a8c-51e9-a2dd-30eb780264c5\""
   ]
  },
  {
   "cell_type": "code",
   "execution_count": 8,
   "metadata": {},
   "outputs": [],
   "source": [
    "import re\n",
    "import datetime\n",
    "import os\n",
    "for key, value in long_visit_dict.items():\n",
    "\n",
    "   encounter_id = long_visit_dict[key]['Encounter']['Encounter id']\n",
    "   encounter_started = long_visit_dict[key]['Encounter'][\"Encounter Started\"]\n",
    "   uuid  = key[9:]\n",
    "\n",
    "   patient_file = [file for file in os.listdir( FIHR_DIR + '/synthea/fhir') if re.search(uuid, file, re.IGNORECASE)]\n",
    "   with open(FIHR_DIR + '/synthea/fhir/' + patient_file[0]) as f:\n",
    "      patient_fhir = json.load(f)\n",
    "\n",
    "   patient_dict = {}\n",
    "   patient_uuid = long_visit_dict[key]['Patient']\n",
    "   patient_dict['name'] = ' '.join(patient_fhir['entry'][0]['resource']['name'][0]['given']) + ' ' + patient_fhir['entry'][0]['resource']['name'][0]['family']\n",
    "   patient_dict['birthDate'] = patient_fhir['entry'][0]['resource']['birthDate']\n",
    "   patient_dict['gender'] = patient_fhir['entry'][0]['resource']['gender']\n",
    "   patient_dict['age'] = int((datetime.datetime.fromisoformat(encounter_started).date() - datetime.datetime.strptime(patient_dict['birthDate'], '%Y-%m-%d').date()).days / 365.25)\n",
    "   long_visit_dict[key]['Patient'] = patient_dict"
   ]
  },
  {
   "cell_type": "code",
   "execution_count": 9,
   "metadata": {},
   "outputs": [],
   "source": [
    "batch = []\n",
    "\n",
    "for i in range(5):\n",
    "    batch.append({\"data\": json.dumps(list(long_visit_dict.keys())[i])})"
   ]
  },
  {
   "cell_type": "markdown",
   "metadata": {},
   "source": [
    "## Load LLM\n",
    "\n",
    "The model used to run inference can be easily swapped out using LangChain and Ollama!\n",
    "\n",
    "Simply open a terminal and run `ollama pull <model_name:tag>` to retrieve any model from the Ollama model library and pass `<model_name:tag>` as the new argument when instantiating the LLM.\n",
    "\n",
    "For example, if you wanted to use Mistral instead of Llama2, you would need to run `ollama pull mistral` in a terminal and set `model=\"mistral\"` below."
   ]
  },
  {
   "cell_type": "code",
   "execution_count": 24,
   "metadata": {},
   "outputs": [],
   "source": [
    "callback_manager = CallbackManager([StreamingStdOutCallbackHandler()])\n",
    "llm = Ollama(model=\"llama2\", callback_manager=callback_manager)"
   ]
  },
  {
   "cell_type": "markdown",
   "metadata": {},
   "source": [
    "## Construct prompt"
   ]
  },
  {
   "cell_type": "code",
   "execution_count": 11,
   "metadata": {},
   "outputs": [],
   "source": [
    "template = \"\"\"[INST]\n",
    "<<SYS>>\n",
    "Your goal is to give your judgement about a patient's condition, and to make a plan for their admission to the hospital. \n",
    "You may be given extensive list of lab results or observations.  Do not restate the results of observations as a list. However, you should refer to them in giving your judgement. \n",
    "<</SYS>>\n",
    "\n",
    "### INSTRUCTIONS ### \n",
    "\n",
    "Format the output as JSON with the following keys:\n",
    "\n",
    "\"history_of_present_illness\": a detailed narrative of the patient's current complaint\n",
    "\n",
    "\"physical_examination\": findings from a detailed examination of the patient, as a narrative within which you comment on vital signs, observations and procedures\n",
    "\n",
    "\"assessment_and_plan\": interpretations, diagnoses, and proposed management plan\n",
    "\n",
    "Here is some information about the patient: \n",
    "\n",
    "{data}\n",
    "[/INST]\n",
    "\"\"\"\n",
    "\n",
    "prompt = PromptTemplate.from_template(template)\n",
    "chain = prompt | llm"
   ]
  },
  {
   "cell_type": "code",
   "execution_count": 12,
   "metadata": {},
   "outputs": [
    {
     "data": {
      "text/plain": [
       "['data']"
      ]
     },
     "execution_count": 12,
     "metadata": {},
     "output_type": "execute_result"
    }
   ],
   "source": [
    "# note - could have other input variables defined by the {} in the template eg {demographics}\n",
    "# These would be set in the \n",
    "prompt.input_variables"
   ]
  },
  {
   "cell_type": "markdown",
   "metadata": {},
   "source": [
    "## Run on single item"
   ]
  },
  {
   "cell_type": "code",
   "execution_count": 20,
   "metadata": {},
   "outputs": [
    {
     "data": {
      "text/plain": [
       "{'Patient': {'name': 'Shizuko29 Rozella39 Morar593',\n",
       "  'birthDate': '1945-07-26',\n",
       "  'gender': 'female',\n",
       "  'age': 75},\n",
       " 'Encounter': {'Encounter id': 'urn:uuid:441802e5-48e2-d381-7fbd-6c0d528a0566',\n",
       "  'Encounter Started': '2020-08-06 13:08:58',\n",
       "  'Encounter Ended': '2020-09-01 13:23:58',\n",
       "  'Encounter Duration': 2247300,\n",
       "  'Hospital Staff': 'Dr. Guillermo498 Fay398',\n",
       "  'Type of admission': 'Admission to hospice (procedure)'},\n",
       " 'Condition': {},\n",
       " 'Procedure': {'1': {'Text': 'Certification procedure (procedure)',\n",
       "   'Started': '2020-08-06T13:08:58+01:00',\n",
       "   'Ended': '2020-08-06T13:23:58+01:00'},\n",
       "  '2': {'Text': 'Notifications (procedure)',\n",
       "   'Started': '2020-08-06T13:08:58+01:00',\n",
       "   'Ended': '2020-08-06T13:23:58+01:00'},\n",
       "  '3': {'Text': 'Initial patient assessment (procedure)',\n",
       "   'Started': '2020-08-06T13:08:58+01:00',\n",
       "   'Ended': '2020-08-06T13:23:58+01:00'},\n",
       "  '4': {'Text': 'Development of individualized plan of care (procedure)',\n",
       "   'Started': '2020-08-06T13:08:58+01:00',\n",
       "   'Ended': '2020-08-06T13:23:58+01:00'},\n",
       "  '5': {'Text': 'Hospice care (regime/therapy)',\n",
       "   'Started': '2020-08-06T13:08:58+01:00',\n",
       "   'Ended': '2020-08-06T13:23:58+01:00'},\n",
       "  '6': {'Text': 'Hospice care (regime/therapy)',\n",
       "   'Started': '2020-08-07T13:08:58+01:00',\n",
       "   'Ended': '2020-08-07T13:23:58+01:00'},\n",
       "  '7': {'Text': 'Hospice care (regime/therapy)',\n",
       "   'Started': '2020-08-08T13:08:58+01:00',\n",
       "   'Ended': '2020-08-08T13:23:58+01:00'},\n",
       "  '8': {'Text': 'Hospice care (regime/therapy)',\n",
       "   'Started': '2020-08-09T13:08:58+01:00',\n",
       "   'Ended': '2020-08-09T13:23:58+01:00'},\n",
       "  '9': {'Text': 'Hospice care (regime/therapy)',\n",
       "   'Started': '2020-08-10T13:08:58+01:00',\n",
       "   'Ended': '2020-08-10T13:23:58+01:00'},\n",
       "  '10': {'Text': 'Hospice care (regime/therapy)',\n",
       "   'Started': '2020-08-11T13:08:58+01:00',\n",
       "   'Ended': '2020-08-11T13:23:58+01:00'},\n",
       "  '11': {'Text': 'Hospice care (regime/therapy)',\n",
       "   'Started': '2020-08-12T13:08:58+01:00',\n",
       "   'Ended': '2020-08-12T13:23:58+01:00'},\n",
       "  '12': {'Text': 'Hospice care (regime/therapy)',\n",
       "   'Started': '2020-08-13T13:08:58+01:00',\n",
       "   'Ended': '2020-08-13T13:23:58+01:00'},\n",
       "  '13': {'Text': 'Hospice care (regime/therapy)',\n",
       "   'Started': '2020-08-14T13:08:58+01:00',\n",
       "   'Ended': '2020-08-14T13:23:58+01:00'},\n",
       "  '14': {'Text': 'Hospice care (regime/therapy)',\n",
       "   'Started': '2020-08-15T13:08:58+01:00',\n",
       "   'Ended': '2020-08-15T13:23:58+01:00'},\n",
       "  '15': {'Text': 'Hospice care (regime/therapy)',\n",
       "   'Started': '2020-08-16T13:08:58+01:00',\n",
       "   'Ended': '2020-08-16T13:23:58+01:00'},\n",
       "  '16': {'Text': 'Hospice care (regime/therapy)',\n",
       "   'Started': '2020-08-17T13:08:58+01:00',\n",
       "   'Ended': '2020-08-17T13:23:58+01:00'},\n",
       "  '17': {'Text': 'Hospice care (regime/therapy)',\n",
       "   'Started': '2020-08-18T13:08:58+01:00',\n",
       "   'Ended': '2020-08-18T13:23:58+01:00'},\n",
       "  '18': {'Text': 'Hospice care (regime/therapy)',\n",
       "   'Started': '2020-08-19T13:08:58+01:00',\n",
       "   'Ended': '2020-08-19T13:23:58+01:00'},\n",
       "  '19': {'Text': 'Hospice care (regime/therapy)',\n",
       "   'Started': '2020-08-20T13:08:58+01:00',\n",
       "   'Ended': '2020-08-20T13:23:58+01:00'},\n",
       "  '20': {'Text': 'Hospice care (regime/therapy)',\n",
       "   'Started': '2020-08-21T13:08:58+01:00',\n",
       "   'Ended': '2020-08-21T13:23:58+01:00'},\n",
       "  '21': {'Text': 'Hospice care (regime/therapy)',\n",
       "   'Started': '2020-08-22T13:08:58+01:00',\n",
       "   'Ended': '2020-08-22T13:23:58+01:00'},\n",
       "  '22': {'Text': 'Hospice care (regime/therapy)',\n",
       "   'Started': '2020-08-23T13:08:58+01:00',\n",
       "   'Ended': '2020-08-23T13:23:58+01:00'},\n",
       "  '23': {'Text': 'Hospice care (regime/therapy)',\n",
       "   'Started': '2020-08-24T13:08:58+01:00',\n",
       "   'Ended': '2020-08-24T13:23:58+01:00'},\n",
       "  '24': {'Text': 'Hospice care (regime/therapy)',\n",
       "   'Started': '2020-08-25T13:08:58+01:00',\n",
       "   'Ended': '2020-08-25T13:23:58+01:00'},\n",
       "  '25': {'Text': 'Hospice care (regime/therapy)',\n",
       "   'Started': '2020-08-26T13:08:58+01:00',\n",
       "   'Ended': '2020-08-26T13:23:58+01:00'},\n",
       "  '26': {'Text': 'Hospice care (regime/therapy)',\n",
       "   'Started': '2020-08-27T13:08:58+01:00',\n",
       "   'Ended': '2020-08-27T13:23:58+01:00'},\n",
       "  '27': {'Text': 'Hospice care (regime/therapy)',\n",
       "   'Started': '2020-08-28T13:08:58+01:00',\n",
       "   'Ended': '2020-08-28T13:23:58+01:00'},\n",
       "  '28': {'Text': 'Hospice care (regime/therapy)',\n",
       "   'Started': '2020-08-29T13:08:58+01:00',\n",
       "   'Ended': '2020-08-29T13:23:58+01:00'},\n",
       "  '29': {'Text': 'Hospice care (regime/therapy)',\n",
       "   'Started': '2020-08-30T13:08:58+01:00',\n",
       "   'Ended': '2020-08-30T13:23:58+01:00'},\n",
       "  '30': {'Text': 'Hospice care (regime/therapy)',\n",
       "   'Started': '2020-08-31T13:08:58+01:00',\n",
       "   'Ended': '2020-08-31T13:23:58+01:00'},\n",
       "  '31': {'Text': 'Patient discharge (procedure)',\n",
       "   'Started': '2020-09-01T13:08:58+01:00',\n",
       "   'Ended': '2020-09-01T13:23:58+01:00'}},\n",
       " 'Observation': {}}"
      ]
     },
     "execution_count": 20,
     "metadata": {},
     "output_type": "execute_result"
    }
   ],
   "source": [
    "long_visit_dict[list(long_visit_dict.keys())[i]]"
   ]
  },
  {
   "cell_type": "code",
   "execution_count": 25,
   "metadata": {},
   "outputs": [
    {
     "name": "stdout",
     "output_type": "stream",
     "text": [
      "The output you provided is a JSON object that represents a collection of observations for a patient. Here's a breakdown of the structure:\n",
      "\n",
      "* `data`: This is the main data structure in the output, which contains a list of observation objects. Each observation object has several properties, including:\n",
      "\t+ `Text`: This is the text of the observation, represented as a string.\n",
      "\t+ `Started`: This is the start time of the observation, represented as a timestamp in ISO 8601 format (e.g., \"2022-06-15T19:37:52+01:00\").\n",
      "\t+ `Ended`: This is the end time of the observation, also represented as a timestamp in ISO 8601 format (e.g., \"2022-06-15T19:52:52+01:00\").\n",
      "* `Observation`: This is an array that contains a single observation object. The `Observation` object has the same properties as the ` Observation` object described above.\n",
      "* `Patient`: This is an object that represents the patient for whom the observations were made. It has several properties, including:\n",
      "\t+ `id`: This is the unique identifier of the patient (e.g., \"123456789\").\n",
      "\t+ `name`: This is the full name of the patient (e.g., \"John Doe\").\n",
      "\t+ `gender`: This is the gender of the patient (e.g., \"Male\").\n",
      "\t+ `birthdate`: This is the date of birth of the patient (e.g., \"1970-02-03\").\n",
      "* `Encounter`: This is an object that represents the encounter for which the observations were made. It has several properties, including:\n",
      "\t+ `id`: This is the unique identifier of the encounter (e.g., \"123456789\").\n",
      "\t+ `type`: This is the type of encounter (e.g., \"Admit\").\n",
      "\t+ `subtype`: This is a subtype of the encounter (e.g., \"Emergency Room Visit\").\n",
      "\t+ `start`: This is the start time of the encounter, represented as a timestamp in ISO 8601 format (e.g., \"2022-06-15T19:37:52+01:00\").\n",
      "\t+ `end`: This is the end time of the encounter, also represented as a timestamp in ISO 8601 format (e.g., \"2022-06-15T19:52:52+01:00\").\n",
      "* `Organization`: This is an object that represents the organization that provided the care for which the observations were made. It has several properties, including:\n",
      "\t+ `id`: This is the unique identifier of the organization (e.g., \"123456789\").\n",
      "\t+ `name`: This is the full name of the organization (e.g., \"Acme Healthcare\").\n",
      "\t+ `address`: This is the address of the organization (e.g., \"123 Main St\").\n",
      "* `Manifestation`: This is an array that contains a single object, which represents the manifestation of the patient's condition. The `Manifestation` object has several properties, including:\n",
      "\t+ `id`: This is the unique identifier of the manifestation (e.g., \"123456789\").\n",
      "\t+ `code`: This is the code for the manifestation (e.g., \"ICD-10-CM V13.0 code for Diabetes Mellitus\").\n",
      "\t+ `text`: This is a text representation of the manifestation (e.g., \"Diabetes Mellitus\").\n",
      "* `Supplemental_Data`: This is an object that contains supplemental data for the patient's condition, such as medications or lab results. It has several properties, including:\n",
      "\t+ `id`: This is the unique identifier of the supplemental data (e.g., \"123456789\").\n",
      "\t+ `code`: This is the code for the supplemental data (e.g., \"Medication Order\").\n",
      "\t+ `text`: This is a text representation of the supplemental data (e.g., \"Lasix 40 mg po qid\").\n",
      "* `Observation_Source`: This is an object that represents the source of the observation, such as a lab result or a medication order. It has several properties, including:\n",
      "\t+ `id`: This is the unique identifier of the observation source (e.g., \"123456789\").\n",
      "\t+ `code`: This is the code for the observation source (e.g., \"Lab Result\").\n",
      "\t+ `text`: This is a text representation of the observation source (e.g., \"Liver Function Tests\").\n",
      "}\n",
      "\n",
      "I hope this helps! Let me know if you have any questions or need further clarification.{\n",
      "\"history_of_present_illness\": \"Ms. Elly Kunze presents to the emergency department with a 4-day history of chest discomfort, radiating to her left arm and jaw, associated with nausea"
     ]
    },
    {
     "ename": "KeyboardInterrupt",
     "evalue": "",
     "output_type": "error",
     "traceback": [
      "\u001b[0;31m---------------------------------------------------------------------------\u001b[0m",
      "\u001b[0;31mKeyboardInterrupt\u001b[0m                         Traceback (most recent call last)",
      "Cell \u001b[0;32mIn[25], line 4\u001b[0m\n\u001b[1;32m      2\u001b[0m llm_input \u001b[38;5;241m=\u001b[39m {\u001b[38;5;124m'\u001b[39m\u001b[38;5;124mdata\u001b[39m\u001b[38;5;124m'\u001b[39m: json\u001b[38;5;241m.\u001b[39mdumps(long_visit_dict[\u001b[38;5;28mlist\u001b[39m(long_visit_dict\u001b[38;5;241m.\u001b[39mkeys())[i]])}\n\u001b[1;32m      3\u001b[0m formatted_prompt \u001b[38;5;241m=\u001b[39m prompt\u001b[38;5;241m.\u001b[39mformat_prompt(data \u001b[38;5;241m=\u001b[39m llm_input)\n\u001b[0;32m----> 4\u001b[0m response \u001b[38;5;241m=\u001b[39m \u001b[43mllm\u001b[49m\u001b[43m(\u001b[49m\u001b[43mformatted_prompt\u001b[49m\u001b[38;5;241;43m.\u001b[39;49m\u001b[43mto_string\u001b[49m\u001b[43m(\u001b[49m\u001b[43m)\u001b[49m\u001b[43m)\u001b[49m\n\u001b[1;32m      5\u001b[0m long_visit_dict[\u001b[38;5;28mlist\u001b[39m(long_visit_dict\u001b[38;5;241m.\u001b[39mkeys())[i]][\u001b[38;5;124m'\u001b[39m\u001b[38;5;124mAdmission_note\u001b[39m\u001b[38;5;124m'\u001b[39m] \u001b[38;5;241m=\u001b[39m response\n",
      "File \u001b[0;32m~/Repos/synthetic-clinical-notes/env/lib/python3.11/site-packages/langchain_core/_api/deprecation.py:145\u001b[0m, in \u001b[0;36mdeprecated.<locals>.deprecate.<locals>.warning_emitting_wrapper\u001b[0;34m(*args, **kwargs)\u001b[0m\n\u001b[1;32m    143\u001b[0m     warned \u001b[38;5;241m=\u001b[39m \u001b[38;5;28;01mTrue\u001b[39;00m\n\u001b[1;32m    144\u001b[0m     emit_warning()\n\u001b[0;32m--> 145\u001b[0m \u001b[38;5;28;01mreturn\u001b[39;00m \u001b[43mwrapped\u001b[49m\u001b[43m(\u001b[49m\u001b[38;5;241;43m*\u001b[39;49m\u001b[43margs\u001b[49m\u001b[43m,\u001b[49m\u001b[43m \u001b[49m\u001b[38;5;241;43m*\u001b[39;49m\u001b[38;5;241;43m*\u001b[39;49m\u001b[43mkwargs\u001b[49m\u001b[43m)\u001b[49m\n",
      "File \u001b[0;32m~/Repos/synthetic-clinical-notes/env/lib/python3.11/site-packages/langchain_core/language_models/llms.py:991\u001b[0m, in \u001b[0;36mBaseLLM.__call__\u001b[0;34m(self, prompt, stop, callbacks, tags, metadata, **kwargs)\u001b[0m\n\u001b[1;32m    984\u001b[0m \u001b[38;5;28;01mif\u001b[39;00m \u001b[38;5;129;01mnot\u001b[39;00m \u001b[38;5;28misinstance\u001b[39m(prompt, \u001b[38;5;28mstr\u001b[39m):\n\u001b[1;32m    985\u001b[0m     \u001b[38;5;28;01mraise\u001b[39;00m \u001b[38;5;167;01mValueError\u001b[39;00m(\n\u001b[1;32m    986\u001b[0m         \u001b[38;5;124m\"\u001b[39m\u001b[38;5;124mArgument `prompt` is expected to be a string. Instead found \u001b[39m\u001b[38;5;124m\"\u001b[39m\n\u001b[1;32m    987\u001b[0m         \u001b[38;5;124mf\u001b[39m\u001b[38;5;124m\"\u001b[39m\u001b[38;5;132;01m{\u001b[39;00m\u001b[38;5;28mtype\u001b[39m(prompt)\u001b[38;5;132;01m}\u001b[39;00m\u001b[38;5;124m. If you want to run the LLM on multiple prompts, use \u001b[39m\u001b[38;5;124m\"\u001b[39m\n\u001b[1;32m    988\u001b[0m         \u001b[38;5;124m\"\u001b[39m\u001b[38;5;124m`generate` instead.\u001b[39m\u001b[38;5;124m\"\u001b[39m\n\u001b[1;32m    989\u001b[0m     )\n\u001b[1;32m    990\u001b[0m \u001b[38;5;28;01mreturn\u001b[39;00m (\n\u001b[0;32m--> 991\u001b[0m     \u001b[38;5;28;43mself\u001b[39;49m\u001b[38;5;241;43m.\u001b[39;49m\u001b[43mgenerate\u001b[49m\u001b[43m(\u001b[49m\n\u001b[1;32m    992\u001b[0m \u001b[43m        \u001b[49m\u001b[43m[\u001b[49m\u001b[43mprompt\u001b[49m\u001b[43m]\u001b[49m\u001b[43m,\u001b[49m\n\u001b[1;32m    993\u001b[0m \u001b[43m        \u001b[49m\u001b[43mstop\u001b[49m\u001b[38;5;241;43m=\u001b[39;49m\u001b[43mstop\u001b[49m\u001b[43m,\u001b[49m\n\u001b[1;32m    994\u001b[0m \u001b[43m        \u001b[49m\u001b[43mcallbacks\u001b[49m\u001b[38;5;241;43m=\u001b[39;49m\u001b[43mcallbacks\u001b[49m\u001b[43m,\u001b[49m\n\u001b[1;32m    995\u001b[0m \u001b[43m        \u001b[49m\u001b[43mtags\u001b[49m\u001b[38;5;241;43m=\u001b[39;49m\u001b[43mtags\u001b[49m\u001b[43m,\u001b[49m\n\u001b[1;32m    996\u001b[0m \u001b[43m        \u001b[49m\u001b[43mmetadata\u001b[49m\u001b[38;5;241;43m=\u001b[39;49m\u001b[43mmetadata\u001b[49m\u001b[43m,\u001b[49m\n\u001b[1;32m    997\u001b[0m \u001b[43m        \u001b[49m\u001b[38;5;241;43m*\u001b[39;49m\u001b[38;5;241;43m*\u001b[39;49m\u001b[43mkwargs\u001b[49m\u001b[43m,\u001b[49m\n\u001b[1;32m    998\u001b[0m \u001b[43m    \u001b[49m\u001b[43m)\u001b[49m\n\u001b[1;32m    999\u001b[0m     \u001b[38;5;241m.\u001b[39mgenerations[\u001b[38;5;241m0\u001b[39m][\u001b[38;5;241m0\u001b[39m]\n\u001b[1;32m   1000\u001b[0m     \u001b[38;5;241m.\u001b[39mtext\n\u001b[1;32m   1001\u001b[0m )\n",
      "File \u001b[0;32m~/Repos/synthetic-clinical-notes/env/lib/python3.11/site-packages/langchain_core/language_models/llms.py:741\u001b[0m, in \u001b[0;36mBaseLLM.generate\u001b[0;34m(self, prompts, stop, callbacks, tags, metadata, run_name, **kwargs)\u001b[0m\n\u001b[1;32m    725\u001b[0m         \u001b[38;5;28;01mraise\u001b[39;00m \u001b[38;5;167;01mValueError\u001b[39;00m(\n\u001b[1;32m    726\u001b[0m             \u001b[38;5;124m\"\u001b[39m\u001b[38;5;124mAsked to cache, but no cache found at `langchain.cache`.\u001b[39m\u001b[38;5;124m\"\u001b[39m\n\u001b[1;32m    727\u001b[0m         )\n\u001b[1;32m    728\u001b[0m     run_managers \u001b[38;5;241m=\u001b[39m [\n\u001b[1;32m    729\u001b[0m         callback_manager\u001b[38;5;241m.\u001b[39mon_llm_start(\n\u001b[1;32m    730\u001b[0m             dumpd(\u001b[38;5;28mself\u001b[39m),\n\u001b[0;32m   (...)\u001b[0m\n\u001b[1;32m    739\u001b[0m         )\n\u001b[1;32m    740\u001b[0m     ]\n\u001b[0;32m--> 741\u001b[0m     output \u001b[38;5;241m=\u001b[39m \u001b[38;5;28;43mself\u001b[39;49m\u001b[38;5;241;43m.\u001b[39;49m\u001b[43m_generate_helper\u001b[49m\u001b[43m(\u001b[49m\n\u001b[1;32m    742\u001b[0m \u001b[43m        \u001b[49m\u001b[43mprompts\u001b[49m\u001b[43m,\u001b[49m\u001b[43m \u001b[49m\u001b[43mstop\u001b[49m\u001b[43m,\u001b[49m\u001b[43m \u001b[49m\u001b[43mrun_managers\u001b[49m\u001b[43m,\u001b[49m\u001b[43m \u001b[49m\u001b[38;5;28;43mbool\u001b[39;49m\u001b[43m(\u001b[49m\u001b[43mnew_arg_supported\u001b[49m\u001b[43m)\u001b[49m\u001b[43m,\u001b[49m\u001b[43m \u001b[49m\u001b[38;5;241;43m*\u001b[39;49m\u001b[38;5;241;43m*\u001b[39;49m\u001b[43mkwargs\u001b[49m\n\u001b[1;32m    743\u001b[0m \u001b[43m    \u001b[49m\u001b[43m)\u001b[49m\n\u001b[1;32m    744\u001b[0m     \u001b[38;5;28;01mreturn\u001b[39;00m output\n\u001b[1;32m    745\u001b[0m \u001b[38;5;28;01mif\u001b[39;00m \u001b[38;5;28mlen\u001b[39m(missing_prompts) \u001b[38;5;241m>\u001b[39m \u001b[38;5;241m0\u001b[39m:\n",
      "File \u001b[0;32m~/Repos/synthetic-clinical-notes/env/lib/python3.11/site-packages/langchain_core/language_models/llms.py:605\u001b[0m, in \u001b[0;36mBaseLLM._generate_helper\u001b[0;34m(self, prompts, stop, run_managers, new_arg_supported, **kwargs)\u001b[0m\n\u001b[1;32m    603\u001b[0m     \u001b[38;5;28;01mfor\u001b[39;00m run_manager \u001b[38;5;129;01min\u001b[39;00m run_managers:\n\u001b[1;32m    604\u001b[0m         run_manager\u001b[38;5;241m.\u001b[39mon_llm_error(e, response\u001b[38;5;241m=\u001b[39mLLMResult(generations\u001b[38;5;241m=\u001b[39m[]))\n\u001b[0;32m--> 605\u001b[0m     \u001b[38;5;28;01mraise\u001b[39;00m e\n\u001b[1;32m    606\u001b[0m flattened_outputs \u001b[38;5;241m=\u001b[39m output\u001b[38;5;241m.\u001b[39mflatten()\n\u001b[1;32m    607\u001b[0m \u001b[38;5;28;01mfor\u001b[39;00m manager, flattened_output \u001b[38;5;129;01min\u001b[39;00m \u001b[38;5;28mzip\u001b[39m(run_managers, flattened_outputs):\n",
      "File \u001b[0;32m~/Repos/synthetic-clinical-notes/env/lib/python3.11/site-packages/langchain_core/language_models/llms.py:592\u001b[0m, in \u001b[0;36mBaseLLM._generate_helper\u001b[0;34m(self, prompts, stop, run_managers, new_arg_supported, **kwargs)\u001b[0m\n\u001b[1;32m    582\u001b[0m \u001b[38;5;28;01mdef\u001b[39;00m \u001b[38;5;21m_generate_helper\u001b[39m(\n\u001b[1;32m    583\u001b[0m     \u001b[38;5;28mself\u001b[39m,\n\u001b[1;32m    584\u001b[0m     prompts: List[\u001b[38;5;28mstr\u001b[39m],\n\u001b[0;32m   (...)\u001b[0m\n\u001b[1;32m    588\u001b[0m     \u001b[38;5;241m*\u001b[39m\u001b[38;5;241m*\u001b[39mkwargs: Any,\n\u001b[1;32m    589\u001b[0m ) \u001b[38;5;241m-\u001b[39m\u001b[38;5;241m>\u001b[39m LLMResult:\n\u001b[1;32m    590\u001b[0m     \u001b[38;5;28;01mtry\u001b[39;00m:\n\u001b[1;32m    591\u001b[0m         output \u001b[38;5;241m=\u001b[39m (\n\u001b[0;32m--> 592\u001b[0m             \u001b[38;5;28;43mself\u001b[39;49m\u001b[38;5;241;43m.\u001b[39;49m\u001b[43m_generate\u001b[49m\u001b[43m(\u001b[49m\n\u001b[1;32m    593\u001b[0m \u001b[43m                \u001b[49m\u001b[43mprompts\u001b[49m\u001b[43m,\u001b[49m\n\u001b[1;32m    594\u001b[0m \u001b[43m                \u001b[49m\u001b[43mstop\u001b[49m\u001b[38;5;241;43m=\u001b[39;49m\u001b[43mstop\u001b[49m\u001b[43m,\u001b[49m\n\u001b[1;32m    595\u001b[0m \u001b[43m                \u001b[49m\u001b[38;5;66;43;03m# TODO: support multiple run managers\u001b[39;49;00m\n\u001b[1;32m    596\u001b[0m \u001b[43m                \u001b[49m\u001b[43mrun_manager\u001b[49m\u001b[38;5;241;43m=\u001b[39;49m\u001b[43mrun_managers\u001b[49m\u001b[43m[\u001b[49m\u001b[38;5;241;43m0\u001b[39;49m\u001b[43m]\u001b[49m\u001b[43m \u001b[49m\u001b[38;5;28;43;01mif\u001b[39;49;00m\u001b[43m \u001b[49m\u001b[43mrun_managers\u001b[49m\u001b[43m \u001b[49m\u001b[38;5;28;43;01melse\u001b[39;49;00m\u001b[43m \u001b[49m\u001b[38;5;28;43;01mNone\u001b[39;49;00m\u001b[43m,\u001b[49m\n\u001b[1;32m    597\u001b[0m \u001b[43m                \u001b[49m\u001b[38;5;241;43m*\u001b[39;49m\u001b[38;5;241;43m*\u001b[39;49m\u001b[43mkwargs\u001b[49m\u001b[43m,\u001b[49m\n\u001b[1;32m    598\u001b[0m \u001b[43m            \u001b[49m\u001b[43m)\u001b[49m\n\u001b[1;32m    599\u001b[0m             \u001b[38;5;28;01mif\u001b[39;00m new_arg_supported\n\u001b[1;32m    600\u001b[0m             \u001b[38;5;28;01melse\u001b[39;00m \u001b[38;5;28mself\u001b[39m\u001b[38;5;241m.\u001b[39m_generate(prompts, stop\u001b[38;5;241m=\u001b[39mstop)\n\u001b[1;32m    601\u001b[0m         )\n\u001b[1;32m    602\u001b[0m     \u001b[38;5;28;01mexcept\u001b[39;00m \u001b[38;5;167;01mBaseException\u001b[39;00m \u001b[38;5;28;01mas\u001b[39;00m e:\n\u001b[1;32m    603\u001b[0m         \u001b[38;5;28;01mfor\u001b[39;00m run_manager \u001b[38;5;129;01min\u001b[39;00m run_managers:\n",
      "File \u001b[0;32m~/Repos/synthetic-clinical-notes/env/lib/python3.11/site-packages/langchain_community/llms/ollama.py:408\u001b[0m, in \u001b[0;36mOllama._generate\u001b[0;34m(self, prompts, stop, images, run_manager, **kwargs)\u001b[0m\n\u001b[1;32m    406\u001b[0m generations \u001b[38;5;241m=\u001b[39m []\n\u001b[1;32m    407\u001b[0m \u001b[38;5;28;01mfor\u001b[39;00m prompt \u001b[38;5;129;01min\u001b[39;00m prompts:\n\u001b[0;32m--> 408\u001b[0m     final_chunk \u001b[38;5;241m=\u001b[39m \u001b[38;5;28;43msuper\u001b[39;49m\u001b[43m(\u001b[49m\u001b[43m)\u001b[49m\u001b[38;5;241;43m.\u001b[39;49m\u001b[43m_stream_with_aggregation\u001b[49m\u001b[43m(\u001b[49m\n\u001b[1;32m    409\u001b[0m \u001b[43m        \u001b[49m\u001b[43mprompt\u001b[49m\u001b[43m,\u001b[49m\n\u001b[1;32m    410\u001b[0m \u001b[43m        \u001b[49m\u001b[43mstop\u001b[49m\u001b[38;5;241;43m=\u001b[39;49m\u001b[43mstop\u001b[49m\u001b[43m,\u001b[49m\n\u001b[1;32m    411\u001b[0m \u001b[43m        \u001b[49m\u001b[43mimages\u001b[49m\u001b[38;5;241;43m=\u001b[39;49m\u001b[43mimages\u001b[49m\u001b[43m,\u001b[49m\n\u001b[1;32m    412\u001b[0m \u001b[43m        \u001b[49m\u001b[43mrun_manager\u001b[49m\u001b[38;5;241;43m=\u001b[39;49m\u001b[43mrun_manager\u001b[49m\u001b[43m,\u001b[49m\n\u001b[1;32m    413\u001b[0m \u001b[43m        \u001b[49m\u001b[43mverbose\u001b[49m\u001b[38;5;241;43m=\u001b[39;49m\u001b[38;5;28;43mself\u001b[39;49m\u001b[38;5;241;43m.\u001b[39;49m\u001b[43mverbose\u001b[49m\u001b[43m,\u001b[49m\n\u001b[1;32m    414\u001b[0m \u001b[43m        \u001b[49m\u001b[38;5;241;43m*\u001b[39;49m\u001b[38;5;241;43m*\u001b[39;49m\u001b[43mkwargs\u001b[49m\u001b[43m,\u001b[49m\n\u001b[1;32m    415\u001b[0m \u001b[43m    \u001b[49m\u001b[43m)\u001b[49m\n\u001b[1;32m    416\u001b[0m     generations\u001b[38;5;241m.\u001b[39mappend([final_chunk])\n\u001b[1;32m    417\u001b[0m \u001b[38;5;28;01mreturn\u001b[39;00m LLMResult(generations\u001b[38;5;241m=\u001b[39mgenerations)\n",
      "File \u001b[0;32m~/Repos/synthetic-clinical-notes/env/lib/python3.11/site-packages/langchain_community/llms/ollama.py:317\u001b[0m, in \u001b[0;36m_OllamaCommon._stream_with_aggregation\u001b[0;34m(self, prompt, stop, run_manager, verbose, **kwargs)\u001b[0m\n\u001b[1;32m    308\u001b[0m \u001b[38;5;28;01mdef\u001b[39;00m \u001b[38;5;21m_stream_with_aggregation\u001b[39m(\n\u001b[1;32m    309\u001b[0m     \u001b[38;5;28mself\u001b[39m,\n\u001b[1;32m    310\u001b[0m     prompt: \u001b[38;5;28mstr\u001b[39m,\n\u001b[0;32m   (...)\u001b[0m\n\u001b[1;32m    314\u001b[0m     \u001b[38;5;241m*\u001b[39m\u001b[38;5;241m*\u001b[39mkwargs: Any,\n\u001b[1;32m    315\u001b[0m ) \u001b[38;5;241m-\u001b[39m\u001b[38;5;241m>\u001b[39m GenerationChunk:\n\u001b[1;32m    316\u001b[0m     final_chunk: Optional[GenerationChunk] \u001b[38;5;241m=\u001b[39m \u001b[38;5;28;01mNone\u001b[39;00m\n\u001b[0;32m--> 317\u001b[0m     \u001b[38;5;28;01mfor\u001b[39;00m stream_resp \u001b[38;5;129;01min\u001b[39;00m \u001b[38;5;28mself\u001b[39m\u001b[38;5;241m.\u001b[39m_create_generate_stream(prompt, stop, \u001b[38;5;241m*\u001b[39m\u001b[38;5;241m*\u001b[39mkwargs):\n\u001b[1;32m    318\u001b[0m         \u001b[38;5;28;01mif\u001b[39;00m stream_resp:\n\u001b[1;32m    319\u001b[0m             chunk \u001b[38;5;241m=\u001b[39m _stream_response_to_generation_chunk(stream_resp)\n",
      "File \u001b[0;32m~/Repos/synthetic-clinical-notes/env/lib/python3.11/site-packages/langchain_community/llms/ollama.py:159\u001b[0m, in \u001b[0;36m_OllamaCommon._create_generate_stream\u001b[0;34m(self, prompt, stop, images, **kwargs)\u001b[0m\n\u001b[1;32m    151\u001b[0m \u001b[38;5;28;01mdef\u001b[39;00m \u001b[38;5;21m_create_generate_stream\u001b[39m(\n\u001b[1;32m    152\u001b[0m     \u001b[38;5;28mself\u001b[39m,\n\u001b[1;32m    153\u001b[0m     prompt: \u001b[38;5;28mstr\u001b[39m,\n\u001b[0;32m   (...)\u001b[0m\n\u001b[1;32m    156\u001b[0m     \u001b[38;5;241m*\u001b[39m\u001b[38;5;241m*\u001b[39mkwargs: Any,\n\u001b[1;32m    157\u001b[0m ) \u001b[38;5;241m-\u001b[39m\u001b[38;5;241m>\u001b[39m Iterator[\u001b[38;5;28mstr\u001b[39m]:\n\u001b[1;32m    158\u001b[0m     payload \u001b[38;5;241m=\u001b[39m {\u001b[38;5;124m\"\u001b[39m\u001b[38;5;124mprompt\u001b[39m\u001b[38;5;124m\"\u001b[39m: prompt, \u001b[38;5;124m\"\u001b[39m\u001b[38;5;124mimages\u001b[39m\u001b[38;5;124m\"\u001b[39m: images}\n\u001b[0;32m--> 159\u001b[0m     \u001b[38;5;28;01myield from\u001b[39;00m \u001b[38;5;28mself\u001b[39m\u001b[38;5;241m.\u001b[39m_create_stream(\n\u001b[1;32m    160\u001b[0m         payload\u001b[38;5;241m=\u001b[39mpayload,\n\u001b[1;32m    161\u001b[0m         stop\u001b[38;5;241m=\u001b[39mstop,\n\u001b[1;32m    162\u001b[0m         api_url\u001b[38;5;241m=\u001b[39m\u001b[38;5;124mf\u001b[39m\u001b[38;5;124m\"\u001b[39m\u001b[38;5;132;01m{\u001b[39;00m\u001b[38;5;28mself\u001b[39m\u001b[38;5;241m.\u001b[39mbase_url\u001b[38;5;132;01m}\u001b[39;00m\u001b[38;5;124m/api/generate\u001b[39m\u001b[38;5;124m\"\u001b[39m,\n\u001b[1;32m    163\u001b[0m         \u001b[38;5;241m*\u001b[39m\u001b[38;5;241m*\u001b[39mkwargs,\n\u001b[1;32m    164\u001b[0m     )\n",
      "File \u001b[0;32m~/Repos/synthetic-clinical-notes/env/lib/python3.11/site-packages/requests/models.py:865\u001b[0m, in \u001b[0;36mResponse.iter_lines\u001b[0;34m(self, chunk_size, decode_unicode, delimiter)\u001b[0m\n\u001b[1;32m    856\u001b[0m \u001b[38;5;250m\u001b[39m\u001b[38;5;124;03m\"\"\"Iterates over the response data, one line at a time.  When\u001b[39;00m\n\u001b[1;32m    857\u001b[0m \u001b[38;5;124;03mstream=True is set on the request, this avoids reading the\u001b[39;00m\n\u001b[1;32m    858\u001b[0m \u001b[38;5;124;03mcontent at once into memory for large responses.\u001b[39;00m\n\u001b[1;32m    859\u001b[0m \n\u001b[1;32m    860\u001b[0m \u001b[38;5;124;03m.. note:: This method is not reentrant safe.\u001b[39;00m\n\u001b[1;32m    861\u001b[0m \u001b[38;5;124;03m\"\"\"\u001b[39;00m\n\u001b[1;32m    863\u001b[0m pending \u001b[38;5;241m=\u001b[39m \u001b[38;5;28;01mNone\u001b[39;00m\n\u001b[0;32m--> 865\u001b[0m \u001b[38;5;28;01mfor\u001b[39;00m chunk \u001b[38;5;129;01min\u001b[39;00m \u001b[38;5;28mself\u001b[39m\u001b[38;5;241m.\u001b[39miter_content(\n\u001b[1;32m    866\u001b[0m     chunk_size\u001b[38;5;241m=\u001b[39mchunk_size, decode_unicode\u001b[38;5;241m=\u001b[39mdecode_unicode\n\u001b[1;32m    867\u001b[0m ):\n\u001b[1;32m    869\u001b[0m     \u001b[38;5;28;01mif\u001b[39;00m pending \u001b[38;5;129;01mis\u001b[39;00m \u001b[38;5;129;01mnot\u001b[39;00m \u001b[38;5;28;01mNone\u001b[39;00m:\n\u001b[1;32m    870\u001b[0m         chunk \u001b[38;5;241m=\u001b[39m pending \u001b[38;5;241m+\u001b[39m chunk\n",
      "File \u001b[0;32m~/Repos/synthetic-clinical-notes/env/lib/python3.11/site-packages/requests/utils.py:566\u001b[0m, in \u001b[0;36mstream_decode_response_unicode\u001b[0;34m(iterator, r)\u001b[0m\n\u001b[1;32m    563\u001b[0m     \u001b[38;5;28;01mreturn\u001b[39;00m\n\u001b[1;32m    565\u001b[0m decoder \u001b[38;5;241m=\u001b[39m codecs\u001b[38;5;241m.\u001b[39mgetincrementaldecoder(r\u001b[38;5;241m.\u001b[39mencoding)(errors\u001b[38;5;241m=\u001b[39m\u001b[38;5;124m\"\u001b[39m\u001b[38;5;124mreplace\u001b[39m\u001b[38;5;124m\"\u001b[39m)\n\u001b[0;32m--> 566\u001b[0m \u001b[38;5;28;01mfor\u001b[39;00m chunk \u001b[38;5;129;01min\u001b[39;00m iterator:\n\u001b[1;32m    567\u001b[0m     rv \u001b[38;5;241m=\u001b[39m decoder\u001b[38;5;241m.\u001b[39mdecode(chunk)\n\u001b[1;32m    568\u001b[0m     \u001b[38;5;28;01mif\u001b[39;00m rv:\n",
      "File \u001b[0;32m~/Repos/synthetic-clinical-notes/env/lib/python3.11/site-packages/requests/models.py:816\u001b[0m, in \u001b[0;36mResponse.iter_content.<locals>.generate\u001b[0;34m()\u001b[0m\n\u001b[1;32m    814\u001b[0m \u001b[38;5;28;01mif\u001b[39;00m \u001b[38;5;28mhasattr\u001b[39m(\u001b[38;5;28mself\u001b[39m\u001b[38;5;241m.\u001b[39mraw, \u001b[38;5;124m\"\u001b[39m\u001b[38;5;124mstream\u001b[39m\u001b[38;5;124m\"\u001b[39m):\n\u001b[1;32m    815\u001b[0m     \u001b[38;5;28;01mtry\u001b[39;00m:\n\u001b[0;32m--> 816\u001b[0m         \u001b[38;5;28;01myield from\u001b[39;00m \u001b[38;5;28mself\u001b[39m\u001b[38;5;241m.\u001b[39mraw\u001b[38;5;241m.\u001b[39mstream(chunk_size, decode_content\u001b[38;5;241m=\u001b[39m\u001b[38;5;28;01mTrue\u001b[39;00m)\n\u001b[1;32m    817\u001b[0m     \u001b[38;5;28;01mexcept\u001b[39;00m ProtocolError \u001b[38;5;28;01mas\u001b[39;00m e:\n\u001b[1;32m    818\u001b[0m         \u001b[38;5;28;01mraise\u001b[39;00m ChunkedEncodingError(e)\n",
      "File \u001b[0;32m~/Repos/synthetic-clinical-notes/env/lib/python3.11/site-packages/urllib3/response.py:624\u001b[0m, in \u001b[0;36mHTTPResponse.stream\u001b[0;34m(self, amt, decode_content)\u001b[0m\n\u001b[1;32m    608\u001b[0m \u001b[38;5;250m\u001b[39m\u001b[38;5;124;03m\"\"\"\u001b[39;00m\n\u001b[1;32m    609\u001b[0m \u001b[38;5;124;03mA generator wrapper for the read() method. A call will block until\u001b[39;00m\n\u001b[1;32m    610\u001b[0m \u001b[38;5;124;03m``amt`` bytes have been read from the connection or until the\u001b[39;00m\n\u001b[0;32m   (...)\u001b[0m\n\u001b[1;32m    621\u001b[0m \u001b[38;5;124;03m    'content-encoding' header.\u001b[39;00m\n\u001b[1;32m    622\u001b[0m \u001b[38;5;124;03m\"\"\"\u001b[39;00m\n\u001b[1;32m    623\u001b[0m \u001b[38;5;28;01mif\u001b[39;00m \u001b[38;5;28mself\u001b[39m\u001b[38;5;241m.\u001b[39mchunked \u001b[38;5;129;01mand\u001b[39;00m \u001b[38;5;28mself\u001b[39m\u001b[38;5;241m.\u001b[39msupports_chunked_reads():\n\u001b[0;32m--> 624\u001b[0m     \u001b[38;5;28;01mfor\u001b[39;00m line \u001b[38;5;129;01min\u001b[39;00m \u001b[38;5;28mself\u001b[39m\u001b[38;5;241m.\u001b[39mread_chunked(amt, decode_content\u001b[38;5;241m=\u001b[39mdecode_content):\n\u001b[1;32m    625\u001b[0m         \u001b[38;5;28;01myield\u001b[39;00m line\n\u001b[1;32m    626\u001b[0m \u001b[38;5;28;01melse\u001b[39;00m:\n",
      "File \u001b[0;32m~/Repos/synthetic-clinical-notes/env/lib/python3.11/site-packages/urllib3/response.py:828\u001b[0m, in \u001b[0;36mHTTPResponse.read_chunked\u001b[0;34m(self, amt, decode_content)\u001b[0m\n\u001b[1;32m    825\u001b[0m     \u001b[38;5;28;01mreturn\u001b[39;00m\n\u001b[1;32m    827\u001b[0m \u001b[38;5;28;01mwhile\u001b[39;00m \u001b[38;5;28;01mTrue\u001b[39;00m:\n\u001b[0;32m--> 828\u001b[0m     \u001b[38;5;28;43mself\u001b[39;49m\u001b[38;5;241;43m.\u001b[39;49m\u001b[43m_update_chunk_length\u001b[49m\u001b[43m(\u001b[49m\u001b[43m)\u001b[49m\n\u001b[1;32m    829\u001b[0m     \u001b[38;5;28;01mif\u001b[39;00m \u001b[38;5;28mself\u001b[39m\u001b[38;5;241m.\u001b[39mchunk_left \u001b[38;5;241m==\u001b[39m \u001b[38;5;241m0\u001b[39m:\n\u001b[1;32m    830\u001b[0m         \u001b[38;5;28;01mbreak\u001b[39;00m\n",
      "File \u001b[0;32m~/Repos/synthetic-clinical-notes/env/lib/python3.11/site-packages/urllib3/response.py:758\u001b[0m, in \u001b[0;36mHTTPResponse._update_chunk_length\u001b[0;34m(self)\u001b[0m\n\u001b[1;32m    756\u001b[0m \u001b[38;5;28;01mif\u001b[39;00m \u001b[38;5;28mself\u001b[39m\u001b[38;5;241m.\u001b[39mchunk_left \u001b[38;5;129;01mis\u001b[39;00m \u001b[38;5;129;01mnot\u001b[39;00m \u001b[38;5;28;01mNone\u001b[39;00m:\n\u001b[1;32m    757\u001b[0m     \u001b[38;5;28;01mreturn\u001b[39;00m\n\u001b[0;32m--> 758\u001b[0m line \u001b[38;5;241m=\u001b[39m \u001b[38;5;28mself\u001b[39m\u001b[38;5;241m.\u001b[39m_fp\u001b[38;5;241m.\u001b[39mfp\u001b[38;5;241m.\u001b[39mreadline()\n\u001b[1;32m    759\u001b[0m line \u001b[38;5;241m=\u001b[39m line\u001b[38;5;241m.\u001b[39msplit(\u001b[38;5;124mb\u001b[39m\u001b[38;5;124m\"\u001b[39m\u001b[38;5;124m;\u001b[39m\u001b[38;5;124m\"\u001b[39m, \u001b[38;5;241m1\u001b[39m)[\u001b[38;5;241m0\u001b[39m]\n\u001b[1;32m    760\u001b[0m \u001b[38;5;28;01mtry\u001b[39;00m:\n",
      "File \u001b[0;32m/opt/homebrew/Cellar/python@3.11/3.11.4_1/Frameworks/Python.framework/Versions/3.11/lib/python3.11/socket.py:706\u001b[0m, in \u001b[0;36mSocketIO.readinto\u001b[0;34m(self, b)\u001b[0m\n\u001b[1;32m    704\u001b[0m \u001b[38;5;28;01mwhile\u001b[39;00m \u001b[38;5;28;01mTrue\u001b[39;00m:\n\u001b[1;32m    705\u001b[0m     \u001b[38;5;28;01mtry\u001b[39;00m:\n\u001b[0;32m--> 706\u001b[0m         \u001b[38;5;28;01mreturn\u001b[39;00m \u001b[38;5;28;43mself\u001b[39;49m\u001b[38;5;241;43m.\u001b[39;49m\u001b[43m_sock\u001b[49m\u001b[38;5;241;43m.\u001b[39;49m\u001b[43mrecv_into\u001b[49m\u001b[43m(\u001b[49m\u001b[43mb\u001b[49m\u001b[43m)\u001b[49m\n\u001b[1;32m    707\u001b[0m     \u001b[38;5;28;01mexcept\u001b[39;00m timeout:\n\u001b[1;32m    708\u001b[0m         \u001b[38;5;28mself\u001b[39m\u001b[38;5;241m.\u001b[39m_timeout_occurred \u001b[38;5;241m=\u001b[39m \u001b[38;5;28;01mTrue\u001b[39;00m\n",
      "\u001b[0;31mKeyboardInterrupt\u001b[0m: "
     ]
    }
   ],
   "source": [
    "for i in range(5):\n",
    "    llm_input = {'data': json.dumps(long_visit_dict[list(long_visit_dict.keys())[i]])}\n",
    "    formatted_prompt = prompt.format_prompt(data = llm_input)\n",
    "    response = llm(formatted_prompt.to_string())\n",
    "    long_visit_dict[list(long_visit_dict.keys())[i]]['Admission_note'] = response"
   ]
  },
  {
   "cell_type": "code",
   "execution_count": 11,
   "metadata": {},
   "outputs": [
    {
     "name": "stderr",
     "output_type": "stream",
     "text": [
      "/Users/zellaking/Repos/synthetic-clinical-notes/env/lib/python3.11/site-packages/langchain_core/_api/deprecation.py:117: LangChainDeprecationWarning: The function `__call__` was deprecated in LangChain 0.1.7 and will be removed in 0.2.0. Use invoke instead.\n",
      "  warn_deprecated(\n"
     ]
    },
    {
     "name": "stdout",
     "output_type": "stream",
     "text": [
      "{\n",
      "\"history_of_present_illness\": \"The patient is a 45-year-old male who presents with sudden onset of severe chest pain radiating to the left arm, shortness of breath, and lightheadedness. The patient reports that the symptoms began approximately 1 hour ago and have worsened over time. The patient has no history of cardiac disease or other significant medical conditions. The patient is conscious and alert, but appears anxious and agitated.\",\n",
      "\"physical_examination\": \"On examination, the patient's vital signs are as follows: blood pressure 180/100 mmHg, pulse rate 120 bpm, respiratory rate 24 bpm, oxygen saturation 90% on room air. The patient has a distended abdomen with tenderness to palpation in the epigastric area. There is a faint murmur heard on the left side of the chest. The patient's neck is supple and there is no jugular vein distension. The patient's cardiac auscultation reveals a grade 2/6 systolic murmur at the apex of the heart.\",\n",
      "\"assessment_and_plan\": \"Based on the patient's history and physical examination, I suspect that the patient is experiencing a myocardial infarction (MI). The sudden onset of severe chest pain, radiating to the left arm and shortness of breath are classic symptoms of MI. The patient's vital signs, particularly the elevated blood pressure and tachycardia, also support this diagnosis. I recommend that the patient be admitted to the hospital for further evaluation and management of the MI. Specifically, I suggest that the patient undergo an emergency electrocardiogram (ECG) to confirm the diagnosis and determine the extent of the MI. Additionally, I recommend that the patient receive intravenous aspirin 325 mg, stat, to help reduce the risk of further damage to the myocardium. If the ECG confirms the diagnosis of MI, I propose that the patient be given a loading dose of thrombolytic medication (e.g., tPA) to dissolve the occluded coronary artery and reverse the MI. Further management will depend on the outcome of these interventions and the patient's overall clinical status.\"\n",
      "}"
     ]
    }
   ],
   "source": [
    "formatted_prompt = prompt.format_prompt(data = batch[0])\n",
    "type(formatted_prompt.to_string())\n",
    "\n",
    "# for a batch of items\n",
    "# llm.generate([formatted_prompt.to_string()])\n",
    "\n",
    "# for a single item\n",
    "response = llm(formatted_prompt.to_string())"
   ]
  },
  {
   "cell_type": "code",
   "execution_count": 25,
   "metadata": {},
   "outputs": [],
   "source": [
    "from utils.write_to_json import write_to_json\n",
    "\n",
    "try:\n",
    "    response_json = json.loads(response)\n",
    "    write_to_json(response_json, notebook_name)\n",
    "except:\n",
    "    print(\"Can't convert to json\")"
   ]
  },
  {
   "cell_type": "code",
   "execution_count": 21,
   "metadata": {},
   "outputs": [
    {
     "data": {
      "text/plain": [
       "['experiment_1.1_20231006_0850.json',\n",
       " 'experiment_1.1_20231008_2049.json',\n",
       " 'experiment_1.1_20231008_2106.json',\n",
       " '__init__.py',\n",
       " 'experiment_1.1.3_20231029_1823.json',\n",
       " 'experiment_1.1.1_20231027_1639.json',\n",
       " 'experiment_1.0_20231002_2120.json',\n",
       " 'experiment_1.1.2_20231027_1747.json',\n",
       " 'experiment_1.1.1_20231022_1938.json']"
      ]
     },
     "execution_count": 21,
     "metadata": {},
     "output_type": "execute_result"
    }
   ],
   "source": [
    "os.listdir(output_path)\n",
    "# output_file = output_path + '/llm_dataset.json'\n",
    "\n",
    "# with open(output_file, 'w') as f:\n",
    "#         json.dump(response, f)"
   ]
  },
  {
   "cell_type": "markdown",
   "metadata": {},
   "source": [
    "## Run inference on batch"
   ]
  },
  {
   "cell_type": "code",
   "execution_count": 26,
   "metadata": {},
   "outputs": [
    {
     "name": "stdout",
     "output_type": "stream",
     "text": [
      "{\n",
      "\"history_of_present_illness\": \"The patient is a 45-year-old male who presents with a 2-day history of worsening headache, nausea, and vomiting. The patient states that the symptoms started suddenly and have been getting worse over time. He also reports feeling dizzy and disoriented, with difficulty walking and maintaining balance. The patient has no significant medical history or recent travel. He is currently working as a manual laborer and denies any trauma or recent injuries.\",\n",
      "\"physical_examination\": \"On examination, the patient is pale and sweaty. Vital signs show a temperature of 38.5 degrees Celsius, pulse rate of 120 beats per minute, respiratory rate of 24 breaths per minute, and blood pressure of 100/60 mmHg. The patient's headache is severe and localized to the frontal region, with no other focal neurological signs. There are no signs of dehydration or electrolyte imbalance. The patient's movements are slow and deliberate, with a slight tremor in both hands. The patient's speech is slurred and difficult to understand.\",\n",
      "\"assessment_and_plan\": \"Based on the patient's history and examination findings, I suspect that he may be experiencing a severe migraine attack. The patient's symptoms of headache, nausea, and vomiting are consistent with this diagnosis. Additionally, the patient's slow and deliberate movements and slurred speech suggest possible cerebellar dysfunction, which can occur in some cases of migraine.\n",
      "\n",
      "Based on these findings, I recommend the following plan:\n",
      "\n",
      "1. Admit the patient to the hospital for further evaluation and management.\n",
      "2. Order a CT scan of the head to rule out any intracranial causes of the patient's symptoms.\n",
      "3. Provide the patient with a triage of pain medications, including ibuprofen and sumatriptan, to help manage his headache.\n",
      "4. Monitor the patient's vital signs and fluid status closely, and provide appropriate fluids and electrolyte replacement as needed.\n",
      "5. Consider prescribing a preventive medication for the patient, such as a triptan or an ergotamine, to help reduce the frequency and severity of his migraine attacks in the future.\n",
      "6. Arrange for the patient's workplace to provide accommodations for him, such as a quiet room or flexible work schedule, to help manage his symptoms and prevent further exacerbation of his condition.\",\n",
      "}{\n",
      "\"history_of_present_illness\": \"The patient is a 45-year-old male who presents to the emergency department with a sudden onset of severe headache, nausea, and vomiting. The patient states that the symptoms began about an hour ago and have been worsening over time. The patient has no known allergies or medical history of significance. The patient is in no distress, but appears uncomfortable.\",\n",
      "\"physical_examination\": \"On examination, the patient's vital signs are as follows: temperature 98.6 degrees Fahrenheit, blood pressure 120/80 mmHg, heart rate 78 beats per minute, respiratory rate 14 breaths per minute. The patient's headache is severe and localized to the frontal lobe of the brain. There are no focal neurological signs. The patient's abdomen is soft and non-tender. There are no palpable masses or tenderness to the touch.\",\n",
      "\"assessment_and_plan\": \"Based on the patient's history and physical examination, I suspect that the patient is experiencing a severe headache related to an acute migraine attack. The patient's vital signs are within normal limits, but the patient's symptoms suggest that they may be at risk for dehydration. Based on this assessment, I recommend that the patient be admitted to the hospital for further observation and treatment. Specifically, I recommend that the patient receive intravenous fluids and a pain management plan consisting of non-steroidal anti-inflammatory drugs (NSAIDs) and sumatriptan. Additionally, I recommend that the patient's blood work be checked for any signs of electrolyte imbalances or other underlying conditions that may be contributing to their symptoms.\",\n",
      "}{\n",
      "\"history_of_present_illness\": \"The patient is a 45-year-old male who presents to the emergency department with a sudden onset of severe headache, nausea, and vomiting. The patient states that the symptoms began about an hour ago and have been progressively worsening since then. The patient has no significant medical history and takes no regular medications. The patient's vital signs are as follows: temperature 98.6°F, blood pressure 120/80 mmHg, pulse rate 75 beats per minute, respiratory rate 14 breaths per minute, and oxygen saturation 98% on room air.\",\n",
      "\"physical_examination\": \"On examination, the patient appears anxious and agitated. The patient's head and neck are supple and there is no evidence of trauma or abnormalities. The patient's pupils are equal and reactive to light. The patient's cardiovascular examination reveals a normal heart rate and blood pressure. The patient's respiratory examination shows normal breath sounds and an unlabored air movement. The patient's abdominal examination is normal. The patient's neurological examination reveals no focal deficits or abnormalities. The patient's skin is warm and dry.\",\n",
      "\"assessment_and_plan\": \"Based on the patient's history of present illness and physical examination findings, I suspect that the patient may be experiencing a severe migraine episode. Migraines are characterized by severe headache pain, nausea, and vomiting, often accompanied by sensitivity to light and sound. The patient's vital signs and neurological examination findings are consistent with this diagnosis.\n",
      "\n",
      "My plan for the patient's admission is as follows:\n",
      "\n",
      "1. Obtain a complete medication history to identify any potential triggers or contributing factors for the migraine episode.\n",
      "2. Administer an anti-migraine medication, such as sumatriptan or frovatriptan, to help alleviate the headache and other symptoms.\n",
      "3. Provide the patient with a dark, quiet room to rest and relax in until the medication takes effect.\n",
      "4. Monitor the patient's vital signs and observe for any changes in their condition.\n",
      "5. If the patient's condition does not improve within 30 minutes of receiving the medication, consider alternative diagnoses and appropriate next steps, such as consulting with a neurologist or admitting the patient to the hospital for further evaluation and treatment.\"{\n",
      "\"history_of_present_illness\": \"Ms. Smith, a 65-year-old female, presents to the emergency department with a 2-day history of worsening left-sided chest pain and shortness of breath. The patient reports that the symptoms began suddenly and have been progressively worse over the past 48 hours. She has a past medical history of hypertension, hyperlipidemia, and chronic obstructive pulmonary disease (COPD). The patient denies any recent trauma or exposure to infections. She is currently taking her medications as prescribed and has not experienced any recent changes in her symptoms.\",\n",
      "\"physical_examination\": \"On examination, the patient's vital signs are: blood pressure 160/90 mmHg, heart rate 120 bpm, respiratory rate 24 breaths per minute. The patient's chest examination reveals bilateral wheezing and decreased breath sounds on the left side of the chest. There is also a 2-cm x 3-cm area of tenderness to palpation in the left posterior thorax, which is likely secondary to a pulmonary embolism. The patient's abdomen is soft and nontender, with no obvious distension or tenderness. The neurological examination is normal.\",\n",
      "\"assessment_and_plan\": \"Based on the patient's history and physical examination findings, I suspect that she is experiencing a pulmonary embolism. Given the sudden onset of chest pain and shortness of breath, as well as the patient's medical history of COPD, I believe that this is a likely cause of her symptoms. I recommend that the patient undergo urgent imaging studies, such as a chest X-ray or CT scan, to confirm the presence of a pulmonary embolism. If the diagnosis is confirmed, I propose that the patient be admitted to the hospital for further management and treatment, including anticoagulation therapy and close monitoring for any signs of worsening symptoms. Additionally, given the patient's history of hypertension and hyperlipidemia, I recommend that she be referred to a cardiologist for further evaluation and management of these conditions.\",\n",
      "}{\n",
      "\"history_of_present_illness\": \"The patient is a 45-year-old male who presents to the emergency department with a 2-day history of worsening left sided chest pain that radiates to the arm and jaw. The pain is described as sharp and stabbing, and is exacerbated by deep breathing or coughing. The patient reports that the pain started suddenly and has not improved despite taking ibuprofen. The patient has a history of hypertension and smokes 20 cigarettes per day.\",\n",
      "\"physical_examination\": \"On examination, the patient is alert and awake but appears uncomfortable. Vital signs are as follows: blood pressure 170/90 mmHg, heart rate 110 bpm, respiratory rate 24 breaths per minute. The patient has a distended neck vein and there is evidence of jugular vein distension. There is a faint apical Murmur heard on cardiac examination. The patient's oxygen saturation is 90% on room air. The patient has minimal mobility and is unable to perform any activities.\",\n",
      "\"assessment_and_plan\": \"Based on the patient's history and physical examination, I diagnose him with a myocardial infarction (MI) likely caused by an occlusion of the left anterior descending coronary artery. The patient's symptoms are consistent with this diagnosis, as is the evidence of jugular vein distension and apical Murmur heard on cardiac examination. I recommend that the patient be admitted to the hospital for further evaluation and management. Specifically, I propose the following:\n",
      "\n",
      "* Order an electrocardiogram (ECG) to confirm the diagnosis of MI and to identify any other abnormalities in the patient's heart rhythm.\n",
      "* Order a blood test to check the patient's troponin levels, which will help to confirm the diagnosis of MI and rule out other possible causes of chest pain.\n",
      "* Order an echocardiogram to evaluate the patient's left ventricular function and to identify any areas of scar tissue or abnormalities in the heart muscle.\n",
      "* Consider administering aspirin and clopidogrel, medications that are commonly used to treat patients with MI, to help prevent further heart damage and to reduce the risk of future cardiac events.\n",
      "* Discuss with the patient the importance of smoking cessation and stress the need for ongoing management of hypertension to reduce the risk of future cardiac events.\"\n",
      "}"
     ]
    }
   ],
   "source": [
    "outputs = chain.batch(batch)"
   ]
  },
  {
   "cell_type": "code",
   "execution_count": 37,
   "metadata": {},
   "outputs": [
    {
     "data": {
      "text/plain": [
       "'{\\n\"history_of_present_illness\": \"The patient is a 45-year-old male who presents with a 2-day history of worsening headache, nausea, and vomiting. The patient states that the symptoms started suddenly and have been getting worse over time. He also reports feeling dizzy and disoriented, with difficulty walking and maintaining balance. The patient has no significant medical history or recent travel. He is currently working as a manual laborer and denies any trauma or recent injuries.\",\\n\"physical_examination\": \"On examination, the patient is pale and sweaty. Vital signs show a temperature of 38.5 degrees Celsius, pulse rate of 120 beats per minute, respiratory rate of 24 breaths per minute, and blood pressure of 100/60 mmHg. The patient\\'s headache is severe and localized to the frontal region, with no other focal neurological signs. There are no signs of dehydration or electrolyte imbalance. The patient\\'s movements are slow and deliberate, with a slight tremor in both hands. The patient\\'s speech is slurred and difficult to understand.\",\\n\"assessment_and_plan\": \"Based on the patient\\'s history and examination findings, I suspect that he may be experiencing a severe migraine attack. The patient\\'s symptoms of headache, nausea, and vomiting are consistent with this diagnosis. Additionally, the patient\\'s slow and deliberate movements and slurred speech suggest possible cerebellar dysfunction, which can occur in some cases of migraine.\\n\\nBased on these findings, I recommend the following plan:\\n\\n1. Admit the patient to the hospital for further evaluation and management.\\n2. Order a CT scan of the head to rule out any intracranial causes of the patient\\'s symptoms.\\n3. Provide the patient with a triage of pain medications, including ibuprofen and sumatriptan, to help manage his headache.\\n4. Monitor the patient\\'s vital signs and fluid status closely, and provide appropriate fluids and electrolyte replacement as needed.\\n5. Consider prescribing a preventive medication for the patient, such as a triptan or an ergotamine, to help reduce the frequency and severity of his migraine attacks in the future.\\n6. Arrange for the patient\\'s workplace to provide accommodations for him, such as a quiet room or flexible work schedule, to help manage his symptoms and prevent further exacerbation of his condition.\",\\n}'"
      ]
     },
     "execution_count": 37,
     "metadata": {},
     "output_type": "execute_result"
    }
   ],
   "source": [
    "outputs[0]"
   ]
  },
  {
   "cell_type": "code",
   "execution_count": 48,
   "metadata": {},
   "outputs": [
    {
     "data": {
      "text/plain": [
       "{'history_of_present_illness': 'The patient is a 45-year-old male who presents with a 2-day history of worsening headache, nausea, and vomiting. The patient states that the symptoms started suddenly and have been getting worse over time. He also reports feeling dizzy and disoriented, with difficulty walking and maintaining balance. The patient has no significant medical history or recent travel. He is currently working as a manual laborer and denies any trauma or recent injuries.',\n",
       " 'physical_examination': \"On examination, the patient is pale and sweaty. Vital signs show a temperature of 38.5 degrees Celsius, pulse rate of 120 beats per minute, respiratory rate of 24 breaths per minute, and blood pressure of 100/60 mmHg. The patient's headache is severe and localized to the frontal region, with no other focal neurological signs. There are no signs of dehydration or electrolyte imbalance. The patient's movements are slow and deliberate, with a slight tremor in both hands. The patient's speech is slurred and difficult to understand.\",\n",
       " 'assessment_and_plan': \"Based on the patient's history and examination findings, I suspect that he may be experiencing a severe migraine attack. The patient's symptoms of headache, nausea, and vomiting are consistent with this diagnosis. Additionally, the patient's slow and deliberate movements and slurred speech suggest possible cerebellar dysfunction, which can occur in some cases of migraine.Based on these findings, I recommend the following plan:1. Admit the patient to the hospital for further evaluation and management.2. Order a CT scan of the head to rule out any intracranial causes of the patient's symptoms.3. Provide the patient with a triage of pain medications, including ibuprofen and sumatriptan, to help manage his headache.4. Monitor the patient's vital signs and fluid status closely, and provide appropriate fluids and electrolyte replacement as needed.5. Consider prescribing a preventive medication for the patient, such as a triptan or an ergotamine, to help reduce the frequency and severity of his migraine attacks in the future.6. Arrange for the patient's workplace to provide accommodations for him, such as a quiet room or flexible work schedule, to help manage his symptoms and prevent further exacerbation of his condition.\"}"
      ]
     },
     "execution_count": 48,
     "metadata": {},
     "output_type": "execute_result"
    }
   ],
   "source": [
    "# def clean_json_string(input_string):\n",
    "#     # Regex to find control characters except new line, carriage return, and tab\n",
    "#     control_char_regex = r'[\\x00-\\x08\\x0b\\x0c\\x0e-\\x1f\\x7f]'\n",
    "    \n",
    "#     # Replace found control characters with an empty string\n",
    "#     cleaned_string = re.sub(control_char_regex, '', input_string)\n",
    "    \n",
    "#     return cleaned_string\n",
    "\n",
    "# # json.loads(clean_json_string(outputs[0]))\n",
    "\n",
    "# def escape_json_string(input_string):\n",
    "#     # Escapes control characters like newline and tab that are within string values\n",
    "#     escaped_string = input_string.replace('\\n', '\\\\n').replace('\\r', '\\\\r').replace('\\t', '\\\\t')\n",
    "#     return escaped_string\n",
    "\n",
    "def remove_control_characters(input_string):\n",
    "    # Regex to match all control characters\n",
    "    control_chars = re.compile(r'[\\x00-\\x1F\\x7F]')\n",
    "    \n",
    "    # Remove the control characters\n",
    "    cleaned_string = re.sub(control_chars, '', input_string)\n",
    "    \n",
    "    return cleaned_string\n",
    "\n",
    "def fix_json_trailing_comma(json_string):\n",
    "    # Regular expression to find trailing commas before a closing brace or bracket\n",
    "    fixed_json = re.sub(r',(\\s*[}\\]])', r'\\1', json_string)\n",
    "    return fixed_json\n",
    "\n",
    "json.loads(fix_json_trailing_comma(remove_control_characters(outputs[0])))\n",
    "# json.loads(remove_control_characters(outputs[0]))\n",
    "\n"
   ]
  },
  {
   "cell_type": "code",
   "execution_count": 52,
   "metadata": {},
   "outputs": [
    {
     "data": {
      "text/plain": [
       "{'history_of_present_illness': 'The patient is a 45-year-old male who presents with a 2-day history of worsening headache, nausea, and vomiting. The patient states that the symptoms started suddenly and have been getting worse over time. He also reports feeling dizzy and disoriented, with difficulty walking and maintaining balance. The patient has no significant medical history or recent travel. He is currently working as a manual laborer and denies any trauma or recent injuries.',\n",
       " 'physical_examination': \"On examination, the patient is pale and sweaty. Vital signs show a temperature of 38.5 degrees Celsius, pulse rate of 120 beats per minute, respiratory rate of 24 breaths per minute, and blood pressure of 100/60 mmHg. The patient's headache is severe and localized to the frontal region, with no other focal neurological signs. There are no signs of dehydration or electrolyte imbalance. The patient's movements are slow and deliberate, with a slight tremor in both hands. The patient's speech is slurred and difficult to understand.\",\n",
       " 'assessment_and_plan': \"Based on the patient's history and examination findings, I suspect that he may be experiencing a severe migraine attack. The patient's symptoms of headache, nausea, and vomiting are consistent with this diagnosis. Additionally, the patient's slow and deliberate movements and slurred speech suggest possible cerebellar dysfunction, which can occur in some cases of migraine.Based on these findings, I recommend the following plan:1. Admit the patient to the hospital for further evaluation and management.2. Order a CT scan of the head to rule out any intracranial causes of the patient's symptoms.3. Provide the patient with a triage of pain medications, including ibuprofen and sumatriptan, to help manage his headache.4. Monitor the patient's vital signs and fluid status closely, and provide appropriate fluids and electrolyte replacement as needed.5. Consider prescribing a preventive medication for the patient, such as a triptan or an ergotamine, to help reduce the frequency and severity of his migraine attacks in the future.6. Arrange for the patient's workplace to provide accommodations for him, such as a quiet room or flexible work schedule, to help manage his symptoms and prevent further exacerbation of his condition.\"}"
      ]
     },
     "execution_count": 52,
     "metadata": {},
     "output_type": "execute_result"
    }
   ],
   "source": [
    "json.loads(fix_json_trailing_comma(remove_control_characters(outputs[0])))"
   ]
  },
  {
   "cell_type": "code",
   "execution_count": 59,
   "metadata": {},
   "outputs": [
    {
     "name": "stdout",
     "output_type": "stream",
     "text": [
      "0\n",
      "1\n",
      "2\n",
      "Could not parse item 2\n",
      "3\n",
      "4\n"
     ]
    }
   ],
   "source": [
    "cleaned_outputs = []\n",
    "\n",
    "for i in range(5):\n",
    "    print(i)\n",
    "    try:\n",
    "        response_json = json.loads(fix_json_trailing_comma(remove_control_characters(outputs[i])))\n",
    "        encounter_key = list(long_visit_dict.keys())[i]\n",
    "        cleaned_outputs.append({encounter_key : response_json})\n",
    "    except:\n",
    "        print('Could not parse item ' + str(i))\n",
    "    \n",
    "\n",
    "\n",
    "\n"
   ]
  },
  {
   "cell_type": "code",
   "execution_count": 62,
   "metadata": {},
   "outputs": [],
   "source": [
    "try:\n",
    "    response_json = json.loads(response)\n",
    "    write_to_json(cleaned_outputs, notebook_name)\n",
    "except:\n",
    "    print(\"Can't convert to json\")"
   ]
  },
  {
   "cell_type": "code",
   "execution_count": 19,
   "metadata": {},
   "outputs": [
    {
     "data": {
      "text/plain": [
       "list"
      ]
     },
     "execution_count": 19,
     "metadata": {},
     "output_type": "execute_result"
    }
   ],
   "source": [
    "# output_path = \"../../data\"\n",
    "# os.listdir(output_path)\n",
    "# output_file = output_path + '/llm_dataset.json'\n",
    "\n",
    "# with open(output_file, 'w') as f:\n",
    "#         json.dump(batch, f)"
   ]
  },
  {
   "cell_type": "code",
   "execution_count": null,
   "metadata": {},
   "outputs": [],
   "source": []
  }
 ],
 "metadata": {
  "kernelspec": {
   "display_name": ".venv",
   "language": "python",
   "name": "python3"
  },
  "language_info": {
   "codemirror_mode": {
    "name": "ipython",
    "version": 3
   },
   "file_extension": ".py",
   "mimetype": "text/x-python",
   "name": "python",
   "nbconvert_exporter": "python",
   "pygments_lexer": "ipython3",
   "version": "3.11.4"
  }
 },
 "nbformat": 4,
 "nbformat_minor": 2
}
