{
 "cells": [
  {
   "cell_type": "markdown",
   "metadata": {},
   "source": [
    "# Experiment 1.2\n",
    "\n",
    "As in the previous experiment 1, the goal is: \n",
    "\n",
    "* Demonstrate an example of calling the ChatGPT API \n",
    "* Solve some of the problems in formatting output\n",
    "* Use ChatGPT to (a) pick a medical condition and (b) generate an admission note given some simple patient details\n",
    "* Evaluate the output for (a) successful generation of text (b) plausibility of admission note\n",
    "\n",
    "In order to seed the LLM with some patient information, I start with some patient parameters provided by synthetic data. NHS England prepared a synthetic dataset of A&E presentations. A blog post about it is [here](https://open-innovations.org/blog/2019-01-24-exploring-methods-for-creating-synthetic-a-e-data). The dataset can be accessed from [this website](https://data.england.nhs.uk/dataset/a-e-synthetic-data/resource/81b068e5-6501-4840-a880-a8e7aa56890e#). \n",
    "\n",
    "A notebook exploring these data is [here](explore-nhse-ae-data.ipynb)\n",
    "\n",
    "This dataset provides, among other things, the hospital length of stay and whether the patient was admitted. As my interest is in clinical notes that are generated during hospital visits, I'm more interested in inpatients. I will use the length of stay information from the A&E dataset to ask ChatGPT to pick a medical condition that would merit inpatient admission. I also investigate whether, by giving the lengh of stay information, the admission note would indicate a severity that could plausibly (at least barring any unexpected developments in the patient's trajectory) result in a such a stay. \n",
    "\n",
    "In previous iterations I have already found limitations when evaluating the output on:\n",
    "\n",
    "* on their readability as admission notes (although as I am not medical, I cannot do a full evaluation)\n",
    "* on the plausbility of the medical condition chosen by ChatGPT leading to a hospital visit of this length\n",
    "\n",
    "However, as I'm currently not able to access ChatGPT v4, I want to save 100 notes using gpt-3.5-turbo-0613, for comparison later. So I will continue with this approach for now.\n"
   ]
  },
  {
   "cell_type": "markdown",
   "metadata": {},
   "source": [
    "## Set up"
   ]
  },
  {
   "cell_type": "code",
   "execution_count": 2,
   "metadata": {},
   "outputs": [],
   "source": [
    "# Reload functions every time\n",
    "%load_ext autoreload \n",
    "%autoreload 2"
   ]
  },
  {
   "cell_type": "code",
   "execution_count": 1,
   "metadata": {},
   "outputs": [],
   "source": [
    "# Load libraries\n",
    "import sys\n",
    "import os\n",
    "import pandas as pd\n",
    "from pathlib import Path\n",
    "\n",
    "import seaborn as sns\n",
    "import matplotlib.pyplot as plt\n",
    "import warnings\n",
    "warnings.filterwarnings(\"ignore\", category=FutureWarning)\n",
    "\n",
    "\n",
    "# Import the variables that have been set in the init.py folder in the root directory\n",
    "# These include a constant called PROJECT_ROOT which stores the absolute path to this folder\n",
    "sys.path.append(os.path.abspath(os.path.join(os.getcwd(), os.pardir)))\n",
    "import init\n",
    "PROJECT_ROOT = os.getenv(\"PROJECT_ROOT\")\n",
    "\n",
    "# Add the src folder to sys path, so that the application knows to look there for libraries\n",
    "sys.path.append(str(Path(PROJECT_ROOT) / 'src'))\n",
    "\n",
    "# Import function to load data\n",
    "from data_ingestion.load_data import load_nhse_data\n",
    "\n",
    "from utils.write_to_json import write_to_json\n",
    "from utils.load_from_json import load_from_json\n",
    "\n",
    "from functions.patient_class import Patient\n",
    "\n"
   ]
  },
  {
   "cell_type": "markdown",
   "metadata": {},
   "source": [
    "## Load data\n",
    "\n",
    "Here the function called load_file()  \n",
    "\n",
    "* check if the NHS England datset has already been saved in a local folder called data_store in a parquet format; if so the function returns it\n",
    "* if not, it checks for the zip file from the NHSE website and if not downloads it, unzips it and saves it \n",
    "* the file is unzipped to csv and read as as pandas dataframe and saved to parquet format"
   ]
  },
  {
   "cell_type": "code",
   "execution_count": 3,
   "metadata": {},
   "outputs": [],
   "source": [
    "ed = load_nhse_data()\n",
    "# ed.head()"
   ]
  },
  {
   "cell_type": "markdown",
   "metadata": {},
   "source": [
    "## Generate 100 instances of a patient with admission notes\n",
    "\n",
    "Here I pick rows from the A&E dataset at random, and generate admission notes for them. I chose to save these to a json file, rather than to individual text files or to SQL, as this is human readable. You can view the full output [here](../src/data_exports/note_dict_20231002_2120.json)\n",
    "\n",
    "This uses a class definition called Patient(). To see the script, go to [../src/functions/patient_class.py](../src/functions/patient_class.py) An instance of this class, here referred to as a persona, is a single patient. The instance is populated with the variables retrieved from a single row of the ED dataset loaded above.\n",
    "\n",
    "The steps are the following:\n",
    "* select a row from the A&E data\n",
    "* pass the row information to the class definition\n",
    "\n",
    "In addition, as part of creating the persona, a call to ChatGPT is made using the OpenAI API. Certain details about the patient (listed below) are embedded into the prompt to be passed in. ChatGPT is asked to generate a medical condition, and an admission note. \n",
    "\n",
    "A sub-function [pick_medical_condition()](../src/functions/pick_medical_condition.py) is called to populate three additional attributes of the persona: the medical condition, their admission note, and their most recent note (which is this case is the admission note, but later this attribute could be something else like a progress note). \n",
    "\n",
    "The script [pick_medical_condition()](../src/functions/pick_medical_condition.py)\n",
    "\n",
    "* calls a function [generate_prompt_presenting_condition()](../src/functions/pick_medical_condition.py) (scroll down the file) which populates a ChatGPT prompt with details about the patient. The prompt contains ChatGPT's instructions and requests the ouput in a json format. To see the text of the prompt, go to [pick_medical_condition.txt](../templates/prompt_templates/pick_medical_condition.txt)\n",
    "* calls ChatGPT with the prompt. Functions used to call ChatGPT are in [prompt_functions.py](../src/functions/prompt_functions.py)\n",
    "* attempts to parse the json output"
   ]
  },
  {
   "cell_type": "code",
   "execution_count": 5,
   "metadata": {},
   "outputs": [],
   "source": [
    "attributes = ['Age_Band', 'AE_Arrive_HourOfDay', 'AE_Time_Mins',  'Length_Of_Stay_Days', 'ICD10_Chapter_Code', 'Title', 'Medical_Condition', 'Admission_Note']\n",
    "note_dict = {}\n",
    "\n",
    "def row_to_patient(row):\n",
    "    return Patient(*row)"
   ]
  },
  {
   "cell_type": "code",
   "execution_count": 6,
   "metadata": {},
   "outputs": [
    {
     "name": "stdout",
     "output_type": "stream",
     "text": [
      "Successful admission note for patient with id 4398762\n"
     ]
    }
   ],
   "source": [
    "while len(note_dict.keys()) < 100:\n",
    "\n",
    "    for index, persona in ed.sample(1).iterrows():\n",
    "\n",
    "        Pat = row_to_patient(persona)\n",
    "\n",
    "        if Pat.Admission_Note != '' and 'failed on json' not in str(Pat.Admission_Note):\n",
    "\n",
    "            print(\"Successful admission note for patient with id \" + str(index))\n",
    "            \n",
    "            note_dict[Pat.id] = {}\n",
    "            note_dict[Pat.id] = {attr: getattr(Pat, attr) for attr in attributes if hasattr(Pat, attr)}\n",
    "\n",
    "        else: \n",
    "\n",
    "            print(\"Failed admission note for patient with id \" + str(index))\n",
    "\n",
    "    if len(note_dict.keys()) % 10 == 0:\n",
    "        write_to_json(note_dict, 'experiment_1.2')"
   ]
  },
  {
   "cell_type": "code",
   "execution_count": 9,
   "metadata": {},
   "outputs": [
    {
     "data": {
      "text/plain": [
       "1"
      ]
     },
     "execution_count": 9,
     "metadata": {},
     "output_type": "execute_result"
    }
   ],
   "source": [
    "len(note_dict.keys())"
   ]
  },
  {
   "cell_type": "markdown",
   "metadata": {},
   "source": [
    "## Evaluate output"
   ]
  },
  {
   "cell_type": "code",
   "execution_count": 59,
   "metadata": {},
   "outputs": [],
   "source": [
    "note_dict = load_from_json('note_dict')"
   ]
  },
  {
   "cell_type": "markdown",
   "metadata": {},
   "source": [
    "### Quantitative evaluation\n",
    "\n",
    "First, check how many records are complete. Ideally, both medical condition and admission note would be populated for all patients. Here 4 out of 10 meet that criterion. You can view the full output [here](../src/data_exports/note_dict_20231002_2120.json)"
   ]
  },
  {
   "cell_type": "code",
   "execution_count": 60,
   "metadata": {},
   "outputs": [
    {
     "name": "stdout",
     "output_type": "stream",
     "text": [
      "Number of records that failed completely: 1\n",
      "Number of records with medical condition: 6\n",
      "Number of records with admission note: 4\n"
     ]
    }
   ],
   "source": [
    "admission_note_count = 0\n",
    "medical_condition_count = 0\n",
    "failed_count_total = 0\n",
    "complete = 0\n",
    "\n",
    "for id, persona in note_dict.items():\n",
    "\n",
    "    # check for json issues\n",
    "    failed_count = 0\n",
    "    for key_, value_ in persona.items():\n",
    "        if 'failed on json' in str(value_):\n",
    "            failed_count = 1\n",
    "    if failed_count == 0:\n",
    "\n",
    "        if persona['Admission_Note'] != '' :\n",
    "            admission_note_count +=1\n",
    "        if persona['Medical_Condition'] != '' :\n",
    "            medical_condition_count +=1\n",
    "            if persona['Admission_Note'] != '':\n",
    "                persona['complete'] = True\n",
    "    else:\n",
    "        failed_count_total+=1\n",
    "    \n",
    "print(\"Number of records that failed completely: \" + str(failed_count_total))\n",
    "print(\"Number of records with medical condition: \" + str(medical_condition_count))\n",
    "print(\"Number of records with admission note: \" + str(admission_note_count))\n"
   ]
  },
  {
   "cell_type": "markdown",
   "metadata": {},
   "source": [
    "### Qualitative evaluation\n",
    "\n",
    "Look at the kind of medical conditions noted, for those with complete records, and consider whether this is reasonable given their length of stay. You can view the full output [here](../src/data_exports/note_dict_20231002_2120.json)"
   ]
  },
  {
   "cell_type": "code",
   "execution_count": 61,
   "metadata": {},
   "outputs": [
    {
     "name": "stdout",
     "output_type": "stream",
     "text": [
      "\n",
      "2242585\n",
      "Urinary tract infection\n",
      "Length of stay: 4 days\n",
      "\n",
      "2987383\n",
      "Intracranial injury with loss of consciousness of less than 30 minutes duration\n",
      "Length of stay: 2 days\n",
      "\n",
      "3206525\n",
      "Fracture\n",
      "Length of stay: 8 days\n",
      "\n",
      "4864380\n",
      "Dehydration\n",
      "Length of stay: 16 days\n"
     ]
    }
   ],
   "source": [
    "for id, persona in note_dict.items():\n",
    "    if 'complete' in persona.keys():\n",
    "        print(f\"\\n{id}\")\n",
    "        print(persona['Medical_Condition'])\n",
    "        print(f\"Length of stay: {persona['Length_Of_Stay_Days']} days\")\n",
    "        # print(persona['Admission_Note'])"
   ]
  },
  {
   "cell_type": "markdown",
   "metadata": {},
   "source": [
    "Viewing the output, I note: \n",
    "* length of stay is included in the admission note; this needs to be corrected (and probably could be with a change of prompt)\n",
    "\n",
    "About the specific patients\n",
    "* 4 days with a UTI might be plausible if (a) it led to delirium in a frail or confused patient or masked other conditions\n",
    "* 2 days for a concussion might be plausible\n",
    "* a fracture has been deemed a likely admission, which is itself unlikely and especially unlikely to lead to 8 days as an inpatient. The [prompt](../templates/prompt_templates/pick_medical_condition.txt) explicitly asked the agent to \"Consider whether their condition is serious enough to warrant the expected duration\"\n",
    "* a 16 day length of stay for dehydration seems highly unlikely"
   ]
  },
  {
   "cell_type": "markdown",
   "metadata": {},
   "source": []
  }
 ],
 "metadata": {
  "kernelspec": {
   "display_name": "env",
   "language": "python",
   "name": "python3"
  },
  "language_info": {
   "codemirror_mode": {
    "name": "ipython",
    "version": 3
   },
   "file_extension": ".py",
   "mimetype": "text/x-python",
   "name": "python",
   "nbconvert_exporter": "python",
   "pygments_lexer": "ipython3",
   "version": "3.11.4"
  },
  "orig_nbformat": 4
 },
 "nbformat": 4,
 "nbformat_minor": 2
}
