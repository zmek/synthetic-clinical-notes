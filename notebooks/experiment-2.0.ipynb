{
 "cells": [
  {
   "cell_type": "markdown",
   "metadata": {},
   "source": [
    "# Experiment 2.0\n",
    "\n"
   ]
  },
  {
   "cell_type": "markdown",
   "metadata": {},
   "source": [
    "## Set up"
   ]
  },
  {
   "cell_type": "code",
   "execution_count": 2,
   "metadata": {},
   "outputs": [],
   "source": [
    "notebook_name = 'experiment_2.0'\n",
    "\n"
   ]
  },
  {
   "cell_type": "code",
   "execution_count": 3,
   "metadata": {},
   "outputs": [],
   "source": [
    "# Reload functions every time\n",
    "%load_ext autoreload \n",
    "%autoreload 2"
   ]
  },
  {
   "cell_type": "code",
   "execution_count": 4,
   "metadata": {},
   "outputs": [],
   "source": [
    "# Load libraries\n",
    "import sys\n",
    "import os\n",
    "import pandas as pd\n",
    "import numpy as np\n",
    "from pathlib import Path\n",
    "\n",
    "import json\n",
    "import datetime\n",
    "\n",
    "import jinja2\n",
    "import tiktoken\n",
    "\n",
    "import seaborn as sns\n",
    "import matplotlib.pyplot as plt\n",
    "import warnings\n",
    "warnings.filterwarnings(\"ignore\", category=FutureWarning)\n",
    "\n",
    "\n",
    "# Import the variables that have been set in the init.py folder in the root directory\n",
    "# These include a constant called PROJECT_ROOT which stores the absolute path to this folder\n",
    "sys.path.append(os.path.abspath(os.path.join(os.getcwd(), os.pardir)))\n",
    "import init\n",
    "PROJECT_ROOT = os.getenv(\"PROJECT_ROOT\")\n",
    "\n",
    "# Add the src folder to sys path, so that the application knows to look there for libraries\n",
    "sys.path.append(str(Path(PROJECT_ROOT) / 'src'))\n",
    "\n",
    "\n",
    "\n",
    "\n"
   ]
  },
  {
   "cell_type": "code",
   "execution_count": 51,
   "metadata": {},
   "outputs": [],
   "source": [
    "from functions.write_admission_note import write_admission_note"
   ]
  },
  {
   "cell_type": "markdown",
   "metadata": {},
   "source": [
    "## Load data\n",
    "\n",
    "Here the function called ..."
   ]
  },
  {
   "cell_type": "code",
   "execution_count": 181,
   "metadata": {},
   "outputs": [
    {
     "name": "stdout",
     "output_type": "stream",
     "text": [
      "18\n"
     ]
    }
   ],
   "source": [
    "FIHR_DIR = '../../privfp-poc-zk/experiments/02_generate_dataset'\n",
    "\n",
    "import json\n",
    "\n",
    "with open(FIHR_DIR + '/' + 'all_inpatient_visit_dict.json') as f:\n",
    "   all_inpatient_visit_dict = json.load(f)\n",
    "   \n",
    "   # ed.head()\n",
    "\n",
    "\n",
    "with open(FIHR_DIR + '/' + 'long_visit_dict.json') as f:\n",
    "   long_visit_dict = json.load(f)\n",
    "\n",
    "print(len(long_visit_dict.keys()))\n",
    "   \n",
    "ex = list(long_visit_dict.keys())[0]\n",
    "ex =  \"urn:uuid:6ac2bf6b-6a8c-51e9-a2dd-30eb780264c5\"\n"
   ]
  },
  {
   "cell_type": "code",
   "execution_count": 178,
   "metadata": {},
   "outputs": [
    {
     "data": {
      "text/plain": [
       "dict_keys(['urn:uuid:811ef822-fab7-3f91-35dd-106227ca25c1', 'urn:uuid:eb8e5426-96a8-b166-8db2-6fb3d39740c7', 'urn:uuid:89031c6f-9efc-31a5-5aa8-3d658d47a080', 'urn:uuid:269a888e-f74a-9fcd-0287-3127ac54e1d7', 'urn:uuid:aa6ebc6d-72ae-e38c-9f8b-2e0c6af1b6f8', 'urn:uuid:0c338433-4b52-8489-5f8e-1683ee2d1bb0', 'urn:uuid:f83ba5f7-5e69-3b27-4b62-b5630c59db34', 'urn:uuid:6ac2bf6b-6a8c-51e9-a2dd-30eb780264c5', 'urn:uuid:826ab6b8-9b5e-736e-5271-bd33861cc870', 'urn:uuid:4a72cfc5-8fff-d8bb-8f1f-35afd55f3a7e', 'urn:uuid:bbbb5bdf-8479-fc9b-48fa-19bf05e7ec85', 'urn:uuid:0a5b0da7-e9fd-e875-469f-d9cd14eaf993', 'urn:uuid:5d47bff4-b399-e39a-7564-6e98135929b9', 'urn:uuid:90ac42bc-cd64-0c37-600c-6484a0a0d01f', 'urn:uuid:d98e862f-e3b0-9a56-25df-f1843cea8f8d', 'urn:uuid:87495c35-77bb-9426-67d9-db97fe9c036c', 'urn:uuid:307cac3e-ffdd-b0bb-bf94-979f13d748e3', 'urn:uuid:43dfe830-5af7-2baf-a37d-a48d0161d1e2'])"
      ]
     },
     "execution_count": 178,
     "metadata": {},
     "output_type": "execute_result"
    }
   ],
   "source": [
    "long_visit_dict.keys()"
   ]
  },
  {
   "cell_type": "code",
   "execution_count": 188,
   "metadata": {},
   "outputs": [],
   "source": [
    "import re\n",
    "\n",
    "for key, value in long_visit_dict.items():\n",
    "\n",
    "   encounter_id = long_visit_dict[key]['Encounter']['Encounter id']\n",
    "   uuid  = key[9:]\n",
    "\n",
    "   patient_file = [file for file in os.listdir( FIHR_DIR + '/synthea/fhir') if re.search(uuid, file, re.IGNORECASE)]\n",
    "   with open(FIHR_DIR + '/synthea/fhir/' + patient_file[0]) as f:\n",
    "      patient_fhir = json.load(f)\n",
    "\n",
    "   patient_dict = {}\n",
    "   patient_uuid = long_visit_dict[key]['Patient']\n",
    "   patient_dict['name'] = ' '.join(patient_fhir['entry'][0]['resource']['name'][0]['given']) + ' ' + patient_fhir['entry'][0]['resource']['name'][0]['family']\n",
    "   patient_dict['birthDate'] = patient_fhir['entry'][0]['resource']['birthDate']\n",
    "   patient_dict['gender'] = patient_fhir['entry'][0]['resource']['gender']\n",
    "   long_visit_dict[key]['Patient'] = patient_dict"
   ]
  },
  {
   "cell_type": "code",
   "execution_count": 187,
   "metadata": {},
   "outputs": [
    {
     "data": {
      "text/plain": [
       "{'Patient': {'name': 'Rodrick370 Angel97 West559',\n",
       "  'birthDate': '1958-01-24',\n",
       "  'gender': 'male'},\n",
       " 'Encounter': {'Encounter id': 'urn:uuid:0bcee51d-a1df-c3be-639e-46912cde7d8e',\n",
       "  'Encounter Started': '2023-01-27 08:03:27',\n",
       "  'Encounter Ended': '2023-02-11 08:18:27',\n",
       "  'Encounter Duration': 1296900,\n",
       "  'Hospital Staff': 'Dr. Cira533 Jakubowski832',\n",
       "  'Type of admission': 'Admission to skilled nursing facility (procedure)'},\n",
       " 'Condition': {},\n",
       " 'Procedure': {'1': {'Text': 'History AND physical examination (procedure)',\n",
       "   'Started': '2023-01-27T08:03:27+00:00',\n",
       "   'Ended': '2023-01-27T08:18:27+00:00'},\n",
       "  '2': {'Text': 'Initial patient assessment (procedure)',\n",
       "   'Started': '2023-01-27T08:03:27+00:00',\n",
       "   'Ended': '2023-01-27T08:18:27+00:00'},\n",
       "  '3': {'Text': 'Development of individualized plan of care (procedure)',\n",
       "   'Started': '2023-01-27T08:03:27+00:00',\n",
       "   'Ended': '2023-01-27T08:18:27+00:00'},\n",
       "  '4': {'Text': 'Nursing care/supplementary surveillance (regime/therapy)',\n",
       "   'Started': '2023-01-27T08:03:27+00:00',\n",
       "   'Ended': '2023-01-27T08:18:27+00:00'},\n",
       "  '5': {'Text': 'Professional / ancillary services care (regime/therapy)',\n",
       "   'Started': '2023-01-27T08:03:27+00:00',\n",
       "   'Ended': '2023-01-27T08:18:27+00:00'},\n",
       "  '6': {'Text': 'Nursing care/supplementary surveillance (regime/therapy)',\n",
       "   'Started': '2023-01-28T08:03:27+00:00',\n",
       "   'Ended': '2023-01-28T08:18:27+00:00'},\n",
       "  '7': {'Text': 'Occupational therapy (regime/therapy)',\n",
       "   'Started': '2023-01-28T08:03:27+00:00',\n",
       "   'Ended': '2023-01-28T08:18:27+00:00'},\n",
       "  '8': {'Text': 'Nursing care/supplementary surveillance (regime/therapy)',\n",
       "   'Started': '2023-01-29T08:03:27+00:00',\n",
       "   'Ended': '2023-01-29T08:18:27+00:00'},\n",
       "  '9': {'Text': 'Nursing care/supplementary surveillance (regime/therapy)',\n",
       "   'Started': '2023-01-30T08:03:27+00:00',\n",
       "   'Ended': '2023-01-30T08:18:27+00:00'},\n",
       "  '10': {'Text': 'Professional / ancillary services care (regime/therapy)',\n",
       "   'Started': '2023-01-30T08:03:27+00:00',\n",
       "   'Ended': '2023-01-30T08:18:27+00:00'},\n",
       "  '11': {'Text': 'Nursing care/supplementary surveillance (regime/therapy)',\n",
       "   'Started': '2023-01-31T08:03:27+00:00',\n",
       "   'Ended': '2023-01-31T08:18:27+00:00'},\n",
       "  '12': {'Text': 'Occupational therapy (regime/therapy)',\n",
       "   'Started': '2023-01-31T08:03:27+00:00',\n",
       "   'Ended': '2023-01-31T08:18:27+00:00'},\n",
       "  '13': {'Text': 'Nursing care/supplementary surveillance (regime/therapy)',\n",
       "   'Started': '2023-02-01T08:03:27+00:00',\n",
       "   'Ended': '2023-02-01T08:18:27+00:00'},\n",
       "  '14': {'Text': 'Nursing care/supplementary surveillance (regime/therapy)',\n",
       "   'Started': '2023-02-02T08:03:27+00:00',\n",
       "   'Ended': '2023-02-02T08:18:27+00:00'},\n",
       "  '15': {'Text': 'Nursing care/supplementary surveillance (regime/therapy)',\n",
       "   'Started': '2023-02-03T08:03:27+00:00',\n",
       "   'Ended': '2023-02-03T08:18:27+00:00'},\n",
       "  '16': {'Text': 'Nursing care/supplementary surveillance (regime/therapy)',\n",
       "   'Started': '2023-02-04T08:03:27+00:00',\n",
       "   'Ended': '2023-02-04T08:18:27+00:00'},\n",
       "  '17': {'Text': 'Nursing care/supplementary surveillance (regime/therapy)',\n",
       "   'Started': '2023-02-05T08:03:27+00:00',\n",
       "   'Ended': '2023-02-05T08:18:27+00:00'},\n",
       "  '18': {'Text': 'Nursing care/supplementary surveillance (regime/therapy)',\n",
       "   'Started': '2023-02-06T08:03:27+00:00',\n",
       "   'Ended': '2023-02-06T08:18:27+00:00'},\n",
       "  '19': {'Text': 'Nursing care/supplementary surveillance (regime/therapy)',\n",
       "   'Started': '2023-02-07T08:03:27+00:00',\n",
       "   'Ended': '2023-02-07T08:18:27+00:00'},\n",
       "  '20': {'Text': 'Professional / ancillary services care (regime/therapy)',\n",
       "   'Started': '2023-02-07T08:03:27+00:00',\n",
       "   'Ended': '2023-02-07T08:18:27+00:00'},\n",
       "  '21': {'Text': 'Nursing care/supplementary surveillance (regime/therapy)',\n",
       "   'Started': '2023-02-08T08:03:27+00:00',\n",
       "   'Ended': '2023-02-08T08:18:27+00:00'},\n",
       "  '22': {'Text': 'Physical therapy procedure (regime/therapy)',\n",
       "   'Started': '2023-02-08T08:03:27+00:00',\n",
       "   'Ended': '2023-02-08T08:18:27+00:00'},\n",
       "  '23': {'Text': 'Care regimes assessment (procedure)',\n",
       "   'Started': '2023-02-08T08:03:27+00:00',\n",
       "   'Ended': '2023-02-08T08:18:27+00:00'},\n",
       "  '24': {'Text': 'Nursing care/supplementary surveillance (regime/therapy)',\n",
       "   'Started': '2023-02-09T08:03:27+00:00',\n",
       "   'Ended': '2023-02-09T08:18:27+00:00'},\n",
       "  '25': {'Text': 'Nursing care/supplementary surveillance (regime/therapy)',\n",
       "   'Started': '2023-02-10T08:03:27+00:00',\n",
       "   'Ended': '2023-02-10T08:18:27+00:00'},\n",
       "  '26': {'Text': 'Pre-discharge assessment (procedure)',\n",
       "   'Started': '2023-02-11T08:03:27+00:00',\n",
       "   'Ended': '2023-02-11T08:18:27+00:00'},\n",
       "  '27': {'Text': 'Discharge from skilled nursing facility (procedure)',\n",
       "   'Started': '2023-02-11T08:03:27+00:00',\n",
       "   'Ended': '2023-02-11T08:18:27+00:00'}},\n",
       " 'Observation': {}}"
      ]
     },
     "execution_count": 187,
     "metadata": {},
     "output_type": "execute_result"
    }
   ],
   "source": [
    "   long_visit_dict['urn:uuid:43dfe830-5af7-2baf-a37d-a48d0161d1e2']\n",
    "\n",
    "\n",
    "# name = first_names + patient_dict['entry'][0]['resource']['name'][0]['given']\n",
    "# patient_dict['entry'][0][''resource']['name']\n"
   ]
  },
  {
   "cell_type": "markdown",
   "metadata": {},
   "source": []
  },
  {
   "cell_type": "markdown",
   "metadata": {},
   "source": [
    "## Generate output for ChatGPT"
   ]
  },
  {
   "cell_type": "code",
   "execution_count": 52,
   "metadata": {},
   "outputs": [
    {
     "data": {
      "text/plain": [
       "(\"Patient was admitted to the ICU following critical symptoms including Pneumonia, Hypoxemia, Respiratory distress, Acute respiratory failure, and Viral sepsis. During the first 24 hours, patient's condition was regularly monitored. Vital signs were unstable with a high body temperature of 41.724°C, an elevated heart rate of 180.11 beats per minute and a decreased oxygen saturation to 82.39%. Complete blood count shows reduced leukocyte and lymphocyte counts indicating a suppressed immune system. Further, the patient exhibited high levels of D-Dimer (1.9468ug/mL), Ferritin (828.88ug/L), and C-reactive Protein (17.634mg/L) indicative of inflammatory response and possible disseminated intravascular coagulation. A chest X-ray was performed and blood gases were monitored, indicating a need for oxygen therapy. The patient was also administered to a prone position to improve oxygenation. Patient's prognosis is uncertain given the severity of symptoms and underlying disorders.\",\n",
       " 'COVID-19 Complications',\n",
       " '2-6 weeks pending progress')"
      ]
     },
     "execution_count": 52,
     "metadata": {},
     "output_type": "execute_result"
    }
   ],
   "source": [
    "write_admission_note(long_visit_dict[ex])"
   ]
  },
  {
   "cell_type": "code",
   "execution_count": null,
   "metadata": {},
   "outputs": [],
   "source": []
  }
 ],
 "metadata": {
  "kernelspec": {
   "display_name": "env",
   "language": "python",
   "name": "python3"
  },
  "language_info": {
   "codemirror_mode": {
    "name": "ipython",
    "version": 3
   },
   "file_extension": ".py",
   "mimetype": "text/x-python",
   "name": "python",
   "nbconvert_exporter": "python",
   "pygments_lexer": "ipython3",
   "version": "3.11.4"
  },
  "orig_nbformat": 4
 },
 "nbformat": 4,
 "nbformat_minor": 2
}
