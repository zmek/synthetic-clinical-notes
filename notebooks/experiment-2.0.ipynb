{
 "cells": [
  {
   "cell_type": "markdown",
   "metadata": {},
   "source": [
    "# Experiment 2.0\n",
    "\n"
   ]
  },
  {
   "cell_type": "markdown",
   "metadata": {},
   "source": [
    "## Set up"
   ]
  },
  {
   "cell_type": "code",
   "execution_count": 2,
   "metadata": {},
   "outputs": [],
   "source": [
    "notebook_name = 'experiment_2.0'\n",
    "\n"
   ]
  },
  {
   "cell_type": "code",
   "execution_count": 3,
   "metadata": {},
   "outputs": [],
   "source": [
    "# Reload functions every time\n",
    "%load_ext autoreload \n",
    "%autoreload 2"
   ]
  },
  {
   "cell_type": "code",
   "execution_count": 4,
   "metadata": {},
   "outputs": [],
   "source": [
    "# Load libraries\n",
    "import sys\n",
    "import os\n",
    "import pandas as pd\n",
    "import numpy as np\n",
    "from pathlib import Path\n",
    "\n",
    "import json\n",
    "import datetime\n",
    "\n",
    "import jinja2\n",
    "import tiktoken\n",
    "\n",
    "import seaborn as sns\n",
    "import matplotlib.pyplot as plt\n",
    "import warnings\n",
    "warnings.filterwarnings(\"ignore\", category=FutureWarning)\n",
    "\n",
    "\n",
    "# Import the variables that have been set in the init.py folder in the root directory\n",
    "# These include a constant called PROJECT_ROOT which stores the absolute path to this folder\n",
    "sys.path.append(os.path.abspath(os.path.join(os.getcwd(), os.pardir)))\n",
    "import init\n",
    "PROJECT_ROOT = os.getenv(\"PROJECT_ROOT\")\n",
    "\n",
    "# Add the src folder to sys path, so that the application knows to look there for libraries\n",
    "sys.path.append(str(Path(PROJECT_ROOT) / 'src'))\n",
    "\n",
    "\n",
    "\n",
    "\n"
   ]
  },
  {
   "cell_type": "code",
   "execution_count": 51,
   "metadata": {},
   "outputs": [],
   "source": [
    "from functions.write_admission_note import write_admission_note"
   ]
  },
  {
   "cell_type": "markdown",
   "metadata": {},
   "source": [
    "## Load data\n",
    "\n",
    "Here the function called ..."
   ]
  },
  {
   "cell_type": "code",
   "execution_count": 6,
   "metadata": {},
   "outputs": [
    {
     "name": "stdout",
     "output_type": "stream",
     "text": [
      "18\n"
     ]
    }
   ],
   "source": [
    "FIHR_DIR = '../../privfp-poc-zk/experiments/02_generate_dataset'\n",
    "\n",
    "import json\n",
    "\n",
    "with open(FIHR_DIR + '/' + 'all_inpatient_visit_dict.json') as f:\n",
    "   all_inpatient_visit_dict = json.load(f)\n",
    "   \n",
    "   # ed.head()\n",
    "\n",
    "\n",
    "with open(FIHR_DIR + '/' + 'long_visit_dict.json') as f:\n",
    "   long_visit_dict = json.load(f)\n",
    "\n",
    "print(len(long_visit_dict.keys()))\n",
    "   \n",
    "ex = list(long_visit_dict.keys())[0]\n",
    "ex =  \"urn:uuid:6ac2bf6b-6a8c-51e9-a2dd-30eb780264c5\"\n"
   ]
  },
  {
   "cell_type": "code",
   "execution_count": 50,
   "metadata": {},
   "outputs": [
    {
     "data": {
      "text/plain": [
       "{'Text': 'Plain chest X-ray (procedure)',\n",
       " 'Started': '2021-01-07T04:51:40+00:00',\n",
       " 'Ended': '2021-01-07T05:34:26+00:00'}"
      ]
     },
     "execution_count": 50,
     "metadata": {},
     "output_type": "execute_result"
    }
   ],
   "source": [
    "long_visit_dict[ex]['Procedure']['1']"
   ]
  },
  {
   "cell_type": "markdown",
   "metadata": {},
   "source": []
  },
  {
   "cell_type": "markdown",
   "metadata": {},
   "source": [
    "## Generate output for ChatGPT"
   ]
  },
  {
   "cell_type": "code",
   "execution_count": 52,
   "metadata": {},
   "outputs": [
    {
     "data": {
      "text/plain": [
       "(\"Patient was admitted to the ICU following critical symptoms including Pneumonia, Hypoxemia, Respiratory distress, Acute respiratory failure, and Viral sepsis. During the first 24 hours, patient's condition was regularly monitored. Vital signs were unstable with a high body temperature of 41.724°C, an elevated heart rate of 180.11 beats per minute and a decreased oxygen saturation to 82.39%. Complete blood count shows reduced leukocyte and lymphocyte counts indicating a suppressed immune system. Further, the patient exhibited high levels of D-Dimer (1.9468ug/mL), Ferritin (828.88ug/L), and C-reactive Protein (17.634mg/L) indicative of inflammatory response and possible disseminated intravascular coagulation. A chest X-ray was performed and blood gases were monitored, indicating a need for oxygen therapy. The patient was also administered to a prone position to improve oxygenation. Patient's prognosis is uncertain given the severity of symptoms and underlying disorders.\",\n",
       " 'COVID-19 Complications',\n",
       " '2-6 weeks pending progress')"
      ]
     },
     "execution_count": 52,
     "metadata": {},
     "output_type": "execute_result"
    }
   ],
   "source": [
    "write_admission_note(long_visit_dict[ex])"
   ]
  },
  {
   "cell_type": "code",
   "execution_count": null,
   "metadata": {},
   "outputs": [],
   "source": []
  }
 ],
 "metadata": {
  "kernelspec": {
   "display_name": "env",
   "language": "python",
   "name": "python3"
  },
  "language_info": {
   "codemirror_mode": {
    "name": "ipython",
    "version": 3
   },
   "file_extension": ".py",
   "mimetype": "text/x-python",
   "name": "python",
   "nbconvert_exporter": "python",
   "pygments_lexer": "ipython3",
   "version": "3.11.4"
  },
  "orig_nbformat": 4
 },
 "nbformat": 4,
 "nbformat_minor": 2
}
