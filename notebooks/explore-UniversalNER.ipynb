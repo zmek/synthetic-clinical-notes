{
 "cells": [
  {
   "cell_type": "markdown",
   "metadata": {},
   "source": [
    "# UniversalNER\n",
    "\n",
    "UniversalNER is a prompt-based NER model, where entitites are given the model which are then extracted from the text. It can recognize diverse types of entities or concepts in text corpora from a wide range of domains. Here I'm experimenting with using it to recognise words in text that might be relevant or interesting\n",
    "\n",
    "[More information here](https://universal-ner.github.io/)\n",
    "\n",
    "UniversalNER is a large model - equating to roughly 28GB - quantising this model reduces this down to just under 4GB which allows us to pull in a model locally, and run queries using langchain. \n",
    "\n",
    "Guidance on quantising it [here](https://medium.com/vendi-ai/efficiently-run-your-fine-tuned-llm-locally-using-llama-cpp-66e2a7c51300)"
   ]
  },
  {
   "cell_type": "code",
   "execution_count": 17,
   "metadata": {},
   "outputs": [],
   "source": [
    "notebook_name = 'explore_UniversalNER'"
   ]
  },
  {
   "cell_type": "code",
   "execution_count": 21,
   "metadata": {},
   "outputs": [],
   "source": [
    "import os\n",
    "import pandas as pd\n",
    "import sys\n",
    "\n",
    "from pathlib import Path\n",
    "\n",
    "# Import the variables that have been set in the init.py folder in the root directory\n",
    "# These include a constant called PROJECT_ROOT which stores the absolute path to this folder\n",
    "sys.path.append(os.path.abspath(os.path.join(os.getcwd(), os.pardir)))\n",
    "import init\n",
    "PROJECT_ROOT = os.getenv(\"PROJECT_ROOT\")"
   ]
  },
  {
   "cell_type": "code",
   "execution_count": 2,
   "metadata": {},
   "outputs": [],
   "source": [
    "import json\n",
    "from langchain.callbacks.manager import CallbackManager\n",
    "from langchain.callbacks.streaming_stdout import StreamingStdOutCallbackHandler\n",
    "from langchain.chains import LLMChain\n",
    "from langchain.prompts import PromptTemplate"
   ]
  },
  {
   "cell_type": "code",
   "execution_count": 137,
   "metadata": {},
   "outputs": [],
   "source": [
    "from langchain.llms import LlamaCpp\n",
    "from transformers import AutoTokenizer\n",
    "tokenizer = AutoTokenizer.from_pretrained(\"distilbert-base-uncased\")\n",
    "\n",
    "\n"
   ]
  },
  {
   "cell_type": "markdown",
   "metadata": {},
   "source": [
    "## Load data from other experiments"
   ]
  },
  {
   "cell_type": "code",
   "execution_count": 117,
   "metadata": {},
   "outputs": [],
   "source": [
    "# structured data\n",
    "with open('../../privfp-experiments/data/llm_dataset.json') as f:\n",
    "    data = json.load(f)\n",
    "\n",
    "# unstuctured data\n",
    "with open('../src/data_exports/explore_llama_20240225_1202.json') as f:\n",
    "    notes_data = json.load(f)\n",
    "\n",
    "\n",
    "FIHR_DIR = '../../privfp-poc-zk/experiments/02_generate_dataset'\n",
    "\n",
    "\n",
    "\n",
    "with open(FIHR_DIR + '/' + 'long_visit_dict.json') as f:\n",
    "   long_visit_dict = json.load(f)\n",
    "\n",
    "print(len(long_visit_dict.keys()))\n",
    "   \n",
    "ex = list(long_visit_dict.keys())[0]\n",
    "\n",
    "import re\n",
    "import datetime\n",
    "import os\n",
    "for key, value in long_visit_dict.items():\n",
    "\n",
    "   encounter_id = long_visit_dict[key]['Encounter']['Encounter id']\n",
    "   encounter_started = long_visit_dict[key]['Encounter'][\"Encounter Started\"]\n",
    "   uuid  = key[9:]\n",
    "\n",
    "   patient_file = [file for file in os.listdir( FIHR_DIR + '/synthea/fhir') if re.search(uuid, file, re.IGNORECASE)]\n",
    "   with open(FIHR_DIR + '/synthea/fhir/' + patient_file[0]) as f:\n",
    "      patient_fhir = json.load(f)\n",
    "\n",
    "   patient_dict = {}\n",
    "   patient_uuid = long_visit_dict[key]['Patient']\n",
    "   patient_dict['name'] = ' '.join(patient_fhir['entry'][0]['resource']['name'][0]['given']) + ' ' + patient_fhir['entry'][0]['resource']['name'][0]['family']\n",
    "   patient_dict['birthDate'] = patient_fhir['entry'][0]['resource']['birthDate']\n",
    "   patient_dict['gender'] = patient_fhir['entry'][0]['resource']['gender']\n",
    "   patient_dict['age'] = int((datetime.datetime.fromisoformat(encounter_started).date() - datetime.datetime.strptime(patient_dict['birthDate'], '%Y-%m-%d').date()).days / 365.25)\n",
    "   long_visit_dict[key]['Patient'] = patient_dict"
   ]
  },
  {
   "cell_type": "markdown",
   "metadata": {},
   "source": [
    "### Set up environment for UniversalNER"
   ]
  },
  {
   "cell_type": "code",
   "execution_count": null,
   "metadata": {},
   "outputs": [],
   "source": [
    "callback_manager = CallbackManager([StreamingStdOutCallbackHandler()])\n",
    "\n",
    "n_gpu_layers = 1\n",
    "n_batch = 512\n",
    "llm = LlamaCpp(\n",
    "    model_path=\"../../llama.cpp/models/quantized_q4_1.gguf\",\n",
    "    n_gpu_layers=n_gpu_layers,\n",
    "    n_batch=n_batch,\n",
    "    f16_kv=True,  # MUST set to True, otherwise you will run into problem after a couple of calls\n",
    "    callback_manager=callback_manager,\n",
    "    verbose=True\n",
    ")"
   ]
  },
  {
   "cell_type": "markdown",
   "metadata": {},
   "source": [
    "### Review what we know about this patient"
   ]
  },
  {
   "cell_type": "code",
   "execution_count": 119,
   "metadata": {},
   "outputs": [
    {
     "data": {
      "text/plain": [
       "{'Patient': {'name': 'Margeret29 Hauck852',\n",
       "  'birthDate': '1988-08-25',\n",
       "  'gender': 'female',\n",
       "  'age': 33},\n",
       " 'Encounter': {'Encounter id': 'urn:uuid:ff4668b4-92d0-53a6-4fa2-534e7bfc1edc',\n",
       "  'Encounter Started': '2022-05-20 19:37:52',\n",
       "  'Encounter Ended': '2022-06-25 19:52:52',\n",
       "  'Encounter Duration': 3111300,\n",
       "  'Hospital Staff': 'Dr. Delcie812 Casper496',\n",
       "  'Type of admission': 'Admission to skilled nursing facility (procedure)'},\n",
       " 'Condition': {},\n",
       " 'Procedure': {'1': {'Text': 'History AND physical examination (procedure)',\n",
       "   'Started': '2022-05-20T19:37:52+01:00',\n",
       "   'Ended': '2022-05-20T19:52:52+01:00'},\n",
       "  '2': {'Text': 'Initial patient assessment (procedure)',\n",
       "   'Started': '2022-05-20T19:37:52+01:00',\n",
       "   'Ended': '2022-05-20T19:52:52+01:00'},\n",
       "  '3': {'Text': 'Development of individualized plan of care (procedure)',\n",
       "   'Started': '2022-05-20T19:37:52+01:00',\n",
       "   'Ended': '2022-05-20T19:52:52+01:00'},\n",
       "  '4': {'Text': 'Nursing care/supplementary surveillance (regime/therapy)',\n",
       "   'Started': '2022-05-20T19:37:52+01:00',\n",
       "   'Ended': '2022-05-20T19:52:52+01:00'},\n",
       "  '5': {'Text': 'Nursing care/supplementary surveillance (regime/therapy)',\n",
       "   'Started': '2022-05-21T19:37:52+01:00',\n",
       "   'Ended': '2022-05-21T19:52:52+01:00'},\n",
       "  '6': {'Text': 'Nursing care/supplementary surveillance (regime/therapy)',\n",
       "   'Started': '2022-05-22T19:37:52+01:00',\n",
       "   'Ended': '2022-05-22T19:52:52+01:00'},\n",
       "  '7': {'Text': 'Professional / ancillary services care (regime/therapy)',\n",
       "   'Started': '2022-05-22T19:37:52+01:00',\n",
       "   'Ended': '2022-05-22T19:52:52+01:00'},\n",
       "  '8': {'Text': 'Nursing care/supplementary surveillance (regime/therapy)',\n",
       "   'Started': '2022-05-23T19:37:52+01:00',\n",
       "   'Ended': '2022-05-23T19:52:52+01:00'},\n",
       "  '9': {'Text': 'Nursing care/supplementary surveillance (regime/therapy)',\n",
       "   'Started': '2022-05-24T19:37:52+01:00',\n",
       "   'Ended': '2022-05-24T19:52:52+01:00'},\n",
       "  '10': {'Text': 'Occupational therapy (regime/therapy)',\n",
       "   'Started': '2022-05-24T19:37:52+01:00',\n",
       "   'Ended': '2022-05-24T19:52:52+01:00'},\n",
       "  '11': {'Text': 'Nursing care/supplementary surveillance (regime/therapy)',\n",
       "   'Started': '2022-05-25T19:37:52+01:00',\n",
       "   'Ended': '2022-05-25T19:52:52+01:00'},\n",
       "  '12': {'Text': 'Nursing care/supplementary surveillance (regime/therapy)',\n",
       "   'Started': '2022-05-26T19:37:52+01:00',\n",
       "   'Ended': '2022-05-26T19:52:52+01:00'},\n",
       "  '13': {'Text': 'Nursing care/supplementary surveillance (regime/therapy)',\n",
       "   'Started': '2022-05-27T19:37:52+01:00',\n",
       "   'Ended': '2022-05-27T19:52:52+01:00'},\n",
       "  '14': {'Text': 'Physical therapy procedure (regime/therapy)',\n",
       "   'Started': '2022-05-27T19:37:52+01:00',\n",
       "   'Ended': '2022-05-27T19:52:52+01:00'},\n",
       "  '15': {'Text': 'Nursing care/supplementary surveillance (regime/therapy)',\n",
       "   'Started': '2022-05-28T19:37:52+01:00',\n",
       "   'Ended': '2022-05-28T19:52:52+01:00'},\n",
       "  '16': {'Text': 'Nursing care/supplementary surveillance (regime/therapy)',\n",
       "   'Started': '2022-05-29T19:37:52+01:00',\n",
       "   'Ended': '2022-05-29T19:52:52+01:00'},\n",
       "  '17': {'Text': 'Nursing care/supplementary surveillance (regime/therapy)',\n",
       "   'Started': '2022-05-30T19:37:52+01:00',\n",
       "   'Ended': '2022-05-30T19:52:52+01:00'},\n",
       "  '18': {'Text': 'Professional / ancillary services care (regime/therapy)',\n",
       "   'Started': '2022-05-30T19:37:52+01:00',\n",
       "   'Ended': '2022-05-30T19:52:52+01:00'},\n",
       "  '19': {'Text': 'Care regimes assessment (procedure)',\n",
       "   'Started': '2022-05-30T19:37:52+01:00',\n",
       "   'Ended': '2022-05-30T19:52:52+01:00'},\n",
       "  '20': {'Text': 'Nursing care/supplementary surveillance (regime/therapy)',\n",
       "   'Started': '2022-05-31T19:37:52+01:00',\n",
       "   'Ended': '2022-05-31T19:52:52+01:00'},\n",
       "  '21': {'Text': 'Professional / ancillary services care (regime/therapy)',\n",
       "   'Started': '2022-05-31T19:37:52+01:00',\n",
       "   'Ended': '2022-05-31T19:52:52+01:00'},\n",
       "  '22': {'Text': 'Nursing care/supplementary surveillance (regime/therapy)',\n",
       "   'Started': '2022-06-01T19:37:52+01:00',\n",
       "   'Ended': '2022-06-01T19:52:52+01:00'},\n",
       "  '23': {'Text': 'Professional / ancillary services care (regime/therapy)',\n",
       "   'Started': '2022-06-01T19:37:52+01:00',\n",
       "   'Ended': '2022-06-01T19:52:52+01:00'},\n",
       "  '24': {'Text': 'Nursing care/supplementary surveillance (regime/therapy)',\n",
       "   'Started': '2022-06-02T19:37:52+01:00',\n",
       "   'Ended': '2022-06-02T19:52:52+01:00'},\n",
       "  '25': {'Text': 'Nursing care/supplementary surveillance (regime/therapy)',\n",
       "   'Started': '2022-06-03T19:37:52+01:00',\n",
       "   'Ended': '2022-06-03T19:52:52+01:00'},\n",
       "  '26': {'Text': 'Occupational therapy (regime/therapy)',\n",
       "   'Started': '2022-06-03T19:37:52+01:00',\n",
       "   'Ended': '2022-06-03T19:52:52+01:00'},\n",
       "  '27': {'Text': 'Professional / ancillary services care (regime/therapy)',\n",
       "   'Started': '2022-06-03T19:37:52+01:00',\n",
       "   'Ended': '2022-06-03T19:52:52+01:00'},\n",
       "  '28': {'Text': 'Nursing care/supplementary surveillance (regime/therapy)',\n",
       "   'Started': '2022-06-04T19:37:52+01:00',\n",
       "   'Ended': '2022-06-04T19:52:52+01:00'},\n",
       "  '29': {'Text': 'Professional / ancillary services care (regime/therapy)',\n",
       "   'Started': '2022-06-04T19:37:52+01:00',\n",
       "   'Ended': '2022-06-04T19:52:52+01:00'},\n",
       "  '30': {'Text': 'Nursing care/supplementary surveillance (regime/therapy)',\n",
       "   'Started': '2022-06-05T19:37:52+01:00',\n",
       "   'Ended': '2022-06-05T19:52:52+01:00'},\n",
       "  '31': {'Text': 'Nursing care/supplementary surveillance (regime/therapy)',\n",
       "   'Started': '2022-06-06T19:37:52+01:00',\n",
       "   'Ended': '2022-06-06T19:52:52+01:00'},\n",
       "  '32': {'Text': 'Nursing care/supplementary surveillance (regime/therapy)',\n",
       "   'Started': '2022-06-07T19:37:52+01:00',\n",
       "   'Ended': '2022-06-07T19:52:52+01:00'},\n",
       "  '33': {'Text': 'Nursing care/supplementary surveillance (regime/therapy)',\n",
       "   'Started': '2022-06-08T19:37:52+01:00',\n",
       "   'Ended': '2022-06-08T19:52:52+01:00'},\n",
       "  '34': {'Text': 'Nursing care/supplementary surveillance (regime/therapy)',\n",
       "   'Started': '2022-06-09T19:37:52+01:00',\n",
       "   'Ended': '2022-06-09T19:52:52+01:00'},\n",
       "  '35': {'Text': 'Professional / ancillary services care (regime/therapy)',\n",
       "   'Started': '2022-06-09T19:37:52+01:00',\n",
       "   'Ended': '2022-06-09T19:52:52+01:00'},\n",
       "  '36': {'Text': 'Nursing care/supplementary surveillance (regime/therapy)',\n",
       "   'Started': '2022-06-10T19:37:52+01:00',\n",
       "   'Ended': '2022-06-10T19:52:52+01:00'},\n",
       "  '37': {'Text': 'Nursing care/supplementary surveillance (regime/therapy)',\n",
       "   'Started': '2022-06-11T19:37:52+01:00',\n",
       "   'Ended': '2022-06-11T19:52:52+01:00'},\n",
       "  '38': {'Text': 'Professional / ancillary services care (regime/therapy)',\n",
       "   'Started': '2022-06-11T19:37:52+01:00',\n",
       "   'Ended': '2022-06-11T19:52:52+01:00'},\n",
       "  '39': {'Text': 'Nursing care/supplementary surveillance (regime/therapy)',\n",
       "   'Started': '2022-06-12T19:37:52+01:00',\n",
       "   'Ended': '2022-06-12T19:52:52+01:00'},\n",
       "  '40': {'Text': 'Nursing care/supplementary surveillance (regime/therapy)',\n",
       "   'Started': '2022-06-13T19:37:52+01:00',\n",
       "   'Ended': '2022-06-13T19:52:52+01:00'},\n",
       "  '41': {'Text': 'Nursing care/supplementary surveillance (regime/therapy)',\n",
       "   'Started': '2022-06-14T19:37:52+01:00',\n",
       "   'Ended': '2022-06-14T19:52:52+01:00'},\n",
       "  '42': {'Text': 'Care regimes assessment (procedure)',\n",
       "   'Started': '2022-06-14T19:37:52+01:00',\n",
       "   'Ended': '2022-06-14T19:52:52+01:00'},\n",
       "  '43': {'Text': 'Nursing care/supplementary surveillance (regime/therapy)',\n",
       "   'Started': '2022-06-15T19:37:52+01:00',\n",
       "   'Ended': '2022-06-15T19:52:52+01:00'},\n",
       "  '44': {'Text': 'Professional / ancillary services care (regime/therapy)',\n",
       "   'Started': '2022-06-15T19:37:52+01:00',\n",
       "   'Ended': '2022-06-15T19:52:52+01:00'},\n",
       "  '45': {'Text': 'Nursing care/supplementary surveillance (regime/therapy)',\n",
       "   'Started': '2022-06-16T19:37:52+01:00',\n",
       "   'Ended': '2022-06-16T19:52:52+01:00'},\n",
       "  '46': {'Text': 'Professional / ancillary services care (regime/therapy)',\n",
       "   'Started': '2022-06-16T19:37:52+01:00',\n",
       "   'Ended': '2022-06-16T19:52:52+01:00'},\n",
       "  '47': {'Text': 'Nursing care/supplementary surveillance (regime/therapy)',\n",
       "   'Started': '2022-06-17T19:37:52+01:00',\n",
       "   'Ended': '2022-06-17T19:52:52+01:00'},\n",
       "  '48': {'Text': 'Professional / ancillary services care (regime/therapy)',\n",
       "   'Started': '2022-06-17T19:37:52+01:00',\n",
       "   'Ended': '2022-06-17T19:52:52+01:00'},\n",
       "  '49': {'Text': 'Nursing care/supplementary surveillance (regime/therapy)',\n",
       "   'Started': '2022-06-18T19:37:52+01:00',\n",
       "   'Ended': '2022-06-18T19:52:52+01:00'},\n",
       "  '50': {'Text': 'Nursing care/supplementary surveillance (regime/therapy)',\n",
       "   'Started': '2022-06-19T19:37:52+01:00',\n",
       "   'Ended': '2022-06-19T19:52:52+01:00'},\n",
       "  '51': {'Text': 'Professional / ancillary services care (regime/therapy)',\n",
       "   'Started': '2022-06-19T19:37:52+01:00',\n",
       "   'Ended': '2022-06-19T19:52:52+01:00'},\n",
       "  '52': {'Text': 'Nursing care/supplementary surveillance (regime/therapy)',\n",
       "   'Started': '2022-06-20T19:37:52+01:00',\n",
       "   'Ended': '2022-06-20T19:52:52+01:00'},\n",
       "  '53': {'Text': 'Professional / ancillary services care (regime/therapy)',\n",
       "   'Started': '2022-06-20T19:37:52+01:00',\n",
       "   'Ended': '2022-06-20T19:52:52+01:00'},\n",
       "  '54': {'Text': 'Nursing care/supplementary surveillance (regime/therapy)',\n",
       "   'Started': '2022-06-21T19:37:52+01:00',\n",
       "   'Ended': '2022-06-21T19:52:52+01:00'},\n",
       "  '55': {'Text': 'Occupational therapy (regime/therapy)',\n",
       "   'Started': '2022-06-21T19:37:52+01:00',\n",
       "   'Ended': '2022-06-21T19:52:52+01:00'},\n",
       "  '56': {'Text': 'Nursing care/supplementary surveillance (regime/therapy)',\n",
       "   'Started': '2022-06-22T19:37:52+01:00',\n",
       "   'Ended': '2022-06-22T19:52:52+01:00'},\n",
       "  '57': {'Text': 'Professional / ancillary services care (regime/therapy)',\n",
       "   'Started': '2022-06-22T19:37:52+01:00',\n",
       "   'Ended': '2022-06-22T19:52:52+01:00'},\n",
       "  '58': {'Text': 'Nursing care/supplementary surveillance (regime/therapy)',\n",
       "   'Started': '2022-06-23T19:37:52+01:00',\n",
       "   'Ended': '2022-06-23T19:52:52+01:00'},\n",
       "  '59': {'Text': 'Physical therapy procedure (regime/therapy)',\n",
       "   'Started': '2022-06-23T19:37:52+01:00',\n",
       "   'Ended': '2022-06-23T19:52:52+01:00'},\n",
       "  '60': {'Text': 'Occupational therapy (regime/therapy)',\n",
       "   'Started': '2022-06-23T19:37:52+01:00',\n",
       "   'Ended': '2022-06-23T19:52:52+01:00'},\n",
       "  '61': {'Text': 'Nursing care/supplementary surveillance (regime/therapy)',\n",
       "   'Started': '2022-06-24T19:37:52+01:00',\n",
       "   'Ended': '2022-06-24T19:52:52+01:00'},\n",
       "  '62': {'Text': 'Physical therapy procedure (regime/therapy)',\n",
       "   'Started': '2022-06-24T19:37:52+01:00',\n",
       "   'Ended': '2022-06-24T19:52:52+01:00'},\n",
       "  '63': {'Text': 'Pre-discharge assessment (procedure)',\n",
       "   'Started': '2022-06-25T19:37:52+01:00',\n",
       "   'Ended': '2022-06-25T19:52:52+01:00'},\n",
       "  '64': {'Text': 'Discharge from skilled nursing facility (procedure)',\n",
       "   'Started': '2022-06-25T19:37:52+01:00',\n",
       "   'Ended': '2022-06-25T19:52:52+01:00'}},\n",
       " 'Observation': {}}"
      ]
     },
     "execution_count": 119,
     "metadata": {},
     "output_type": "execute_result"
    }
   ],
   "source": [
    "# structured text - generated from Synthea\n",
    "long_visit_dict['urn:uuid:811ef822-fab7-3f91-35dd-106227ca25c1']"
   ]
  },
  {
   "cell_type": "code",
   "execution_count": 39,
   "metadata": {},
   "outputs": [
    {
     "data": {
      "text/plain": [
       "{'history_of_present_illness': 'The patient is a 45-year-old male who presents with a 2-day history of worsening headache, nausea, and vomiting. The patient states that the symptoms started suddenly and have been getting worse over time. He also reports feeling dizzy and disoriented, with difficulty walking and maintaining balance. The patient has no significant medical history or recent travel. He is currently working as a manual laborer and denies any trauma or recent injuries.',\n",
       " 'physical_examination': \"On examination, the patient is pale and sweaty. Vital signs show a temperature of 38.5 degrees Celsius, pulse rate of 120 beats per minute, respiratory rate of 24 breaths per minute, and blood pressure of 100/60 mmHg. The patient's headache is severe and localized to the frontal region, with no other focal neurological signs. There are no signs of dehydration or electrolyte imbalance. The patient's movements are slow and deliberate, with a slight tremor in both hands. The patient's speech is slurred and difficult to understand.\",\n",
       " 'assessment_and_plan': \"Based on the patient's history and examination findings, I suspect that he may be experiencing a severe migraine attack. The patient's symptoms of headache, nausea, and vomiting are consistent with this diagnosis. Additionally, the patient's slow and deliberate movements and slurred speech suggest possible cerebellar dysfunction, which can occur in some cases of migraine.Based on these findings, I recommend the following plan:1. Admit the patient to the hospital for further evaluation and management.2. Order a CT scan of the head to rule out any intracranial causes of the patient's symptoms.3. Provide the patient with a triage of pain medications, including ibuprofen and sumatriptan, to help manage his headache.4. Monitor the patient's vital signs and fluid status closely, and provide appropriate fluids and electrolyte replacement as needed.5. Consider prescribing a preventive medication for the patient, such as a triptan or an ergotamine, to help reduce the frequency and severity of his migraine attacks in the future.6. Arrange for the patient's workplace to provide accommodations for him, such as a quiet room or flexible work schedule, to help manage his symptoms and prevent further exacerbation of his condition.\"}"
      ]
     },
     "execution_count": 39,
     "metadata": {},
     "output_type": "execute_result"
    }
   ],
   "source": [
    "# unstructured text - an admission note generated by Llama\n",
    "notes_data[0]['urn:uuid:811ef822-fab7-3f91-35dd-106227ca25c1']"
   ]
  },
  {
   "cell_type": "markdown",
   "metadata": {},
   "source": [
    "### Truncate the text into a length suitable for UniversalNER\n",
    "\n",
    "The suggested max length for UniversalNER (based on error messages) is 512. It is not obvious what pads out the text. We want to input instructions, plus patient information, and ideally some instruction words wrap around the patient information so we can remind the LLM at the end of the prompt of the output. \n",
    "\n",
    "Therefore I'm truncating the note information so that it, plus the instructions, fit into 512 tokens. This may not be necessary "
   ]
  },
  {
   "cell_type": "code",
   "execution_count": null,
   "metadata": {},
   "outputs": [],
   "source": [
    "# A function to shorten the note\n",
    "def shorten_note(patient_note, instructions, max_length):\n",
    "\n",
    "    # Tokenize the instructions to find out how long they are\n",
    "    instructions_tokens = tokenizer(instructions, truncation=True, return_tensors=\"pt\")\n",
    "\n",
    "    # count tokens in patient note \n",
    "    patient_note_tokens = tokenizer(patient_note, truncation=True, return_tensors=\"pt\")\n",
    "    num_patient_note_tokens = len(patient_note_tokens['input_ids'][0])\n",
    "\n",
    "    # work out how many tokens the patient note can occupy\n",
    "    truncate_note_tokens_at = max_length - len(instructions_tokens['input_ids'][0]) \n",
    "\n",
    "    # find which word to truncate the non-tokenized input at, by (clumsily) taking the proportion of the two token lengths\n",
    "    truncate_note_words_at = round(len(patient_note.split()) * truncate_note_tokens_at/ num_patient_note_tokens)\n",
    "\n",
    "    # get truncated note\n",
    "    result_list = patient_note.split()[:truncate_note_words_at]\n",
    "    truncated_note = \" \".join(result_list) + '...} ' # add this to show that the note continues\n",
    "\n",
    "    return(truncated_note)"
   ]
  },
  {
   "cell_type": "code",
   "execution_count": 120,
   "metadata": {},
   "outputs": [],
   "source": [
    "# The full prompt looks like this. But as noted above, {input_text} needs to be truncated \n",
    "\n",
    "prompt_template = \"\"\"A virtual assistant answers questions from a user based on the provided text.\n",
    "USER: Text: {input_text}\n",
    "ASSISTANT: I’ve read this text.\n",
    "USER: What describes {entity_name} in the text?\n",
    "ASSISTANT: (model's predictions in JSON format)\n",
    "\"\"\"\n",
    "\n",
    "\n",
    "instructions = ''' } ASSISTANT: I’ve read this text.\n",
    "USER: What describes {entity_name} in the text?\n",
    "ASSISTANT: (model's predictions in JSON format)'''\n",
    "\n",
    "\n",
    "\n",
    "# Load the unstructured text \n",
    "patient_note = json.dumps(notes_data[0]['urn:uuid:811ef822-fab7-3f91-35dd-106227ca25c1']).replace(\"_\", \" \")\n",
    "prompt = prompt_template.format_map({\"input_text\": shorten_note(patient_note, max_length), \"entity_name\": \"symptoms\"})\n",
    "print(prompt)\n",
    "output = llm(prompt)\n",
    "output\n"
   ]
  },
  {
   "cell_type": "code",
   "execution_count": 136,
   "metadata": {},
   "outputs": [
    {
     "data": {
      "text/plain": [
       "522"
      ]
     },
     "execution_count": 136,
     "metadata": {},
     "output_type": "execute_result"
    }
   ],
   "source": [
    "# Load the structured text \n",
    "patient_note = json.dumps(long_visit_dict['urn:uuid:811ef822-fab7-3f91-35dd-106227ca25c1'])\n",
    "\n",
    "# count tokens in patient note \n",
    "patient_note_tokens = tokenizer(patient_note, truncation=True, return_tensors=\"pt\")\n",
    "num_patient_note_tokens = len(patient_note_tokens['input_ids'][0])\n",
    "# prompt = prompt_template.format_map({\"input_text\": shorten_note(patient_note, max_length), \"entity_name\": \"symptoms\"})\n",
    "# print(prompt)\n",
    "# output = llm(prompt)\n",
    "# output\n",
    "patient_note_tokens\n",
    "truncate_note_tokens_at = max_length - len(instructions_tokens['input_ids'][0]) \n",
    "truncate_note_words_at = round(len(patient_note.split()) * truncate_note_tokens_at/ num_patient_note_tokens)\n",
    "truncate_note_words_at"
   ]
  },
  {
   "cell_type": "code",
   "execution_count": 130,
   "metadata": {},
   "outputs": [
    {
     "data": {
      "text/plain": [
       "'{\"Patient\": {\"name\": \"Margeret29 Hauck852\", \"birthDate\": \"1988-08-25\", \"gender\": \"female\", \"age\": 33}, \"Encounter\": {\"Encounter id\": \"urn:uuid:ff4668b4-92d0-53a6-4fa2-534e7bfc1edc\", \"Encounter Started\": \"2022-05-20 19:37:52\", \"Encounter Ended\": \"2022-06-25 19:52:52\", \"Encounter Duration\": 3111300, \"Hospital Staff\": \"Dr. Delcie812 Casper496\", \"Type of admission\": \"Admission to skilled nursing facility (procedure)\"}, \"Condition\": {}, \"Procedure\": {\"1\": {\"Text\": \"History AND physical examination (procedure)\", \"Started\": \"2022-05-20T19:37:52+01:00\", \"Ended\": \"2022-05-20T19:52:52+01:00\"}, \"2\": {\"Text\": \"Initial patient assessment (procedure)\", \"Started\": \"2022-05-20T19:37:52+01:00\", \"Ended\": \"2022-05-20T19:52:52+01:00\"}, \"3\": {\"Text\": \"Development of individualized plan of care (procedure)\", \"Started\": \"2022-05-20T19:37:52+01:00\", \"Ended\": \"2022-05-20T19:52:52+01:00\"}, \"4\": {\"Text\": \"Nursing care/supplementary surveillance (regime/therapy)\", \"Started\": \"2022-05-20T19:37:52+01:00\", \"Ended\": \"2022-05-20T19:52:52+01:00\"}, \"5\": {\"Text\": \"Nursing care/supplementary surveillance (regime/therapy)\", \"Started\": \"2022-05-21T19:37:52+01:00\", \"Ended\": \"2022-05-21T19:52:52+01:00\"}, \"6\": {\"Text\": \"Nursing care/supplementary surveillance (regime/therapy)\", \"Started\": \"2022-05-22T19:37:52+01:00\", \"Ended\": \"2022-05-22T19:52:52+01:00\"}, \"7\": {\"Text\": \"Professional / ancillary services care (regime/therapy)\", \"Started\": \"2022-05-22T19:37:52+01:00\", \"Ended\": \"2022-05-22T19:52:52+01:00\"}, \"8\": {\"Text\": \"Nursing care/supplementary surveillance (regime/therapy)\", \"Started\": \"2022-05-23T19:37:52+01:00\", \"Ended\": \"2022-05-23T19:52:52+01:00\"}, \"9\": {\"Text\": \"Nursing care/supplementary surveillance (regime/therapy)\", \"Started\": \"2022-05-24T19:37:52+01:00\", \"Ended\": \"2022-05-24T19:52:52+01:00\"}, \"10\": {\"Text\": \"Occupational therapy (regime/therapy)\", \"Started\": \"2022-05-24T19:37:52+01:00\", \"Ended\": \"2022-05-24T19:52:52+01:00\"}, \"11\": {\"Text\": \"Nursing care/supplementary surveillance (regime/therapy)\", \"Started\": \"2022-05-25T19:37:52+01:00\", \"Ended\": \"2022-05-25T19:52:52+01:00\"}, \"12\": {\"Text\": \"Nursing care/supplementary surveillance (regime/therapy)\", \"Started\": \"2022-05-26T19:37:52+01:00\", \"Ended\": \"2022-05-26T19:52:52+01:00\"}, \"13\": {\"Text\": \"Nursing care/supplementary surveillance (regime/therapy)\", \"Started\": \"2022-05-27T19:37:52+01:00\", \"Ended\": \"2022-05-27T19:52:52+01:00\"}, \"14\": {\"Text\": \"Physical therapy procedure (regime/therapy)\", \"Started\": \"2022-05-27T19:37:52+01:00\", \"Ended\": \"2022-05-27T19:52:52+01:00\"}, \"15\": {\"Text\": \"Nursing care/supplementary surveillance (regime/therapy)\", \"Started\": \"2022-05-28T19:37:52+01:00\", \"Ended\": \"2022-05-28T19:52:52+01:00\"}, \"16\": {\"Text\": \"Nursing care/supplementary surveillance (regime/therapy)\", \"Started\": \"2022-05-29T19:37:52+01:00\", \"Ended\": \"2022-05-29T19:52:52+01:00\"}, \"17\": {\"Text\": \"Nursing care/supplementary surveillance (regime/therapy)\", \"Started\": \"2022-05-30T19:37:52+01:00\", \"Ended\": \"2022-05-30T19:52:52+01:00\"}, \"18\": {\"Text\": \"Professional / ancillary services care (regime/therapy)\", \"Started\": \"2022-05-30T19:37:52+01:00\", \"Ended\": \"2022-05-30T19:52:52+01:00\"}, \"19\": {\"Text\": \"Care regimes assessment (procedure)\", \"Started\": \"2022-05-30T19:37:52+01:00\", \"Ended\": \"2022-05-30T19:52:52+01:00\"}, \"20\": {\"Text\": \"Nursing care/supplementary surveillance (regime/therapy)\", \"Started\": \"2022-05-31T19:37:52+01:00\", \"Ended\": \"2022-05-31T19:52:52+01:00\"}, \"21\": {\"Text\": \"Professional / ancillary services care (regime/therapy)\", \"Started\": \"2022-05-31T19:37:52+01:00\", \"Ended\": \"2022-05-31T19:52:52+01:00\"}, \"22\": {\"Text\": \"Nursing care/supplementary surveillance (regime/therapy)\", \"Started\": \"2022-06-01T19:37:52+01:00\", \"Ended\": \"2022-06-01T19:52:52+01:00\"}, \"23\": {\"Text\": \"Professional / ancillary services care (regime/therapy)\", \"Started\": \"2022-06-01T19:37:52+01:00\", \"Ended\": \"2022-06-01T19:52:52+01:00\"}, \"24\": {\"Text\": \"Nursing care/supplementary surveillance (regime/therapy)\", \"Started\": \"2022-06-02T19:37:52+01:00\", \"Ended\": \"2022-06-02T19:52:52+01:00\"}, \"25\": {\"Text\": \"Nursing care/supplementary surveillance (regime/therapy)\", \"Started\": \"2022-06-03T19:37:52+01:00\", \"Ended\": \"2022-06-03T19:52:52+01:00\"}, \"26\": {\"Text\": \"Occupational therapy (regime/therapy)\", \"Started\": \"2022-06-03T19:37:52+01:00\", \"Ended\": \"2022-06-03T19:52:52+01:00\"}, \"27\": {\"Text\": \"Professional / ancillary services care (regime/therapy)\", \"Started\": \"2022-06-03T19:37:52+01:00\", \"Ended\": \"2022-06-03T19:52:52+01:00\"}, \"28\": {\"Text\": \"Nursing care/supplementary surveillance (regime/therapy)\", \"Started\": \"2022-06-04T19:37:52+01:00\", \"Ended\": \"2022-06-04T19:52:52+01:00\"}, \"29\": {\"Text\": \"Professional / ancillary services care (regime/therapy)\", \"Started\": \"2022-06-04T19:37:52+01:00\", \"Ended\": \"2022-06-04T19:52:52+01:00\"}, \"30\": {\"Text\": \"Nursing care/supplementary surveillance (regime/therapy)\", \"Started\": \"2022-06-05T19:37:52+01:00\", \"Ended\": \"2022-06-05T19:52:52+01:00\"}, \"31\": {\"Text\": \"Nursing care/supplementary surveillance (regime/therapy)\", \"Started\": \"2022-06-06T19:37:52+01:00\", \"Ended\": \"2022-06-06T19:52:52+01:00\"}, \"32\": {\"Text\": \"Nursing care/supplementary surveillance (regime/therapy)\", \"Started\": \"2022-06-07T19:37:52+01:00\", \"Ended\": \"2022-06-07T19:52:52+01:00\"}, \"33\": {\"Text\": \"Nursing care/supplementary surveillance (regime/therapy)\", \"Started\": \"2022-06-08T19:37:52+01:00\", \"Ended\": \"2022-06-08T19:52:52+01:00\"}, \"34\": {\"Text\": \"Nursing care/supplementary surveillance (regime/therapy)\", \"Started\": \"2022-06-09T19:37:52+01:00\", \"Ended\": \"2022-06-09T19:52:52+01:00\"}, \"35\": {\"Text\": \"Professional / ancillary services care (regime/therapy)\", \"Started\": \"2022-06-09T19:37:52+01:00\", \"Ended\": \"2022-06-09T19:52:52+01:00\"}, \"36\": {\"Text\": \"Nursing care/supplementary surveillance (regime/therapy)\", \"Started\": \"2022-06-10T19:37:52+01:00\", \"Ended\": \"2022-06-10T19:52:52+01:00\"}, \"37\": {\"Text\": \"Nursing care/supplementary surveillance (regime/therapy)\", \"Started\": \"2022-06-11T19:37:52+01:00\", \"Ended\": \"2022-06-11T19:52:52+01:00\"}, \"38\": {\"Text\": \"Professional / ancillary services care (regime/therapy)\", \"Started\": \"2022-06-11T19:37:52+01:00\", \"Ended\": \"2022-06-11T19:52:52+01:00\"}, \"39\": {\"Text\": \"Nursing care/supplementary surveillance (regime/therapy)\", \"Started\": \"2022-06-12T19:37:52+01:00\", \"Ended\": \"2022-06-12T19:52:52+01:00\"}, \"40\": {\"Text\": \"Nursing care/supplementary surveillance (regime/therapy)\", \"Started\": \"2022-06-13T19:37:52+01:00\", \"Ended\": \"2022-06-13T19:52:52+01:00\"}, \"41\": {\"Text\": \"Nursing care/supplementary surveillance (regime/therapy)\", \"Started\": \"2022-06-14T19:37:52+01:00\", \"Ended\": \"2022-06-14T19:52:52+01:00\"}, \"42\": {\"Text\": \"Care regimes assessment (procedure)\", \"Started\": \"2022-06-14T19:37:52+01:00\", \"Ended\": \"2022-06-14T19:52:52+01:00\"}, \"43\": {\"Text\": \"Nursing care/supplementary surveillance (regime/therapy)\", \"Started\": \"2022-06-15T19:37:52+01:00\", \"Ended\": \"2022-06-15T19:52:52+01:00\"}, \"44\": {\"Text\": \"Professional / ancillary services care (regime/therapy)\", \"Started\": \"2022-06-15T19:37:52+01:00\", \"Ended\": \"2022-06-15T19:52:52+01:00\"}, \"45\": {\"Text\": \"Nursing care/supplementary surveillance (regime/therapy)\", \"Started\": \"2022-06-16T19:37:52+01:00\", \"Ended\": \"2022-06-16T19:52:52+01:00\"}, \"46\": {\"Text\": \"Professional / ancillary services care (regime/therapy)\", \"Started\": \"2022-06-16T19:37:52+01:00\", \"Ended\": \"2022-06-16T19:52:52+01:00\"}, \"47\": {\"Text\": \"Nursing care/supplementary surveillance (regime/therapy)\", \"Started\": \"2022-06-17T19:37:52+01:00\", \"Ended\": \"2022-06-17T19:52:52+01:00\"}, \"48\": {\"Text\": \"Professional / ancillary services care (regime/therapy)\", \"Started\": \"2022-06-17T19:37:52+01:00\", \"Ended\": \"2022-06-17T19:52:52+01:00\"}, \"49\": {\"Text\": \"Nursing care/supplementary surveillance (regime/therapy)\", \"Started\": \"2022-06-18T19:37:52+01:00\", \"Ended\": \"2022-06-18T19:52:52+01:00\"}, \"50\": {\"Text\": \"Nursing care/supplementary surveillance (regime/therapy)\", \"Started\": \"2022-06-19T19:37:52+01:00\", \"Ended\": \"2022-06-19T19:52:52+01:00\"}, \"51\": {\"Text\": \"Professional / ancillary services care (regime/therapy)\", \"Started\": \"2022-06-19T19:37:52+01:00\", \"Ended\": \"2022-06-19T19:52:52+01:00\"}, \"52\": {\"Text\": \"Nursing care/supplementary surveillance (regime/therapy)\", \"Started\": \"2022-06-20T19:37:52+01:00\", \"Ended\": \"2022-06-20T19:52:52+01:00\"}, \"53\": {\"Text\": \"Professional / ancillary services care (regime/therapy)\", \"Started\": \"2022-06-20T19:37:52+01:00\", \"Ended\": \"2022-06-20T19:52:52+01:00\"}, \"54\": {\"Text\": \"Nursing care/supplementary surveillance (regime/therapy)\", \"Started\": \"2022-06-21T19:37:52+01:00\", \"Ended\": \"2022-06-21T19:52:52+01:00\"}, \"55\": {\"Text\": \"Occupational therapy (regime/therapy)\", \"Started\": \"2022-06-21T19:37:52+01:00\", \"Ended\": \"2022-06-21T19:52:52+01:00\"}, \"56\": {\"Text\": \"Nursing care/supplementary surveillance (regime/therapy)\", \"Started\": \"2022-06-22T19:37:52+01:00\", \"Ended\": \"2022-06-22T19:52:52+01:00\"}, \"57\": {\"Text\": \"Professional / ancillary services care (regime/therapy)\", \"Started\": \"2022-06-22T19:37:52+01:00\", \"Ended\": \"2022-06-22T19:52:52+01:00\"}, \"58\": {\"Text\": \"Nursing care/supplementary surveillance (regime/therapy)\", \"Started\": \"2022-06-23T19:37:52+01:00\", \"Ended\": \"2022-06-23T19:52:52+01:00\"}, \"59\": {\"Text\": \"Physical therapy procedure (regime/therapy)\", \"Started\": \"2022-06-23T19:37:52+01:00\", \"Ended\": \"2022-06-23T19:52:52+01:00\"}, \"60\": {\"Text\": \"Occupational therapy (regime/therapy)\", \"Started\": \"2022-06-23T19:37:52+01:00\", \"Ended\": \"2022-06-23T19:52:52+01:00\"}, \"61\": {\"Text\": \"Nursing care/supplementary surveillance (regime/therapy)\", \"Started\": \"2022-06-24T19:37:52+01:00\", \"Ended\": \"2022-06-24T19:52:52+01:00\"}, \"62\": {\"Text\": \"Physical therapy procedure (regime/therapy)\", \"Started\": \"2022-06-24T19:37:52+01:00\", \"Ended\": \"2022-06-24T19:52:52+01:00\"}, \"63\": {\"Text\": \"Pre-discharge assessment (procedure)\", \"Started\": \"2022-06-25T19:37:52+01:00\", \"Ended\": \"2022-06-25T19:52:52+01:00\"}, \"64\": {\"Text\": \"Discharge from skilled nursing facility (procedure)\", \"Started\": \"2022-06-25T19:37:52+01:00\", \"Ended\": \"2022-06-25T19:52:52+01:00\"}}, \"Observation\": {}}'"
      ]
     },
     "execution_count": 130,
     "metadata": {},
     "output_type": "execute_result"
    }
   ],
   "source": [
    "patient_note"
   ]
  },
  {
   "cell_type": "code",
   "execution_count": null,
   "metadata": {},
   "outputs": [],
   "source": []
  }
 ],
 "metadata": {
  "kernelspec": {
   "display_name": "env",
   "language": "python",
   "name": "python3"
  },
  "language_info": {
   "codemirror_mode": {
    "name": "ipython",
    "version": 3
   },
   "file_extension": ".py",
   "mimetype": "text/x-python",
   "name": "python",
   "nbconvert_exporter": "python",
   "pygments_lexer": "ipython3",
   "version": "3.11.4"
  }
 },
 "nbformat": 4,
 "nbformat_minor": 2
}
