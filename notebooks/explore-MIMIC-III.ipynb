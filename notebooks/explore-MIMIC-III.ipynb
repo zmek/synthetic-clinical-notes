{
 "cells": [
  {
   "cell_type": "markdown",
   "metadata": {},
   "source": [
    "# Explore MIMIC III\n",
    "\n",
    "In this experiment I want to load the MIMIC data that I have access to. Here I do some exploration of the data. "
   ]
  },
  {
   "cell_type": "markdown",
   "metadata": {},
   "source": []
  },
  {
   "cell_type": "code",
   "execution_count": 1,
   "metadata": {},
   "outputs": [],
   "source": [
    "import os\n",
    "import pandas as pd\n",
    "import sys\n",
    "\n",
    "from pathlib import Path\n",
    "\n",
    "\n",
    "\n",
    "\n",
    "# Import the variables that have been set in the init.py folder in the root directory\n",
    "# These include a constant called PROJECT_ROOT which stores the absolute path to this folder\n",
    "sys.path.append(os.path.abspath(os.path.join(os.getcwd(), os.pardir)))\n",
    "import init\n",
    "PROJECT_ROOT = os.getenv(\"PROJECT_ROOT\")"
   ]
  },
  {
   "cell_type": "code",
   "execution_count": 2,
   "metadata": {},
   "outputs": [
    {
     "data": {
      "text/plain": [
       "['.DS_Store', 'NOTEEVENTS.csv', 'NOTEEVENTS.csv.gz']"
      ]
     },
     "execution_count": 2,
     "metadata": {},
     "output_type": "execute_result"
    }
   ],
   "source": [
    "os.listdir(PROJECT_ROOT + '/data_store/MIMIC-III')"
   ]
  },
  {
   "cell_type": "code",
   "execution_count": 3,
   "metadata": {},
   "outputs": [
    {
     "data": {
      "text/html": [
       "<div>\n",
       "<style scoped>\n",
       "    .dataframe tbody tr th:only-of-type {\n",
       "        vertical-align: middle;\n",
       "    }\n",
       "\n",
       "    .dataframe tbody tr th {\n",
       "        vertical-align: top;\n",
       "    }\n",
       "\n",
       "    .dataframe thead th {\n",
       "        text-align: right;\n",
       "    }\n",
       "</style>\n",
       "<table border=\"1\" class=\"dataframe\">\n",
       "  <thead>\n",
       "    <tr style=\"text-align: right;\">\n",
       "      <th></th>\n",
       "      <th>ROW_ID</th>\n",
       "      <th>SUBJECT_ID</th>\n",
       "      <th>HADM_ID</th>\n",
       "      <th>CHARTDATE</th>\n",
       "      <th>CHARTTIME</th>\n",
       "      <th>STORETIME</th>\n",
       "      <th>CATEGORY</th>\n",
       "      <th>DESCRIPTION</th>\n",
       "      <th>CGID</th>\n",
       "      <th>ISERROR</th>\n",
       "      <th>TEXT</th>\n",
       "    </tr>\n",
       "  </thead>\n",
       "  <tbody>\n",
       "    <tr>\n",
       "      <th>0</th>\n",
       "      <td>174</td>\n",
       "      <td>22532</td>\n",
       "      <td>167853</td>\n",
       "      <td>2151-08-04</td>\n",
       "      <td>NaN</td>\n",
       "      <td>NaN</td>\n",
       "      <td>Discharge summary</td>\n",
       "      <td>Report</td>\n",
       "      <td>NaN</td>\n",
       "      <td>NaN</td>\n",
       "      <td>Admission Date:  [**2151-7-16**]       Dischar...</td>\n",
       "    </tr>\n",
       "    <tr>\n",
       "      <th>1</th>\n",
       "      <td>175</td>\n",
       "      <td>13702</td>\n",
       "      <td>107527</td>\n",
       "      <td>2118-06-14</td>\n",
       "      <td>NaN</td>\n",
       "      <td>NaN</td>\n",
       "      <td>Discharge summary</td>\n",
       "      <td>Report</td>\n",
       "      <td>NaN</td>\n",
       "      <td>NaN</td>\n",
       "      <td>Admission Date:  [**2118-6-2**]       Discharg...</td>\n",
       "    </tr>\n",
       "    <tr>\n",
       "      <th>2</th>\n",
       "      <td>176</td>\n",
       "      <td>13702</td>\n",
       "      <td>167118</td>\n",
       "      <td>2119-05-25</td>\n",
       "      <td>NaN</td>\n",
       "      <td>NaN</td>\n",
       "      <td>Discharge summary</td>\n",
       "      <td>Report</td>\n",
       "      <td>NaN</td>\n",
       "      <td>NaN</td>\n",
       "      <td>Admission Date:  [**2119-5-4**]              D...</td>\n",
       "    </tr>\n",
       "    <tr>\n",
       "      <th>3</th>\n",
       "      <td>177</td>\n",
       "      <td>13702</td>\n",
       "      <td>196489</td>\n",
       "      <td>2124-08-18</td>\n",
       "      <td>NaN</td>\n",
       "      <td>NaN</td>\n",
       "      <td>Discharge summary</td>\n",
       "      <td>Report</td>\n",
       "      <td>NaN</td>\n",
       "      <td>NaN</td>\n",
       "      <td>Admission Date:  [**2124-7-21**]              ...</td>\n",
       "    </tr>\n",
       "    <tr>\n",
       "      <th>4</th>\n",
       "      <td>178</td>\n",
       "      <td>26880</td>\n",
       "      <td>135453</td>\n",
       "      <td>2162-03-25</td>\n",
       "      <td>NaN</td>\n",
       "      <td>NaN</td>\n",
       "      <td>Discharge summary</td>\n",
       "      <td>Report</td>\n",
       "      <td>NaN</td>\n",
       "      <td>NaN</td>\n",
       "      <td>Admission Date:  [**2162-3-3**]              D...</td>\n",
       "    </tr>\n",
       "    <tr>\n",
       "      <th>...</th>\n",
       "      <td>...</td>\n",
       "      <td>...</td>\n",
       "      <td>...</td>\n",
       "      <td>...</td>\n",
       "      <td>...</td>\n",
       "      <td>...</td>\n",
       "      <td>...</td>\n",
       "      <td>...</td>\n",
       "      <td>...</td>\n",
       "      <td>...</td>\n",
       "      <td>...</td>\n",
       "    </tr>\n",
       "    <tr>\n",
       "      <th>995</th>\n",
       "      <td>1158</td>\n",
       "      <td>15198</td>\n",
       "      <td>137838</td>\n",
       "      <td>2184-10-21</td>\n",
       "      <td>NaN</td>\n",
       "      <td>NaN</td>\n",
       "      <td>Discharge summary</td>\n",
       "      <td>Report</td>\n",
       "      <td>NaN</td>\n",
       "      <td>NaN</td>\n",
       "      <td>Admission Date:  [**2184-10-14**]       Discha...</td>\n",
       "    </tr>\n",
       "    <tr>\n",
       "      <th>996</th>\n",
       "      <td>1159</td>\n",
       "      <td>2712</td>\n",
       "      <td>198266</td>\n",
       "      <td>2101-02-15</td>\n",
       "      <td>NaN</td>\n",
       "      <td>NaN</td>\n",
       "      <td>Discharge summary</td>\n",
       "      <td>Report</td>\n",
       "      <td>NaN</td>\n",
       "      <td>NaN</td>\n",
       "      <td>Admission Date:  [**2101-2-10**]              ...</td>\n",
       "    </tr>\n",
       "    <tr>\n",
       "      <th>997</th>\n",
       "      <td>1160</td>\n",
       "      <td>2712</td>\n",
       "      <td>157537</td>\n",
       "      <td>2103-07-18</td>\n",
       "      <td>NaN</td>\n",
       "      <td>NaN</td>\n",
       "      <td>Discharge summary</td>\n",
       "      <td>Report</td>\n",
       "      <td>NaN</td>\n",
       "      <td>NaN</td>\n",
       "      <td>Admission Date:  [**2103-7-17**]              ...</td>\n",
       "    </tr>\n",
       "    <tr>\n",
       "      <th>998</th>\n",
       "      <td>1161</td>\n",
       "      <td>18511</td>\n",
       "      <td>123903</td>\n",
       "      <td>2191-03-03</td>\n",
       "      <td>NaN</td>\n",
       "      <td>NaN</td>\n",
       "      <td>Discharge summary</td>\n",
       "      <td>Report</td>\n",
       "      <td>NaN</td>\n",
       "      <td>NaN</td>\n",
       "      <td>Admission Date:  [**2191-2-23**]              ...</td>\n",
       "    </tr>\n",
       "    <tr>\n",
       "      <th>999</th>\n",
       "      <td>1162</td>\n",
       "      <td>76558</td>\n",
       "      <td>186116</td>\n",
       "      <td>2157-12-04</td>\n",
       "      <td>NaN</td>\n",
       "      <td>NaN</td>\n",
       "      <td>Discharge summary</td>\n",
       "      <td>Report</td>\n",
       "      <td>NaN</td>\n",
       "      <td>NaN</td>\n",
       "      <td>Admission Date:  [**2157-12-1**]              ...</td>\n",
       "    </tr>\n",
       "  </tbody>\n",
       "</table>\n",
       "<p>1000 rows × 11 columns</p>\n",
       "</div>"
      ],
      "text/plain": [
       "     ROW_ID  SUBJECT_ID  HADM_ID   CHARTDATE  CHARTTIME  STORETIME  \\\n",
       "0       174       22532   167853  2151-08-04        NaN        NaN   \n",
       "1       175       13702   107527  2118-06-14        NaN        NaN   \n",
       "2       176       13702   167118  2119-05-25        NaN        NaN   \n",
       "3       177       13702   196489  2124-08-18        NaN        NaN   \n",
       "4       178       26880   135453  2162-03-25        NaN        NaN   \n",
       "..      ...         ...      ...         ...        ...        ...   \n",
       "995    1158       15198   137838  2184-10-21        NaN        NaN   \n",
       "996    1159        2712   198266  2101-02-15        NaN        NaN   \n",
       "997    1160        2712   157537  2103-07-18        NaN        NaN   \n",
       "998    1161       18511   123903  2191-03-03        NaN        NaN   \n",
       "999    1162       76558   186116  2157-12-04        NaN        NaN   \n",
       "\n",
       "              CATEGORY DESCRIPTION  CGID  ISERROR  \\\n",
       "0    Discharge summary      Report   NaN      NaN   \n",
       "1    Discharge summary      Report   NaN      NaN   \n",
       "2    Discharge summary      Report   NaN      NaN   \n",
       "3    Discharge summary      Report   NaN      NaN   \n",
       "4    Discharge summary      Report   NaN      NaN   \n",
       "..                 ...         ...   ...      ...   \n",
       "995  Discharge summary      Report   NaN      NaN   \n",
       "996  Discharge summary      Report   NaN      NaN   \n",
       "997  Discharge summary      Report   NaN      NaN   \n",
       "998  Discharge summary      Report   NaN      NaN   \n",
       "999  Discharge summary      Report   NaN      NaN   \n",
       "\n",
       "                                                  TEXT  \n",
       "0    Admission Date:  [**2151-7-16**]       Dischar...  \n",
       "1    Admission Date:  [**2118-6-2**]       Discharg...  \n",
       "2    Admission Date:  [**2119-5-4**]              D...  \n",
       "3    Admission Date:  [**2124-7-21**]              ...  \n",
       "4    Admission Date:  [**2162-3-3**]              D...  \n",
       "..                                                 ...  \n",
       "995  Admission Date:  [**2184-10-14**]       Discha...  \n",
       "996  Admission Date:  [**2101-2-10**]              ...  \n",
       "997  Admission Date:  [**2103-7-17**]              ...  \n",
       "998  Admission Date:  [**2191-2-23**]              ...  \n",
       "999  Admission Date:  [**2157-12-1**]              ...  \n",
       "\n",
       "[1000 rows x 11 columns]"
      ]
     },
     "execution_count": 3,
     "metadata": {},
     "output_type": "execute_result"
    }
   ],
   "source": [
    "# Define the path to your CSV file\n",
    "file_path = PROJECT_ROOT + '/data_store/MIMIC-III/NOTEEVENTS.csv'\n",
    "\n",
    "df = pd.read_csv(file_path, nrows = 1000)\n",
    "df"
   ]
  },
  {
   "cell_type": "code",
   "execution_count": 18,
   "metadata": {},
   "outputs": [
    {
     "name": "stdout",
     "output_type": "stream",
     "text": [
      "CATEGORY\n",
      "Case Management         967\n",
      "Consult                  98\n",
      "Discharge summary     59652\n",
      "ECG                  209051\n",
      "Echo                  45794\n",
      "General                8301\n",
      "Nursing              223556\n",
      "Nursing/other        822497\n",
      "Nutrition              9418\n",
      "Pharmacy                103\n",
      "Physician            141624\n",
      "Radiology            522279\n",
      "Rehab Services         5431\n",
      "Respiratory           31739\n",
      "Social Work            2670\n",
      "dtype: int64\n"
     ]
    }
   ],
   "source": [
    "\n",
    "# Specify the column you want to count values for\n",
    "column_name = 'CATEGORY'\n",
    "\n",
    "# Initialize an empty Series to store aggregated counts\n",
    "aggregated_counts = pd.Series(dtype=int)\n",
    "\n",
    "# Specify the chunk size\n",
    "chunk_size = 10000  # Adjust based on your system's memory capacity\n",
    "\n",
    "# Read the CSV file in chunks\n",
    "for chunk in pd.read_csv(file_path, chunksize=chunk_size, usecols=[column_name]):\n",
    "    # Compute value counts for the current chunk and add to the aggregate counts\n",
    "    aggregated_counts = aggregated_counts.add(chunk[column_name].value_counts(), fill_value=0)\n",
    "\n",
    "# Convert aggregated counts to integer (optional, for cleaner presentation)\n",
    "aggregated_counts = aggregated_counts.astype(int)\n",
    "\n",
    "# Now aggregated_counts contains the count of each unique value in the specified column across the entire CSV file\n",
    "print(aggregated_counts)\n"
   ]
  },
  {
   "cell_type": "code",
   "execution_count": 4,
   "metadata": {},
   "outputs": [],
   "source": [
    "\n",
    "# Load social worker notes\n",
    "\n",
    "# Specify the chunk size\n",
    "chunk_size = 10000  # Adjust based on your system's memory capacity\n",
    "\n",
    "# Initialize an empty list to hold the filtered DataFrames\n",
    "filtered_chunks = []\n",
    "\n",
    "# Iterate over the CSV file in chunks\n",
    "for chunk in pd.read_csv(file_path, chunksize=chunk_size):\n",
    "    # Filter the chunk to include only rows where CATEGORY == 'Social Work'\n",
    "    filtered_chunk = chunk[chunk['CATEGORY'] == 'Social Work']\n",
    "    \n",
    "    # Append the filtered chunk to the list\n",
    "    filtered_chunks.append(filtered_chunk)\n",
    "\n",
    "# Concatenate all filtered chunks into a single DataFrame\n",
    "soc = pd.concat(filtered_chunks, ignore_index=True)\n",
    "\n",
    "\n"
   ]
  },
  {
   "cell_type": "code",
   "execution_count": 5,
   "metadata": {},
   "outputs": [
    {
     "data": {
      "text/plain": [
       "'Family Information\\n   Next of [**Doctor First Name **]: N/A\\n   Health Care Proxy appointed:\\n   Family Spokesperson designated:\\n   Communication or visitation restriction:\\n   Patient Information:\\n   Previous living situation: Homeless\\n   Previous level of functioning: Independent\\n   Previous [**Hospital1 54**] or other hospital admissions: several previous [**Hospital1 54**]\\n   admissions.  Most recent [**1-24**] d/t etoh intoxication\\n   Past psychiatric history: n/a\\n   Past addictions history: long hx of etoh abuse, currently drinking 2\\n   bottles of vodka daily.  has hx of cocaine abuse but none current.\\n   Employment status: Disable\\n   Legal involvement: unknown\\n   Mandated Reporting Information:\\n   Additional Information:\\n   Patient / Family Assessment: Pt referred to sw for etoh assessment and\\n   counseling.  Pt is a 54 yo man with hx of cardiac disease, hep c and\\n   etoh abuse who was admitted on [**5-9**] with etoh intoxication/management\\n   of withdrawal.  [**Name8 (MD) **] rn report, pt was BIBA having been found\\n   intoxicated under a porch.\\n   SW met with pt at bedside this afternoon.  Pt alert and oriented,\\n   though somewhat lethargic, pleasant and readily engaging in\\n   conversation.  Pt with clear thought process, though somewhat\\n   tangential.  Pt reports he has been drinking since age 14, though\\n   tapered off during his time in the service.  Pt discharged from the\\n   service in his 30\\ns and took up cocaine for several years.  Pt notes\\n   when he quit the cocaine use his drinking intensified.  He notes he is\\n   now a\\nstaunch alcoholic.\\n  When asked to define this he notes:\\nI stay\\n   sober for 3-6 months and then go off.\\n  He shares he now drinks 2\\n   bottles of vodka daily.  Pt shares that he has been drinking more\\n   fervently since he was evicted from his apt a few weeks ago.  He notes\\n   he had been living in [**Location (un) 341**] housing for the past 6 years after\\n   being homeless.  He notes he went out on disability from his work with\\n   the town of [**Location (un) 341**] about 9 years ago and is now on SSI and makes\\n   about $700/month.  He admits his drinking has increased greatly since\\n   stopping work.  Pt shares he has been to [**Hospital1 2981**] 1x in the past for\\n   etoh tx, which he notes was very effective.  He shares past involvement\\n   in AA.  Pt states that currently he would like to stop drinking, but is\\n   not quite ready.  He stated that he wished he had drank himself to\\n   death during this last binge, but adamantly denies being actively\\n   suicidal and states he does have hope things can get better for him,\\n   but he is not sure how much effort he is willing to put into it.\\n   Pt denies having any social supports.  He reports both parents deceased\\n   and 4 siblings are in the area but he is not in contact with any of\\n   them.\\n   Pt seems to be in pre-contemplative state of change.  Pt declined sw\\n   offers for referral to tx programs or even with housing assistance.  Pt\\n   not wanting to stay in a shelter and is currently planning to be dc\\n   back to the streets.  Pt wanting to sign out AMA but relatively easily\\n   re-directed to remain in house for the evening.\\n   .\\n   Clergy Contact: n/a\\n   Communication with Team: RN and Resident\\n   Plan / Follow up:\\n   SW will f/up with pt tomorrow to readdress pt\\ns motivation for tx and\\n   will readdress dc planning to shelter or some sort of supportive\\n   environment.\\n'"
      ]
     },
     "execution_count": 5,
     "metadata": {},
     "output_type": "execute_result"
    }
   ],
   "source": [
    "soc['discharge'] = soc.TEXT.str.contains('discharge')\n",
    "discharge_notes = soc[soc.discharge]['TEXT'].tolist()\n",
    "discharge_notes[5]"
   ]
  },
  {
   "cell_type": "markdown",
   "metadata": {},
   "source": [
    "## Query using llama"
   ]
  },
  {
   "cell_type": "code",
   "execution_count": 6,
   "metadata": {},
   "outputs": [],
   "source": [
    "import json\n",
    "\n",
    "from langchain.llms import Ollama\n",
    "from langchain.callbacks.manager import CallbackManager\n",
    "from langchain.callbacks.streaming_stdout import StreamingStdOutCallbackHandler\n",
    "from langchain.prompts import PromptTemplate"
   ]
  },
  {
   "cell_type": "code",
   "execution_count": 7,
   "metadata": {},
   "outputs": [],
   "source": [
    "callback_manager = CallbackManager([StreamingStdOutCallbackHandler()])\n",
    "llm = Ollama(model=\"llama2\", callback_manager=callback_manager)"
   ]
  },
  {
   "cell_type": "code",
   "execution_count": 8,
   "metadata": {},
   "outputs": [],
   "source": [
    "template = \"\"\"[INST]\n",
    "<<SYS>>\n",
    "Your are an experience social worker with good understanding of how patients' social situation (housing, family, transport issues etc) can make their discharge from hospital. \n",
    "<</SYS>>\n",
    "\n",
    "### INSTRUCTIONS ### \n",
    "\n",
    "Give your judgement about any factors that might be pertinent in a patient's social background that make discharge from hospital more complicated\n",
    "\n",
    "Here is some information about the patient: \n",
    "\n",
    "{data}\n",
    "[/INST]\n",
    "\"\"\"\n",
    "\n",
    "prompt = PromptTemplate.from_template(template)\n",
    "chain = prompt | llm"
   ]
  },
  {
   "cell_type": "code",
   "execution_count": 10,
   "metadata": {},
   "outputs": [],
   "source": [
    "batch = []\n",
    "\n",
    "for i in range(5):\n",
    "    batch.append({\"data\": discharge_notes[i]})"
   ]
  },
  {
   "cell_type": "code",
   "execution_count": 12,
   "metadata": {},
   "outputs": [
    {
     "data": {
      "text/plain": [
       "'Family Information\\n   Next of [**Doctor First Name **]: unknown at this time\\n   Health Care Proxy appointed: Deferred\\n   Family Spokesperson designated: none - no family involved in pt\\'s life\\n   Communication or visitation restriction:  none\\n   Patient Information:\\n   Previous living situation: homeless, living on street in [**Location (un) 223**]\\n   Previous level of functioning: Independent\\n   Previous [**Hospital1 54**] or other hospital admissions: multiple admissions to\\n   [**Hospital1 54**] this year - see OMR\\n   Past psychiatric history: past dx of PTSD, Major Depression, Antisocial\\n   Personality Disorder\\n   Past addictions history: h/o heroin abuse\\n   Employment status: Disabled, receives Disability\\n   Legal involvement: unknown at this time\\n   Mandated Reporting Information:  none\\n   Additional Information:\\n   60 y.o. single, Caucasian, Catholic man admitted to MICU [**2108-9-4**] with\\n   dx of bradycardia.  SW met with pt at request of RN to assess resource\\n   needs and coping.  Pt has been homeless for many years, currently\\n   living on the streets in [**Location (un) 223**] - tends to sleep on a bus stop bench\\n   near his methadone clinic in the [**Location (un) 2161**].  He is familiar with the\\n   shelter system and denies interest in staying in a shelter.  He is\\n   facing multiple psychosocial stressors including the death of his\\n   girlfriend this past spring, lack of a support system (has 2 siblings\\n   he hasn\\'t been in touch with in over 20 years), h/o substance abuse,\\n   and active PTSD and depressive sx\\'s.\\n   Pt presents today as tearful, with eyes closed and his hand covering\\n   his face throughout interview.  In describing his mood, he states, \"Sad\\n   doesn\\'t cut it\" and speaks of feeling as if he is \"going crazy.\"  Pt\\n   endorses passive SI and shares, \"Sometimes I think of just shooting up\\n   a lot of heroin so I can die.\"  He then states that he is Catholic and\\n   would not want to commit suicide as it goes against his religious\\n   teachings.  However, he clearly seems to be considering suicide,\\n   stating, \"I just can\\'t cope\\n and speaks of feeling hopeless.\\n   Pt states he sees a psychiatrist \"at a storefront\" in [**Location (un) **] about once a\\n   month, but does not remember the person\\'s name or contact info.  [**Name2 (NI) **]\\n   states he has seen psychologists in the past but did not feel he got\\n   any feedback from them and stopped tx.  SW recommended he consider\\n   giving psychotherapy a try again and offered referrals for outpatient\\n   providers.  In particular, it seems he might benefit from connecting\\n   with the [**Last Name (un) 4350**] [**Last Name (un) 4351**] Center, a drop-in center for homeless elders\\n   in the [**Location (un) 2161**] where pt would be able to get lunch, engage with case\\n   management, and see a counselor on an ongoing basis.  Pt expresses some\\n   interest in this but is not able to mobilize around a plan to follow\\n   up.   It might also be helpful to determine if pt has connected with\\n   the DMH Homeless Outreach Team, and if not, to facilitate a referral.\\n   Pt lacks daily structure aside from receiving his morning methadone\\n   dose at Habit Management in [**Location (un) 223**].  He states he tends to spend his\\n   days sleeping in abandoned cars, if he can find any, or on a bus stop\\n   bench.  He denies having any family, friends, or acquaintances in his\\n   life.\\n   Pt dozes off periodically during meeting and also shifts focus several\\n   times to recount traumatic memories from abuse as a child, Vietman, and\\n   the loss of his girlfriend.  SW validated the painful feelings around\\n   these memories and his wish to share them while redirecting him to the\\n   present, recommending he try not to recount detailed traumatic memories\\n   at this time given how triggerig they are for him.  Pt states he is\\n   amenable to meeting with SW again after he has had some rest, as he is\\ntoo exhausted\\n right now to engage further.\\n   Assessment:  60 y.o. single, Caucasian, Catholic man facing multiple\\n   psychosocial stressors including homelessness, PTSD, depressive sx,\\n   grief over death of girlfriend in spring, and h/o substance abuse (on\\n   Methadone maintenance), and lack of support system.  At this time, he\\n   presents with depressive sx including passive SI, hopelessness,\\n   excessive daily tearfulness, tendency to isolate, avolition, lack of\\n   appetite, regular sleep disturbance (appears somnolent, though states\\n   he can\\nt sleep due to intrusive thoughts of trauma and feelings of\\n   grief).  At this time, pt is unable to mobilize around a discharge\\n   plan, preoccupied by feelings of hopelessness and\\ngoing crazy.\\n  While\\n   he has been discharged to the street in the past when he has been able\\n   to consent to this plan, a street-discharge does not appear appropriate\\n   at this time, given pt\\ns depressive sx and inability to articulate what\\n   he wants to do.   Would recommend further psychosocial assessment and\\n   referrals to outpatient providers.\\n   Clergy Contact:\\n   Communication with Team:\\n   Primary Nurse: [**Doctor Last Name **]\\n   Attending: Dr. [**Last Name (STitle) 33**]\\n   [**Name (STitle) **] Officer: [**First Name8 (NamePattern2) 838**] [**Last Name (NamePattern1) 4352**]\\n   Plan / Follow up:\\n   Continuing issues to be addressed:\\n   -          Further assess any psychiatric contraindication to discharge\\n   to street, given depression and passive SI.  Would appreciate input\\n   from psychiatry.\\n   -          SW to meet with pt again prior to discharge to discuss dispo\\n   plan and make referrals to community resources, [**Initials (NamePattern5) **] [**Last Name (NamePattern5) 4350**] [**Last Name (un) 4351**]\\n   Center, DMH Homeless Outreach Team, etc.\\n'"
      ]
     },
     "execution_count": 12,
     "metadata": {},
     "output_type": "execute_result"
    }
   ],
   "source": [
    "discharge_notes[0]"
   ]
  },
  {
   "cell_type": "code",
   "execution_count": 11,
   "metadata": {},
   "outputs": [
    {
     "name": "stderr",
     "output_type": "stream",
     "text": [
      "/Users/zellaking/Repos/synthetic-clinical-notes/env/lib/python3.11/site-packages/langchain_core/_api/deprecation.py:117: LangChainDeprecationWarning: The function `__call__` was deprecated in LangChain 0.1.7 and will be removed in 0.2.0. Use invoke instead.\n",
      "  warn_deprecated(\n"
     ]
    },
    {
     "name": "stdout",
     "output_type": "stream",
     "text": [
      "Based on the information provided in the patient's chart, there are several factors that could make discharge from the hospital more complicated for this patient. Here are some of the key issues:\n",
      "\n",
      "1. Lack of a support system: The patient has no family or friends involved in his life, which could make it difficult for him to cope with stressors after discharge.\n",
      "2. History of substance abuse: The patient has a history of heroin abuse, which can increase the risk of relapse and other psychiatric problems.\n",
      "3. Active PTSD and depressive symptoms: The patient is currently experiencing symptoms of post-traumatic stress disorder (PTSD) and depression, which could make it challenging for him to manage his emotions and behaviors after discharge.\n",
      "4. Homelessness: The patient has been homeless in the past, and there is no clear plan for housing after discharge.\n",
      "5. Lack of daily structure: The patient lacks a daily structure, which could make it difficult for him to manage his time and responsibilities after discharge.\n",
      "6. Limited capacity for self-care: The patient has difficulty with self-care due to his depressive symptoms and history of substance abuse.\n",
      "7. Previous street discharge: The patient has been discharged to the street in the past, which could increase the risk of relapse or other psychiatric problems.\n",
      "8. Inability to articulate what he wants to do: The patient is unable to clearly express his wishes regarding his care after discharge, which could make it challenging for healthcare providers to develop an appropriate discharge plan.\n",
      "\n",
      "Given these factors, it would be appropriate to recommend further psychosocial assessment and referrals to outpatient providers. This could help address the patient's depressive symptoms, history of substance abuse, and lack of a support system. Additionally, the healthcare team should consider whether there are any contraindications to discharge to the street due to the patient's active PTSD and depressive symptoms. It may be necessary to develop a different discharge plan that takes into account the patient's unique needs and circumstances."
     ]
    }
   ],
   "source": [
    "formatted_prompt = prompt.format_prompt(data = batch[0])\n",
    "type(formatted_prompt.to_string())\n",
    "\n",
    "# for a batch of items\n",
    "# llm.generate([formatted_prompt.to_string()])\n",
    "\n",
    "# for a single item\n",
    "response = llm(formatted_prompt.to_string())"
   ]
  },
  {
   "cell_type": "code",
   "execution_count": null,
   "metadata": {},
   "outputs": [],
   "source": [
    "outputs = chain.batch(batch)"
   ]
  }
 ],
 "metadata": {
  "kernelspec": {
   "display_name": "env",
   "language": "python",
   "name": "python3"
  },
  "language_info": {
   "codemirror_mode": {
    "name": "ipython",
    "version": 3
   },
   "file_extension": ".py",
   "mimetype": "text/x-python",
   "name": "python",
   "nbconvert_exporter": "python",
   "pygments_lexer": "ipython3",
   "version": "3.11.4"
  }
 },
 "nbformat": 4,
 "nbformat_minor": 2
}
