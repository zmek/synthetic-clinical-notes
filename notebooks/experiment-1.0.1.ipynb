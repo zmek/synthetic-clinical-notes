{
    "cells": [
        {
            "cell_type": "markdown",
            "metadata": {},
            "source": [
                "# Experiment 1.0.1\n",
                "\n",
                "In [Experiment 1.0](experiment-1.0.ipynb), I gave ChatGPT a length of inpatient stay, plus some other simple patient characteristics, and asked it to generate a likely presenting condition and an admission note. I found that the agent's attribution of a most likely medical condition, and their reasoning in the admission note, resulted in some admissions that would be implausible in reality. For example, a patient whose visit lasted 8 days was proposed to have a fracture. The more likely outcome is that patient with a fracture would be discharged with pain control, a splint, and outpatient orthopedic follow-up for imaging and potential surgery.\n",
                "\n",
                "Therefore, here I will deploy a second agent to critique the reasoning of the first. This way I may be able to generate more plausible presenting conditions and admission notes, that would be more consistent with an inpatient spell."
            ]
        },
        {
            "cell_type": "markdown",
            "metadata": {},
            "source": [
                "## Set up"
            ]
        },
        {
            "cell_type": "code",
            "execution_count": 1,
            "metadata": {},
            "outputs": [],
            "source": [
                "# Reload functions every time\n",
                "%load_ext autoreload \n",
                "%autoreload 2"
            ]
        },
        {
            "cell_type": "code",
            "execution_count": 12,
            "metadata": {},
            "outputs": [],
            "source": [
                "# Load libraries\n",
                "import sys\n",
                "import os\n",
                "import pandas as pd\n",
                "from pathlib import Path\n",
                "\n",
                "import seaborn as sns\n",
                "import matplotlib.pyplot as plt\n",
                "import warnings\n",
                "warnings.filterwarnings(\"ignore\", category=FutureWarning)\n",
                "\n",
                "\n",
                "# Import the variables that have been set in the init.py folder in the root directory\n",
                "# These include a constant called PROJECT_ROOT which stores the absolute path to this folder\n",
                "sys.path.append(os.path.abspath(os.path.join(os.getcwd(), os.pardir)))\n",
                "import init\n",
                "PROJECT_ROOT = os.getenv(\"PROJECT_ROOT\")\n",
                "\n",
                "# Add the src folder to sys path, so that the application knows to look there for libraries\n",
                "sys.path.append(str(Path(PROJECT_ROOT) / 'src'))\n",
                "\n",
                "# Import function to load data\n",
                "from data_ingestion.load_data import load_nhse_data\n",
                "\n",
                "from utils.write_to_json import write_to_json\n",
                "from utils.load_from_json import load_from_json\n",
                "\n"
            ]
        },
        {
            "cell_type": "markdown",
            "metadata": {},
            "source": [
                "## Load data\n",
                "\n",
                "Here the function called load_file()  \n",
                "\n",
                "* check if the NHS England datset has already been saved in a local folder called data_store in a parquet format; if so the function returns it\n",
                "* if not, it checks for the zip file from the NHSE website and if not downloads it, unzips it and saves it \n",
                "* the file is unzipped to csv and read as as pandas dataframe and saved to parquet format"
            ]
        },
        {
            "cell_type": "code",
            "execution_count": 13,
            "metadata": {},
            "outputs": [],
            "source": [
                "ed = load_nhse_data()\n",
                "# ed.head()"
            ]
        },
        {
            "cell_type": "code",
            "execution_count": 4,
            "metadata": {},
            "outputs": [],
            "source": [
                "# ed[['Age_Band', 'AE_Arrive_HourOfDay', 'AE_Time_Mins', 'Admitted_Flag', 'Length_Of_Stay_Days', 'ICD10_Chapter_Code', 'Title']].head()"
            ]
        },
        {
            "cell_type": "markdown",
            "metadata": {},
            "source": [
                "## Load saved instances from experiment-1. \n",
                "\n",
                "I could regenerate patients, but here I want to see if I can improve on the existing admission reasons and notes. Therefore I will reload them from experiment 1. \n"
            ]
        },
        {
            "cell_type": "code",
            "execution_count": 6,
            "metadata": {},
            "outputs": [
                {
                    "data": {
                        "text/plain": [
                            "{'Age_Band': '45-64',\n",
                            " 'AE_Arrive_HourOfDay': '21-24',\n",
                            " 'AE_Time_Mins': 240,\n",
                            " 'Length_Of_Stay_Days': 8,\n",
                            " 'ICD10_Chapter_Code': 'XIX',\n",
                            " 'Title': 'Injury, poisoning and certain other consequences of external causes',\n",
                            " 'Medical_Condition': 'Fracture',\n",
                            " 'Admission_Note': \"\\n  Chief Complaint:\\n  \\n  The patient, a middle-aged adult, presented with severe pain and limited mobility in the right arm following a fall at home.\\n\\n  History of Present Illness:\\n  \\n  The patient reported slipping and falling on a wet floor while performing household chores. They landed on their outstretched right arm, resulting in immediate pain and inability to move the limb. There was no loss of consciousness or head injury reported. The patient experienced increasing pain and swelling in the affected arm, prompting them to seek medical attention at the Accident & Emergency Department.\\n\\n  Past Medical History:\\n  \\n  The patient's medical history is significant for hypertension, which is being managed with medication. There are no known allergies or previous fractures. The patient is a non-smoker and consumes alcohol occasionally.\\n\\n  Physical Examination:\\n  \\n  On physical examination, the patient appeared in distress, favoring their right arm. There was visible swelling and deformity in the right upper extremity, specifically at the midshaft of the right humerus. Range of motion in the right arm was severely restricted due to pain. Sensation and motor function in the fingers and hand were intact. Peripheral pulses were palpable and symmetrical. No signs of acute neurovascular compromise were noted.\\n\\n  Assessment:\\n  \\n  Based on the patient's history, physical examination, and the mechanism of injury, the most likely diagnosis is a fracture of the right humerus. The presence of swelling, deformity, and limited range of motion further supports this assessment. Other differentials, including soft tissue injury and dislocation, have been considered but appear less likely given the clinical findings.\\n\\n  Plan:\\n  \\n  The patient will be admitted as an inpatient for further evaluation, pain management, and orthopedic consultation. X-ray imaging of the right arm will be performed to confirm the diagnosis, assess the extent of the fracture, and guide further management. In the meantime, the patient will be provided with analgesics for pain control and immobilization of the right arm using a splint or sling to prevent further injury and enhance comfort. Serial neurovascular assessments will be conducted to monitor for any signs of compromise. Orthopedic surgery may be considered depending on the fracture type and degree of displacement.\\n  \"}"
                        ]
                    },
                    "execution_count": 6,
                    "metadata": {},
                    "output_type": "execute_result"
                }
            ],
            "source": [
                "note_dict = load_from_json('note_dict')\n",
                "persona_id = '3206525' # this was the fracture patient\n",
                "note_dict[persona_id]"
            ]
        },
        {
            "cell_type": "markdown",
            "metadata": {},
            "source": [
                "In the prompt called here, I instructed the agent to be a senior doctor whose job is to review a junior's decision to admit. The senior doctor was advised that the hospital was under severe capacity constraints, and that their job was to make sure patients were not admitted who could be managed in the community. "
            ]
        },
        {
            "cell_type": "code",
            "execution_count": 26,
            "metadata": {},
            "outputs": [
                {
                    "data": {
                        "text/plain": [
                            "('agree',\n",
                            " 'In a hospital at capacity, the decision to admit versus discharge hinges on whether a condition can be safely managed outside of the hospital setting. In this case, the patient presented with severe pain and limited mobility in the right arm following a fall at home. On physical examination, there was visible swelling and deformity in the right upper extremity, specifically at the midshaft of the right humerus. Range of motion in the right arm was severely restricted due to pain. Based on these findings, it is likely that the patient has a fracture of the right humerus. Admission for further evaluation, pain management, and orthopedic consultation is appropriate to confirm the diagnosis, assess the extent of the fracture, and guide further management. Analgesics will be provided for pain control and immobilization of the right arm will be done to prevent further injury. Serial neurovascular assessments will also be conducted to monitor for any signs of compromise. Therefore, I agree with the decision to admit the patient.')"
                        ]
                    },
                    "execution_count": 26,
                    "metadata": {},
                    "output_type": "execute_result"
                }
            ],
            "source": [
                "from functions.verify_admission_decision import verify_admission_decision\n",
                "verify_admission_decision(note_dict[persona_id]['Admission_Note'])"
            ]
        },
        {
            "cell_type": "code",
            "execution_count": 27,
            "metadata": {},
            "outputs": [
                {
                    "data": {
                        "text/plain": [
                            "('disagree',\n",
                            " \"In a hospital at capacity, the decision to admit versus discharge hinges on whether a condition can be safely managed outside of the hospital setting. In this case, the patient presents with severe pain and limited mobility in the right arm following a fall at home. The history and physical examination findings strongly support the diagnosis of a fracture of the right humerus. However, there are no signs of acute neurovascular compromise and the patient's vital signs are stable. Considering the patient's overall condition, it is reasonable to manage their fracture as an outpatient with close follow-up. Therefore, I disagree with the decision to admit the patient.\")"
                        ]
                    },
                    "execution_count": 27,
                    "metadata": {},
                    "output_type": "execute_result"
                }
            ],
            "source": [
                "from functions.verify_admission_decision import verify_admission_decision\n",
                "verify_admission_decision(note_dict[persona_id]['Admission_Note'])"
            ]
        },
        {
            "cell_type": "code",
            "execution_count": 28,
            "metadata": {},
            "outputs": [
                {
                    "data": {
                        "text/plain": [
                            "('disagree',\n",
                            " 'In a hospital at capacity, the decision to admit versus discharge hinges on whether a condition can be safely managed outside of the hospital setting. In this case, the patient presented with a fracture of the right humerus. While this is a serious injury, it can often be managed in outpatient care with adequate pain control and immobilization. The patient does not exhibit any signs of acute neurovascular compromise. Therefore, I disagree with the decision to admit the patient and recommend considering outpatient management.')"
                        ]
                    },
                    "execution_count": 28,
                    "metadata": {},
                    "output_type": "execute_result"
                }
            ],
            "source": [
                "from functions.verify_admission_decision import verify_admission_decision\n",
                "verify_admission_decision(note_dict[persona_id]['Admission_Note'])"
            ]
        },
        {
            "cell_type": "code",
            "execution_count": 29,
            "metadata": {},
            "outputs": [
                {
                    "data": {
                        "text/plain": [
                            "{'Age_Band': '85+',\n",
                            " 'AE_Arrive_HourOfDay': '01-04',\n",
                            " 'AE_Time_Mins': 630,\n",
                            " 'Length_Of_Stay_Days': 16,\n",
                            " 'ICD10_Chapter_Code': 'XVIII',\n",
                            " 'Title': 'Symptoms, signs and abnormal clinical and laboratory findings, not elsewhere classified',\n",
                            " 'Medical_Condition': 'Dehydration',\n",
                            " 'Admission_Note': \"Chief Complaint:\\nThe patient, an elderly individual aged 85+, presented to the Accident & Emergency Department with complaints of weakness, dizziness, and decreased urine output for the past 24 hours. \\n\\nHistory of Present Illness:\\nThe patient reports a recent episode of vomiting and diarrhea, which has resulted in a reduced fluid intake. There is no reported fever, abdominal pain, or changes in bowel habits. The symptoms have progressively worsened over the past day.\\n\\nPast Medical History:\\nThe patient has a past medical history of hypertension and chronic kidney disease. There is a history of recurrent urinary tract infections in the past year. No surgical history was reported. Medications include antihypertensive medications and diuretics.\\n\\nPhysical Examination:\\nOn examination, the patient appears weak and mildly dehydrated. Vital signs include a temperature of 37.1°C, blood pressure of 130/80 mmHg, heart rate of 90 bpm, respiratory rate of 18 bpm, and oxygen saturation of 98% on room air. The patient's skin appears dry, with delayed capillary refill.\\n\\nAssessment:\\nBased on the patient's clinical presentation, history, and physical examination findings, the most likely diagnosis is dehydration. The patient's reduced fluid intake and symptoms of weakness and dizziness are consistent with dehydration. The history of chronic kidney disease and recurrent urinary tract infections may increase the risk of dehydration in this patient.\\n\\nPlan:\\nThe patient will be admitted to the hospital for fluid resuscitation and close monitoring of fluid balance. Laboratory investigations, including complete blood count, electrolyte panel, renal function tests, and urine analysis, will be performed to assess the severity of dehydration and to identify any underlying electrolyte imbalances or urinary tract infection. Intravenous fluids will be administered to restore and maintain hydration. The patient's blood pressure, heart rate, urine output, and clinical status will be monitored closely during the hospital stay.\\n\\nThis admission is expected to last approximately 16.0 days based on the patient's condition and the need for fluid resuscitation and monitoring. Regular reassessment of the patient's hydration status and response to treatment will guide the duration of hospital stay.\"}"
                        ]
                    },
                    "execution_count": 29,
                    "metadata": {},
                    "output_type": "execute_result"
                }
            ],
            "source": [
                "persona_id = '4864380' # this was the dehydration patient\n",
                "note_dict[persona_id]"
            ]
        },
        {
            "cell_type": "code",
            "execution_count": 30,
            "metadata": {},
            "outputs": [
                {
                    "data": {
                        "text/plain": [
                            "('agree',\n",
                            " \"In a hospital at capacity, the decision to admit versus discharge hinges on whether a condition can be safely managed outside of the hospital setting. In this case, the patient presented with symptoms of weakness, dizziness, and decreased urine output, which are concerning for dehydration. Considering the patient's history of chronic kidney disease and recurrent urinary tract infections, there may be an increased risk of dehydration. Admitting the patient for fluid resuscitation and close monitoring of fluid balance is appropriate to ensure optimal management and prevent complications. I agree with your decision to admit the patient.\")"
                        ]
                    },
                    "execution_count": 30,
                    "metadata": {},
                    "output_type": "execute_result"
                }
            ],
            "source": [
                "from functions.verify_admission_decision import verify_admission_decision\n",
                "verify_admission_decision(note_dict[persona_id]['Admission_Note'])"
            ]
        },
        {
            "cell_type": "code",
            "execution_count": 31,
            "metadata": {},
            "outputs": [
                {
                    "data": {
                        "text/plain": [
                            "('agree',\n",
                            " \"In a hospital at capacity, the decision to admit versus discharge hinges on whether a condition can be safely managed outside of the hospital setting. In this case, the patient presents with symptoms of weakness, dizziness, and decreased urine output, which are consistent with dehydration. The patient also has a history of chronic kidney disease and recurrent urinary tract infections, which increase the risk of dehydration. Admission for fluid resuscitation and close monitoring of fluid balance is appropriate in this situation. However, it is important to regularly reassess the patient's hydration status and response to treatment to guide the duration of the hospital stay and ensure that other options such as outpatient care are considered if appropriate.\")"
                        ]
                    },
                    "execution_count": 31,
                    "metadata": {},
                    "output_type": "execute_result"
                }
            ],
            "source": [
                "from functions.verify_admission_decision import verify_admission_decision\n",
                "verify_admission_decision(note_dict[persona_id]['Admission_Note'])"
            ]
        },
        {
            "cell_type": "markdown",
            "metadata": {},
            "source": [
                "## Evaluation\n",
                "\n",
                "These results suggest that I could use a second agent to evaluate the decision of the first, and then perhaps rerun whole generation step for a given persona if the admission reason does not seem plausible. That way I might end up with a more plausible set of hospital encounters, for which I would then generate further notes.\n",
                "\n",
                "However, it is also possible that a superior version of ChatGPT (v4) would do better on the original generation task in experiment 1. Currently I'm using gpt-3.5-turbo-0613. Here I'm interested in evaluating the capability of the agent, but not necessarily attempting to accommodate every weakness. Once I have access to v4 I could retry. Therefore I will generate more notes using the approach in experiment 1, for later comparison.  "
            ]
        },
        {
            "cell_type": "markdown",
            "metadata": {},
            "source": []
        }
    ],
    "metadata": {
        "kernelspec": {
            "display_name": "env",
            "language": "python",
            "name": "python3"
        },
        "language_info": {
            "codemirror_mode": {
                "name": "ipython",
                "version": 3
            },
            "file_extension": ".py",
            "mimetype": "text/x-python",
            "name": "python",
            "nbconvert_exporter": "python",
            "pygments_lexer": "ipython3",
            "version": "3.11.4"
        },
        "orig_nbformat": 4
    },
    "nbformat": 4,
    "nbformat_minor": 2
}